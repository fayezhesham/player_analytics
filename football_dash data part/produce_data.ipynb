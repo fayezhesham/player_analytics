{
 "cells": [
  {
   "cell_type": "code",
   "execution_count": 1,
   "id": "bb0decd0-12ce-4b11-a773-740014f03620",
   "metadata": {},
   "outputs": [],
   "source": [
    "import pandas as pd\n",
    "import numpy as np\n",
    "import plotly.express as px"
   ]
  },
  {
   "cell_type": "code",
   "execution_count": 2,
   "id": "6e8e8e72-2bfe-4192-98b3-14b0f0afdb97",
   "metadata": {},
   "outputs": [],
   "source": [
    "a=pd.read_csv('data.csv')"
   ]
  },
  {
   "cell_type": "code",
   "execution_count": 3,
   "id": "f636f6d0-d30c-492f-bb4b-e66e4ab5729c",
   "metadata": {},
   "outputs": [],
   "source": [
    "b=pd.read_csv('matches.csv')"
   ]
  },
  {
   "cell_type": "code",
   "execution_count": 4,
   "id": "87a157af-70c8-4265-bc52-90da7d9f975e",
   "metadata": {},
   "outputs": [
    {
     "data": {
      "text/html": [
       "<div>\n",
       "<style scoped>\n",
       "    .dataframe tbody tr th:only-of-type {\n",
       "        vertical-align: middle;\n",
       "    }\n",
       "\n",
       "    .dataframe tbody tr th {\n",
       "        vertical-align: top;\n",
       "    }\n",
       "\n",
       "    .dataframe thead th {\n",
       "        text-align: right;\n",
       "    }\n",
       "</style>\n",
       "<table border=\"1\" class=\"dataframe\">\n",
       "  <thead>\n",
       "    <tr style=\"text-align: right;\">\n",
       "      <th></th>\n",
       "      <th>full_name</th>\n",
       "      <th>age</th>\n",
       "      <th>birthday</th>\n",
       "      <th>birthday_GMT</th>\n",
       "      <th>league</th>\n",
       "      <th>season</th>\n",
       "      <th>position</th>\n",
       "      <th>Current Club</th>\n",
       "      <th>minutes_played_overall</th>\n",
       "      <th>minutes_played_home</th>\n",
       "      <th>...</th>\n",
       "      <th>conceded_per_90_overall</th>\n",
       "      <th>min_per_conceded_overall</th>\n",
       "      <th>min_per_match</th>\n",
       "      <th>min_per_card_overall</th>\n",
       "      <th>min_per_assist_overall</th>\n",
       "      <th>cards_per_90_overall</th>\n",
       "      <th>rank_in_league_top_attackers</th>\n",
       "      <th>rank_in_league_top_midfielders</th>\n",
       "      <th>rank_in_league_top_defenders</th>\n",
       "      <th>rank_in_club_top_scorer</th>\n",
       "    </tr>\n",
       "  </thead>\n",
       "  <tbody>\n",
       "    <tr>\n",
       "      <th>0</th>\n",
       "      <td>Aaron Cresswell</td>\n",
       "      <td>32</td>\n",
       "      <td>629683200</td>\n",
       "      <td>1989/12/15</td>\n",
       "      <td>Premier League</td>\n",
       "      <td>2018/2019</td>\n",
       "      <td>Defender</td>\n",
       "      <td>West Ham</td>\n",
       "      <td>1589</td>\n",
       "      <td>888</td>\n",
       "      <td>...</td>\n",
       "      <td>1.25</td>\n",
       "      <td>72</td>\n",
       "      <td>79</td>\n",
       "      <td>1589</td>\n",
       "      <td>1589</td>\n",
       "      <td>0.06</td>\n",
       "      <td>290</td>\n",
       "      <td>191</td>\n",
       "      <td>80</td>\n",
       "      <td>20</td>\n",
       "    </tr>\n",
       "    <tr>\n",
       "      <th>1</th>\n",
       "      <td>Aaron Lennon</td>\n",
       "      <td>34</td>\n",
       "      <td>545529600</td>\n",
       "      <td>1987/04/16</td>\n",
       "      <td>Premier League</td>\n",
       "      <td>2018/2019</td>\n",
       "      <td>Midfielder</td>\n",
       "      <td>Burnley</td>\n",
       "      <td>1217</td>\n",
       "      <td>487</td>\n",
       "      <td>...</td>\n",
       "      <td>1.48</td>\n",
       "      <td>61</td>\n",
       "      <td>76</td>\n",
       "      <td>1217</td>\n",
       "      <td>1217</td>\n",
       "      <td>0.07</td>\n",
       "      <td>196</td>\n",
       "      <td>187</td>\n",
       "      <td>-1</td>\n",
       "      <td>10</td>\n",
       "    </tr>\n",
       "    <tr>\n",
       "      <th>2</th>\n",
       "      <td>Aaron Mooy</td>\n",
       "      <td>31</td>\n",
       "      <td>653356800</td>\n",
       "      <td>1990/09/15</td>\n",
       "      <td>Premier League</td>\n",
       "      <td>2018/2019</td>\n",
       "      <td>Midfielder</td>\n",
       "      <td>Huddersfield</td>\n",
       "      <td>2327</td>\n",
       "      <td>1190</td>\n",
       "      <td>...</td>\n",
       "      <td>1.78</td>\n",
       "      <td>51</td>\n",
       "      <td>80</td>\n",
       "      <td>582</td>\n",
       "      <td>2327</td>\n",
       "      <td>0.15</td>\n",
       "      <td>144</td>\n",
       "      <td>233</td>\n",
       "      <td>-1</td>\n",
       "      <td>3</td>\n",
       "    </tr>\n",
       "    <tr>\n",
       "      <th>3</th>\n",
       "      <td>Aaron Ramsey</td>\n",
       "      <td>31</td>\n",
       "      <td>662169600</td>\n",
       "      <td>1990/12/26</td>\n",
       "      <td>Premier League</td>\n",
       "      <td>2018/2019</td>\n",
       "      <td>Midfielder</td>\n",
       "      <td>Arsenal</td>\n",
       "      <td>1327</td>\n",
       "      <td>689</td>\n",
       "      <td>...</td>\n",
       "      <td>0.81</td>\n",
       "      <td>111</td>\n",
       "      <td>47</td>\n",
       "      <td>0</td>\n",
       "      <td>221</td>\n",
       "      <td>0.00</td>\n",
       "      <td>69</td>\n",
       "      <td>8</td>\n",
       "      <td>-1</td>\n",
       "      <td>5</td>\n",
       "    </tr>\n",
       "    <tr>\n",
       "      <th>4</th>\n",
       "      <td>Aaron Rowe</td>\n",
       "      <td>21</td>\n",
       "      <td>968284800</td>\n",
       "      <td>2000/09/07</td>\n",
       "      <td>Premier League</td>\n",
       "      <td>2018/2019</td>\n",
       "      <td>Forward</td>\n",
       "      <td>Huddersfield</td>\n",
       "      <td>69</td>\n",
       "      <td>14</td>\n",
       "      <td>...</td>\n",
       "      <td>1.30</td>\n",
       "      <td>69</td>\n",
       "      <td>35</td>\n",
       "      <td>0</td>\n",
       "      <td>0</td>\n",
       "      <td>0.00</td>\n",
       "      <td>-1</td>\n",
       "      <td>-1</td>\n",
       "      <td>-1</td>\n",
       "      <td>31</td>\n",
       "    </tr>\n",
       "    <tr>\n",
       "      <th>...</th>\n",
       "      <td>...</td>\n",
       "      <td>...</td>\n",
       "      <td>...</td>\n",
       "      <td>...</td>\n",
       "      <td>...</td>\n",
       "      <td>...</td>\n",
       "      <td>...</td>\n",
       "      <td>...</td>\n",
       "      <td>...</td>\n",
       "      <td>...</td>\n",
       "      <td>...</td>\n",
       "      <td>...</td>\n",
       "      <td>...</td>\n",
       "      <td>...</td>\n",
       "      <td>...</td>\n",
       "      <td>...</td>\n",
       "      <td>...</td>\n",
       "      <td>...</td>\n",
       "      <td>...</td>\n",
       "      <td>...</td>\n",
       "      <td>...</td>\n",
       "    </tr>\n",
       "    <tr>\n",
       "      <th>567</th>\n",
       "      <td>Youri Tielemans</td>\n",
       "      <td>24</td>\n",
       "      <td>862963200</td>\n",
       "      <td>1997/05/07</td>\n",
       "      <td>Premier League</td>\n",
       "      <td>2018/2019</td>\n",
       "      <td>Midfielder</td>\n",
       "      <td>Leicester</td>\n",
       "      <td>1092</td>\n",
       "      <td>575</td>\n",
       "      <td>...</td>\n",
       "      <td>1.07</td>\n",
       "      <td>84</td>\n",
       "      <td>84</td>\n",
       "      <td>546</td>\n",
       "      <td>273</td>\n",
       "      <td>0.16</td>\n",
       "      <td>80</td>\n",
       "      <td>13</td>\n",
       "      <td>-1</td>\n",
       "      <td>4</td>\n",
       "    </tr>\n",
       "    <tr>\n",
       "      <th>568</th>\n",
       "      <td>Yves Bissouma</td>\n",
       "      <td>25</td>\n",
       "      <td>841363200</td>\n",
       "      <td>1996/08/30</td>\n",
       "      <td>Premier League</td>\n",
       "      <td>2018/2019</td>\n",
       "      <td>Midfielder</td>\n",
       "      <td>Brighton</td>\n",
       "      <td>1769</td>\n",
       "      <td>747</td>\n",
       "      <td>...</td>\n",
       "      <td>1.53</td>\n",
       "      <td>59</td>\n",
       "      <td>63</td>\n",
       "      <td>354</td>\n",
       "      <td>0</td>\n",
       "      <td>0.25</td>\n",
       "      <td>402</td>\n",
       "      <td>293</td>\n",
       "      <td>-1</td>\n",
       "      <td>17</td>\n",
       "    </tr>\n",
       "    <tr>\n",
       "      <th>569</th>\n",
       "      <td>Zechariah Medley</td>\n",
       "      <td>21</td>\n",
       "      <td>962928000</td>\n",
       "      <td>2000/07/07</td>\n",
       "      <td>Premier League</td>\n",
       "      <td>2018/2019</td>\n",
       "      <td>Defender</td>\n",
       "      <td>Arsenal</td>\n",
       "      <td>0</td>\n",
       "      <td>0</td>\n",
       "      <td>...</td>\n",
       "      <td>0.00</td>\n",
       "      <td>0</td>\n",
       "      <td>0</td>\n",
       "      <td>0</td>\n",
       "      <td>0</td>\n",
       "      <td>0.00</td>\n",
       "      <td>-1</td>\n",
       "      <td>-1</td>\n",
       "      <td>-1</td>\n",
       "      <td>-1</td>\n",
       "    </tr>\n",
       "    <tr>\n",
       "      <th>570</th>\n",
       "      <td>Zeze Steven Sessegnon</td>\n",
       "      <td>21</td>\n",
       "      <td>958608000</td>\n",
       "      <td>2000/05/18</td>\n",
       "      <td>Premier League</td>\n",
       "      <td>2018/2019</td>\n",
       "      <td>Defender</td>\n",
       "      <td>Fulham</td>\n",
       "      <td>0</td>\n",
       "      <td>0</td>\n",
       "      <td>...</td>\n",
       "      <td>0.00</td>\n",
       "      <td>0</td>\n",
       "      <td>0</td>\n",
       "      <td>0</td>\n",
       "      <td>0</td>\n",
       "      <td>0.00</td>\n",
       "      <td>-1</td>\n",
       "      <td>-1</td>\n",
       "      <td>-1</td>\n",
       "      <td>-1</td>\n",
       "    </tr>\n",
       "    <tr>\n",
       "      <th>571</th>\n",
       "      <td>Łukasz Fabiański</td>\n",
       "      <td>36</td>\n",
       "      <td>482630400</td>\n",
       "      <td>1985/04/18</td>\n",
       "      <td>Premier League</td>\n",
       "      <td>2018/2019</td>\n",
       "      <td>Goalkeeper</td>\n",
       "      <td>West Ham</td>\n",
       "      <td>3420</td>\n",
       "      <td>1710</td>\n",
       "      <td>...</td>\n",
       "      <td>1.26</td>\n",
       "      <td>71</td>\n",
       "      <td>90</td>\n",
       "      <td>0</td>\n",
       "      <td>0</td>\n",
       "      <td>0.00</td>\n",
       "      <td>391</td>\n",
       "      <td>343</td>\n",
       "      <td>81</td>\n",
       "      <td>19</td>\n",
       "    </tr>\n",
       "  </tbody>\n",
       "</table>\n",
       "<p>572 rows × 47 columns</p>\n",
       "</div>"
      ],
      "text/plain": [
       "                 full_name  age   birthday birthday_GMT          league  \\\n",
       "0          Aaron Cresswell   32  629683200   1989/12/15  Premier League   \n",
       "1             Aaron Lennon   34  545529600   1987/04/16  Premier League   \n",
       "2               Aaron Mooy   31  653356800   1990/09/15  Premier League   \n",
       "3             Aaron Ramsey   31  662169600   1990/12/26  Premier League   \n",
       "4               Aaron Rowe   21  968284800   2000/09/07  Premier League   \n",
       "..                     ...  ...        ...          ...             ...   \n",
       "567        Youri Tielemans   24  862963200   1997/05/07  Premier League   \n",
       "568          Yves Bissouma   25  841363200   1996/08/30  Premier League   \n",
       "569       Zechariah Medley   21  962928000   2000/07/07  Premier League   \n",
       "570  Zeze Steven Sessegnon   21  958608000   2000/05/18  Premier League   \n",
       "571       Łukasz Fabiański   36  482630400   1985/04/18  Premier League   \n",
       "\n",
       "        season    position  Current Club  minutes_played_overall  \\\n",
       "0    2018/2019    Defender      West Ham                    1589   \n",
       "1    2018/2019  Midfielder       Burnley                    1217   \n",
       "2    2018/2019  Midfielder  Huddersfield                    2327   \n",
       "3    2018/2019  Midfielder       Arsenal                    1327   \n",
       "4    2018/2019     Forward  Huddersfield                      69   \n",
       "..         ...         ...           ...                     ...   \n",
       "567  2018/2019  Midfielder     Leicester                    1092   \n",
       "568  2018/2019  Midfielder      Brighton                    1769   \n",
       "569  2018/2019    Defender       Arsenal                       0   \n",
       "570  2018/2019    Defender        Fulham                       0   \n",
       "571  2018/2019  Goalkeeper      West Ham                    3420   \n",
       "\n",
       "     minutes_played_home  ...  conceded_per_90_overall  \\\n",
       "0                    888  ...                     1.25   \n",
       "1                    487  ...                     1.48   \n",
       "2                   1190  ...                     1.78   \n",
       "3                    689  ...                     0.81   \n",
       "4                     14  ...                     1.30   \n",
       "..                   ...  ...                      ...   \n",
       "567                  575  ...                     1.07   \n",
       "568                  747  ...                     1.53   \n",
       "569                    0  ...                     0.00   \n",
       "570                    0  ...                     0.00   \n",
       "571                 1710  ...                     1.26   \n",
       "\n",
       "    min_per_conceded_overall  min_per_match  min_per_card_overall  \\\n",
       "0                         72             79                  1589   \n",
       "1                         61             76                  1217   \n",
       "2                         51             80                   582   \n",
       "3                        111             47                     0   \n",
       "4                         69             35                     0   \n",
       "..                       ...            ...                   ...   \n",
       "567                       84             84                   546   \n",
       "568                       59             63                   354   \n",
       "569                        0              0                     0   \n",
       "570                        0              0                     0   \n",
       "571                       71             90                     0   \n",
       "\n",
       "     min_per_assist_overall  cards_per_90_overall  \\\n",
       "0                      1589                  0.06   \n",
       "1                      1217                  0.07   \n",
       "2                      2327                  0.15   \n",
       "3                       221                  0.00   \n",
       "4                         0                  0.00   \n",
       "..                      ...                   ...   \n",
       "567                     273                  0.16   \n",
       "568                       0                  0.25   \n",
       "569                       0                  0.00   \n",
       "570                       0                  0.00   \n",
       "571                       0                  0.00   \n",
       "\n",
       "     rank_in_league_top_attackers  rank_in_league_top_midfielders  \\\n",
       "0                             290                             191   \n",
       "1                             196                             187   \n",
       "2                             144                             233   \n",
       "3                              69                               8   \n",
       "4                              -1                              -1   \n",
       "..                            ...                             ...   \n",
       "567                            80                              13   \n",
       "568                           402                             293   \n",
       "569                            -1                              -1   \n",
       "570                            -1                              -1   \n",
       "571                           391                             343   \n",
       "\n",
       "     rank_in_league_top_defenders  rank_in_club_top_scorer  \n",
       "0                              80                       20  \n",
       "1                              -1                       10  \n",
       "2                              -1                        3  \n",
       "3                              -1                        5  \n",
       "4                              -1                       31  \n",
       "..                            ...                      ...  \n",
       "567                            -1                        4  \n",
       "568                            -1                       17  \n",
       "569                            -1                       -1  \n",
       "570                            -1                       -1  \n",
       "571                            81                       19  \n",
       "\n",
       "[572 rows x 47 columns]"
      ]
     },
     "execution_count": 4,
     "metadata": {},
     "output_type": "execute_result"
    }
   ],
   "source": [
    "a"
   ]
  },
  {
   "cell_type": "code",
   "execution_count": 5,
   "id": "6714e82d-a585-4d72-91bb-b4d7f4ccc52f",
   "metadata": {},
   "outputs": [
    {
     "data": {
      "text/html": [
       "<div>\n",
       "<style scoped>\n",
       "    .dataframe tbody tr th:only-of-type {\n",
       "        vertical-align: middle;\n",
       "    }\n",
       "\n",
       "    .dataframe tbody tr th {\n",
       "        vertical-align: top;\n",
       "    }\n",
       "\n",
       "    .dataframe thead th {\n",
       "        text-align: right;\n",
       "    }\n",
       "</style>\n",
       "<table border=\"1\" class=\"dataframe\">\n",
       "  <thead>\n",
       "    <tr style=\"text-align: right;\">\n",
       "      <th></th>\n",
       "      <th>Div</th>\n",
       "      <th>Date</th>\n",
       "      <th>HomeTeam</th>\n",
       "      <th>AwayTeam</th>\n",
       "      <th>FTHG</th>\n",
       "      <th>FTAG</th>\n",
       "      <th>FTR</th>\n",
       "      <th>HTHG</th>\n",
       "      <th>HTAG</th>\n",
       "      <th>HTR</th>\n",
       "      <th>...</th>\n",
       "      <th>AST</th>\n",
       "      <th>HF</th>\n",
       "      <th>AF</th>\n",
       "      <th>HC</th>\n",
       "      <th>AC</th>\n",
       "      <th>HY</th>\n",
       "      <th>AY</th>\n",
       "      <th>HR</th>\n",
       "      <th>AR</th>\n",
       "      <th>name</th>\n",
       "    </tr>\n",
       "  </thead>\n",
       "  <tbody>\n",
       "    <tr>\n",
       "      <th>0</th>\n",
       "      <td>E0</td>\n",
       "      <td>10/8/18</td>\n",
       "      <td>Man United</td>\n",
       "      <td>Leicester</td>\n",
       "      <td>2</td>\n",
       "      <td>1</td>\n",
       "      <td>H</td>\n",
       "      <td>1</td>\n",
       "      <td>0</td>\n",
       "      <td>H</td>\n",
       "      <td>...</td>\n",
       "      <td>4</td>\n",
       "      <td>11</td>\n",
       "      <td>8</td>\n",
       "      <td>2</td>\n",
       "      <td>5</td>\n",
       "      <td>2</td>\n",
       "      <td>1</td>\n",
       "      <td>0</td>\n",
       "      <td>0</td>\n",
       "      <td>Man United - Leicester</td>\n",
       "    </tr>\n",
       "    <tr>\n",
       "      <th>1</th>\n",
       "      <td>E0</td>\n",
       "      <td>11/8/18</td>\n",
       "      <td>Bournemouth</td>\n",
       "      <td>Cardiff</td>\n",
       "      <td>2</td>\n",
       "      <td>0</td>\n",
       "      <td>H</td>\n",
       "      <td>1</td>\n",
       "      <td>0</td>\n",
       "      <td>H</td>\n",
       "      <td>...</td>\n",
       "      <td>1</td>\n",
       "      <td>11</td>\n",
       "      <td>9</td>\n",
       "      <td>7</td>\n",
       "      <td>4</td>\n",
       "      <td>1</td>\n",
       "      <td>1</td>\n",
       "      <td>0</td>\n",
       "      <td>0</td>\n",
       "      <td>Bournemouth - Cardiff</td>\n",
       "    </tr>\n",
       "    <tr>\n",
       "      <th>2</th>\n",
       "      <td>E0</td>\n",
       "      <td>11/8/18</td>\n",
       "      <td>Fulham</td>\n",
       "      <td>Crystal Palace</td>\n",
       "      <td>0</td>\n",
       "      <td>2</td>\n",
       "      <td>A</td>\n",
       "      <td>0</td>\n",
       "      <td>1</td>\n",
       "      <td>A</td>\n",
       "      <td>...</td>\n",
       "      <td>9</td>\n",
       "      <td>9</td>\n",
       "      <td>11</td>\n",
       "      <td>5</td>\n",
       "      <td>5</td>\n",
       "      <td>1</td>\n",
       "      <td>2</td>\n",
       "      <td>0</td>\n",
       "      <td>0</td>\n",
       "      <td>Fulham - Crystal Palace</td>\n",
       "    </tr>\n",
       "    <tr>\n",
       "      <th>3</th>\n",
       "      <td>E0</td>\n",
       "      <td>11/8/18</td>\n",
       "      <td>Huddersfield</td>\n",
       "      <td>Chelsea</td>\n",
       "      <td>0</td>\n",
       "      <td>3</td>\n",
       "      <td>A</td>\n",
       "      <td>0</td>\n",
       "      <td>2</td>\n",
       "      <td>A</td>\n",
       "      <td>...</td>\n",
       "      <td>4</td>\n",
       "      <td>9</td>\n",
       "      <td>8</td>\n",
       "      <td>2</td>\n",
       "      <td>5</td>\n",
       "      <td>2</td>\n",
       "      <td>1</td>\n",
       "      <td>0</td>\n",
       "      <td>0</td>\n",
       "      <td>Huddersfield - Chelsea</td>\n",
       "    </tr>\n",
       "    <tr>\n",
       "      <th>4</th>\n",
       "      <td>E0</td>\n",
       "      <td>11/8/18</td>\n",
       "      <td>Newcastle</td>\n",
       "      <td>Tottenham</td>\n",
       "      <td>1</td>\n",
       "      <td>2</td>\n",
       "      <td>A</td>\n",
       "      <td>1</td>\n",
       "      <td>2</td>\n",
       "      <td>A</td>\n",
       "      <td>...</td>\n",
       "      <td>5</td>\n",
       "      <td>11</td>\n",
       "      <td>12</td>\n",
       "      <td>3</td>\n",
       "      <td>5</td>\n",
       "      <td>2</td>\n",
       "      <td>2</td>\n",
       "      <td>0</td>\n",
       "      <td>0</td>\n",
       "      <td>Newcastle - Tottenham</td>\n",
       "    </tr>\n",
       "    <tr>\n",
       "      <th>...</th>\n",
       "      <td>...</td>\n",
       "      <td>...</td>\n",
       "      <td>...</td>\n",
       "      <td>...</td>\n",
       "      <td>...</td>\n",
       "      <td>...</td>\n",
       "      <td>...</td>\n",
       "      <td>...</td>\n",
       "      <td>...</td>\n",
       "      <td>...</td>\n",
       "      <td>...</td>\n",
       "      <td>...</td>\n",
       "      <td>...</td>\n",
       "      <td>...</td>\n",
       "      <td>...</td>\n",
       "      <td>...</td>\n",
       "      <td>...</td>\n",
       "      <td>...</td>\n",
       "      <td>...</td>\n",
       "      <td>...</td>\n",
       "      <td>...</td>\n",
       "    </tr>\n",
       "    <tr>\n",
       "      <th>375</th>\n",
       "      <td>E0</td>\n",
       "      <td>12/5/19</td>\n",
       "      <td>Liverpool</td>\n",
       "      <td>Wolves</td>\n",
       "      <td>2</td>\n",
       "      <td>0</td>\n",
       "      <td>H</td>\n",
       "      <td>1</td>\n",
       "      <td>0</td>\n",
       "      <td>H</td>\n",
       "      <td>...</td>\n",
       "      <td>2</td>\n",
       "      <td>3</td>\n",
       "      <td>11</td>\n",
       "      <td>4</td>\n",
       "      <td>1</td>\n",
       "      <td>0</td>\n",
       "      <td>2</td>\n",
       "      <td>0</td>\n",
       "      <td>0</td>\n",
       "      <td>Liverpool - Wolves</td>\n",
       "    </tr>\n",
       "    <tr>\n",
       "      <th>376</th>\n",
       "      <td>E0</td>\n",
       "      <td>12/5/19</td>\n",
       "      <td>Man United</td>\n",
       "      <td>Cardiff</td>\n",
       "      <td>0</td>\n",
       "      <td>2</td>\n",
       "      <td>A</td>\n",
       "      <td>0</td>\n",
       "      <td>1</td>\n",
       "      <td>A</td>\n",
       "      <td>...</td>\n",
       "      <td>4</td>\n",
       "      <td>9</td>\n",
       "      <td>6</td>\n",
       "      <td>11</td>\n",
       "      <td>2</td>\n",
       "      <td>3</td>\n",
       "      <td>3</td>\n",
       "      <td>0</td>\n",
       "      <td>0</td>\n",
       "      <td>Man United - Cardiff</td>\n",
       "    </tr>\n",
       "    <tr>\n",
       "      <th>377</th>\n",
       "      <td>E0</td>\n",
       "      <td>12/5/19</td>\n",
       "      <td>Southampton</td>\n",
       "      <td>Huddersfield</td>\n",
       "      <td>1</td>\n",
       "      <td>1</td>\n",
       "      <td>D</td>\n",
       "      <td>1</td>\n",
       "      <td>0</td>\n",
       "      <td>H</td>\n",
       "      <td>...</td>\n",
       "      <td>3</td>\n",
       "      <td>8</td>\n",
       "      <td>6</td>\n",
       "      <td>4</td>\n",
       "      <td>3</td>\n",
       "      <td>0</td>\n",
       "      <td>1</td>\n",
       "      <td>0</td>\n",
       "      <td>0</td>\n",
       "      <td>Southampton - Huddersfield</td>\n",
       "    </tr>\n",
       "    <tr>\n",
       "      <th>378</th>\n",
       "      <td>E0</td>\n",
       "      <td>12/5/19</td>\n",
       "      <td>Tottenham</td>\n",
       "      <td>Everton</td>\n",
       "      <td>2</td>\n",
       "      <td>2</td>\n",
       "      <td>D</td>\n",
       "      <td>1</td>\n",
       "      <td>0</td>\n",
       "      <td>H</td>\n",
       "      <td>...</td>\n",
       "      <td>9</td>\n",
       "      <td>10</td>\n",
       "      <td>13</td>\n",
       "      <td>7</td>\n",
       "      <td>4</td>\n",
       "      <td>0</td>\n",
       "      <td>2</td>\n",
       "      <td>0</td>\n",
       "      <td>0</td>\n",
       "      <td>Tottenham - Everton</td>\n",
       "    </tr>\n",
       "    <tr>\n",
       "      <th>379</th>\n",
       "      <td>E0</td>\n",
       "      <td>12/5/19</td>\n",
       "      <td>Watford</td>\n",
       "      <td>West Ham</td>\n",
       "      <td>1</td>\n",
       "      <td>4</td>\n",
       "      <td>A</td>\n",
       "      <td>0</td>\n",
       "      <td>2</td>\n",
       "      <td>A</td>\n",
       "      <td>...</td>\n",
       "      <td>9</td>\n",
       "      <td>10</td>\n",
       "      <td>10</td>\n",
       "      <td>7</td>\n",
       "      <td>2</td>\n",
       "      <td>1</td>\n",
       "      <td>0</td>\n",
       "      <td>1</td>\n",
       "      <td>0</td>\n",
       "      <td>Watford - West Ham</td>\n",
       "    </tr>\n",
       "  </tbody>\n",
       "</table>\n",
       "<p>380 rows × 24 columns</p>\n",
       "</div>"
      ],
      "text/plain": [
       "    Div     Date      HomeTeam        AwayTeam  FTHG  FTAG FTR  HTHG  HTAG  \\\n",
       "0    E0  10/8/18    Man United       Leicester     2     1   H     1     0   \n",
       "1    E0  11/8/18   Bournemouth         Cardiff     2     0   H     1     0   \n",
       "2    E0  11/8/18        Fulham  Crystal Palace     0     2   A     0     1   \n",
       "3    E0  11/8/18  Huddersfield         Chelsea     0     3   A     0     2   \n",
       "4    E0  11/8/18     Newcastle       Tottenham     1     2   A     1     2   \n",
       "..   ..      ...           ...             ...   ...   ...  ..   ...   ...   \n",
       "375  E0  12/5/19     Liverpool          Wolves     2     0   H     1     0   \n",
       "376  E0  12/5/19    Man United         Cardiff     0     2   A     0     1   \n",
       "377  E0  12/5/19   Southampton    Huddersfield     1     1   D     1     0   \n",
       "378  E0  12/5/19     Tottenham         Everton     2     2   D     1     0   \n",
       "379  E0  12/5/19       Watford        West Ham     1     4   A     0     2   \n",
       "\n",
       "    HTR  ... AST  HF  AF  HC  AC  HY  AY  HR  AR                        name  \n",
       "0     H  ...   4  11   8   2   5   2   1   0   0      Man United - Leicester  \n",
       "1     H  ...   1  11   9   7   4   1   1   0   0       Bournemouth - Cardiff  \n",
       "2     A  ...   9   9  11   5   5   1   2   0   0     Fulham - Crystal Palace  \n",
       "3     A  ...   4   9   8   2   5   2   1   0   0      Huddersfield - Chelsea  \n",
       "4     A  ...   5  11  12   3   5   2   2   0   0       Newcastle - Tottenham  \n",
       "..   ..  ...  ..  ..  ..  ..  ..  ..  ..  ..  ..                         ...  \n",
       "375   H  ...   2   3  11   4   1   0   2   0   0          Liverpool - Wolves  \n",
       "376   A  ...   4   9   6  11   2   3   3   0   0        Man United - Cardiff  \n",
       "377   H  ...   3   8   6   4   3   0   1   0   0  Southampton - Huddersfield  \n",
       "378   H  ...   9  10  13   7   4   0   2   0   0         Tottenham - Everton  \n",
       "379   A  ...   9  10  10   7   2   1   0   1   0          Watford - West Ham  \n",
       "\n",
       "[380 rows x 24 columns]"
      ]
     },
     "execution_count": 5,
     "metadata": {},
     "output_type": "execute_result"
    }
   ],
   "source": [
    "b"
   ]
  },
  {
   "cell_type": "code",
   "execution_count": 6,
   "id": "f713f3e2-cb9d-425b-a638-ae694c19446a",
   "metadata": {},
   "outputs": [
    {
     "name": "stderr",
     "output_type": "stream",
     "text": [
      "C:\\Users\\Fayez\\AppData\\Local\\Temp/ipykernel_11856/3160450917.py:4: SettingWithCopyWarning: \n",
      "A value is trying to be set on a copy of a slice from a DataFrame.\n",
      "Try using .loc[row_indexer,col_indexer] = value instead\n",
      "\n",
      "See the caveats in the documentation: https://pandas.pydata.org/pandas-docs/stable/user_guide/indexing.html#returning-a-view-versus-a-copy\n",
      "  matches['team'] = team\n"
     ]
    }
   ],
   "source": [
    "c=pd.DataFrame()\n",
    "for team in a['Current Club'].unique():\n",
    "    matches=b[b['name'].str.contains(team)]\n",
    "    matches['team'] = team\n",
    "    c=c.append(matches)"
   ]
  },
  {
   "cell_type": "code",
   "execution_count": 7,
   "id": "ca31e28c-2082-495b-a70d-cc7c1b01fcd2",
   "metadata": {},
   "outputs": [
    {
     "data": {
      "text/html": [
       "<div>\n",
       "<style scoped>\n",
       "    .dataframe tbody tr th:only-of-type {\n",
       "        vertical-align: middle;\n",
       "    }\n",
       "\n",
       "    .dataframe tbody tr th {\n",
       "        vertical-align: top;\n",
       "    }\n",
       "\n",
       "    .dataframe thead th {\n",
       "        text-align: right;\n",
       "    }\n",
       "</style>\n",
       "<table border=\"1\" class=\"dataframe\">\n",
       "  <thead>\n",
       "    <tr style=\"text-align: right;\">\n",
       "      <th></th>\n",
       "      <th>Div</th>\n",
       "      <th>Date</th>\n",
       "      <th>HomeTeam</th>\n",
       "      <th>AwayTeam</th>\n",
       "      <th>FTHG</th>\n",
       "      <th>FTAG</th>\n",
       "      <th>FTR</th>\n",
       "      <th>HTHG</th>\n",
       "      <th>HTAG</th>\n",
       "      <th>HTR</th>\n",
       "      <th>...</th>\n",
       "      <th>HF</th>\n",
       "      <th>AF</th>\n",
       "      <th>HC</th>\n",
       "      <th>AC</th>\n",
       "      <th>HY</th>\n",
       "      <th>AY</th>\n",
       "      <th>HR</th>\n",
       "      <th>AR</th>\n",
       "      <th>name</th>\n",
       "      <th>team</th>\n",
       "    </tr>\n",
       "  </thead>\n",
       "  <tbody>\n",
       "    <tr>\n",
       "      <th>8</th>\n",
       "      <td>E0</td>\n",
       "      <td>12/8/18</td>\n",
       "      <td>Liverpool</td>\n",
       "      <td>West Ham</td>\n",
       "      <td>4</td>\n",
       "      <td>0</td>\n",
       "      <td>H</td>\n",
       "      <td>2</td>\n",
       "      <td>0</td>\n",
       "      <td>H</td>\n",
       "      <td>...</td>\n",
       "      <td>14</td>\n",
       "      <td>9</td>\n",
       "      <td>5</td>\n",
       "      <td>4</td>\n",
       "      <td>1</td>\n",
       "      <td>2</td>\n",
       "      <td>0</td>\n",
       "      <td>0</td>\n",
       "      <td>Liverpool - West Ham</td>\n",
       "      <td>West Ham</td>\n",
       "    </tr>\n",
       "    <tr>\n",
       "      <th>15</th>\n",
       "      <td>E0</td>\n",
       "      <td>18/08/2018</td>\n",
       "      <td>West Ham</td>\n",
       "      <td>Bournemouth</td>\n",
       "      <td>1</td>\n",
       "      <td>2</td>\n",
       "      <td>A</td>\n",
       "      <td>1</td>\n",
       "      <td>0</td>\n",
       "      <td>H</td>\n",
       "      <td>...</td>\n",
       "      <td>14</td>\n",
       "      <td>10</td>\n",
       "      <td>6</td>\n",
       "      <td>4</td>\n",
       "      <td>6</td>\n",
       "      <td>2</td>\n",
       "      <td>0</td>\n",
       "      <td>0</td>\n",
       "      <td>West Ham - Bournemouth</td>\n",
       "      <td>West Ham</td>\n",
       "    </tr>\n",
       "    <tr>\n",
       "      <th>20</th>\n",
       "      <td>E0</td>\n",
       "      <td>25/08/2018</td>\n",
       "      <td>Arsenal</td>\n",
       "      <td>West Ham</td>\n",
       "      <td>3</td>\n",
       "      <td>1</td>\n",
       "      <td>H</td>\n",
       "      <td>1</td>\n",
       "      <td>1</td>\n",
       "      <td>D</td>\n",
       "      <td>...</td>\n",
       "      <td>16</td>\n",
       "      <td>13</td>\n",
       "      <td>10</td>\n",
       "      <td>2</td>\n",
       "      <td>1</td>\n",
       "      <td>3</td>\n",
       "      <td>0</td>\n",
       "      <td>0</td>\n",
       "      <td>Arsenal - West Ham</td>\n",
       "      <td>West Ham</td>\n",
       "    </tr>\n",
       "    <tr>\n",
       "      <th>36</th>\n",
       "      <td>E0</td>\n",
       "      <td>1/9/18</td>\n",
       "      <td>West Ham</td>\n",
       "      <td>Wolves</td>\n",
       "      <td>0</td>\n",
       "      <td>1</td>\n",
       "      <td>A</td>\n",
       "      <td>0</td>\n",
       "      <td>0</td>\n",
       "      <td>D</td>\n",
       "      <td>...</td>\n",
       "      <td>10</td>\n",
       "      <td>11</td>\n",
       "      <td>4</td>\n",
       "      <td>4</td>\n",
       "      <td>2</td>\n",
       "      <td>1</td>\n",
       "      <td>0</td>\n",
       "      <td>0</td>\n",
       "      <td>West Ham - Wolves</td>\n",
       "      <td>West Ham</td>\n",
       "    </tr>\n",
       "    <tr>\n",
       "      <th>47</th>\n",
       "      <td>E0</td>\n",
       "      <td>16/09/2018</td>\n",
       "      <td>Everton</td>\n",
       "      <td>West Ham</td>\n",
       "      <td>1</td>\n",
       "      <td>3</td>\n",
       "      <td>A</td>\n",
       "      <td>1</td>\n",
       "      <td>2</td>\n",
       "      <td>A</td>\n",
       "      <td>...</td>\n",
       "      <td>15</td>\n",
       "      <td>12</td>\n",
       "      <td>4</td>\n",
       "      <td>2</td>\n",
       "      <td>2</td>\n",
       "      <td>5</td>\n",
       "      <td>0</td>\n",
       "      <td>0</td>\n",
       "      <td>Everton - West Ham</td>\n",
       "      <td>West Ham</td>\n",
       "    </tr>\n",
       "    <tr>\n",
       "      <th>...</th>\n",
       "      <td>...</td>\n",
       "      <td>...</td>\n",
       "      <td>...</td>\n",
       "      <td>...</td>\n",
       "      <td>...</td>\n",
       "      <td>...</td>\n",
       "      <td>...</td>\n",
       "      <td>...</td>\n",
       "      <td>...</td>\n",
       "      <td>...</td>\n",
       "      <td>...</td>\n",
       "      <td>...</td>\n",
       "      <td>...</td>\n",
       "      <td>...</td>\n",
       "      <td>...</td>\n",
       "      <td>...</td>\n",
       "      <td>...</td>\n",
       "      <td>...</td>\n",
       "      <td>...</td>\n",
       "      <td>...</td>\n",
       "      <td>...</td>\n",
       "    </tr>\n",
       "    <tr>\n",
       "      <th>338</th>\n",
       "      <td>E0</td>\n",
       "      <td>20/04/2019</td>\n",
       "      <td>Man City</td>\n",
       "      <td>Tottenham</td>\n",
       "      <td>1</td>\n",
       "      <td>0</td>\n",
       "      <td>H</td>\n",
       "      <td>1</td>\n",
       "      <td>0</td>\n",
       "      <td>H</td>\n",
       "      <td>...</td>\n",
       "      <td>11</td>\n",
       "      <td>11</td>\n",
       "      <td>4</td>\n",
       "      <td>4</td>\n",
       "      <td>1</td>\n",
       "      <td>2</td>\n",
       "      <td>0</td>\n",
       "      <td>0</td>\n",
       "      <td>Man City - Tottenham</td>\n",
       "      <td>Man City</td>\n",
       "    </tr>\n",
       "    <tr>\n",
       "      <th>348</th>\n",
       "      <td>E0</td>\n",
       "      <td>24/04/2019</td>\n",
       "      <td>Man United</td>\n",
       "      <td>Man City</td>\n",
       "      <td>0</td>\n",
       "      <td>2</td>\n",
       "      <td>A</td>\n",
       "      <td>0</td>\n",
       "      <td>0</td>\n",
       "      <td>D</td>\n",
       "      <td>...</td>\n",
       "      <td>10</td>\n",
       "      <td>10</td>\n",
       "      <td>1</td>\n",
       "      <td>1</td>\n",
       "      <td>2</td>\n",
       "      <td>2</td>\n",
       "      <td>0</td>\n",
       "      <td>0</td>\n",
       "      <td>Man United - Man City</td>\n",
       "      <td>Man City</td>\n",
       "    </tr>\n",
       "    <tr>\n",
       "      <th>357</th>\n",
       "      <td>E0</td>\n",
       "      <td>28/04/2019</td>\n",
       "      <td>Burnley</td>\n",
       "      <td>Man City</td>\n",
       "      <td>0</td>\n",
       "      <td>1</td>\n",
       "      <td>A</td>\n",
       "      <td>0</td>\n",
       "      <td>0</td>\n",
       "      <td>D</td>\n",
       "      <td>...</td>\n",
       "      <td>5</td>\n",
       "      <td>7</td>\n",
       "      <td>0</td>\n",
       "      <td>6</td>\n",
       "      <td>1</td>\n",
       "      <td>1</td>\n",
       "      <td>0</td>\n",
       "      <td>0</td>\n",
       "      <td>Burnley - Man City</td>\n",
       "      <td>Man City</td>\n",
       "    </tr>\n",
       "    <tr>\n",
       "      <th>369</th>\n",
       "      <td>E0</td>\n",
       "      <td>6/5/19</td>\n",
       "      <td>Man City</td>\n",
       "      <td>Leicester</td>\n",
       "      <td>1</td>\n",
       "      <td>0</td>\n",
       "      <td>H</td>\n",
       "      <td>0</td>\n",
       "      <td>0</td>\n",
       "      <td>D</td>\n",
       "      <td>...</td>\n",
       "      <td>12</td>\n",
       "      <td>5</td>\n",
       "      <td>11</td>\n",
       "      <td>0</td>\n",
       "      <td>3</td>\n",
       "      <td>2</td>\n",
       "      <td>0</td>\n",
       "      <td>0</td>\n",
       "      <td>Man City - Leicester</td>\n",
       "      <td>Man City</td>\n",
       "    </tr>\n",
       "    <tr>\n",
       "      <th>370</th>\n",
       "      <td>E0</td>\n",
       "      <td>12/5/19</td>\n",
       "      <td>Brighton</td>\n",
       "      <td>Man City</td>\n",
       "      <td>1</td>\n",
       "      <td>4</td>\n",
       "      <td>A</td>\n",
       "      <td>1</td>\n",
       "      <td>2</td>\n",
       "      <td>A</td>\n",
       "      <td>...</td>\n",
       "      <td>12</td>\n",
       "      <td>8</td>\n",
       "      <td>2</td>\n",
       "      <td>6</td>\n",
       "      <td>0</td>\n",
       "      <td>0</td>\n",
       "      <td>0</td>\n",
       "      <td>0</td>\n",
       "      <td>Brighton - Man City</td>\n",
       "      <td>Man City</td>\n",
       "    </tr>\n",
       "  </tbody>\n",
       "</table>\n",
       "<p>760 rows × 25 columns</p>\n",
       "</div>"
      ],
      "text/plain": [
       "    Div        Date    HomeTeam     AwayTeam  FTHG  FTAG FTR  HTHG  HTAG HTR  \\\n",
       "8    E0     12/8/18   Liverpool     West Ham     4     0   H     2     0   H   \n",
       "15   E0  18/08/2018    West Ham  Bournemouth     1     2   A     1     0   H   \n",
       "20   E0  25/08/2018     Arsenal     West Ham     3     1   H     1     1   D   \n",
       "36   E0      1/9/18    West Ham       Wolves     0     1   A     0     0   D   \n",
       "47   E0  16/09/2018     Everton     West Ham     1     3   A     1     2   A   \n",
       "..   ..         ...         ...          ...   ...   ...  ..   ...   ...  ..   \n",
       "338  E0  20/04/2019    Man City    Tottenham     1     0   H     1     0   H   \n",
       "348  E0  24/04/2019  Man United     Man City     0     2   A     0     0   D   \n",
       "357  E0  28/04/2019     Burnley     Man City     0     1   A     0     0   D   \n",
       "369  E0      6/5/19    Man City    Leicester     1     0   H     0     0   D   \n",
       "370  E0     12/5/19    Brighton     Man City     1     4   A     1     2   A   \n",
       "\n",
       "     ...  HF  AF  HC  AC  HY  AY  HR  AR                    name      team  \n",
       "8    ...  14   9   5   4   1   2   0   0    Liverpool - West Ham  West Ham  \n",
       "15   ...  14  10   6   4   6   2   0   0  West Ham - Bournemouth  West Ham  \n",
       "20   ...  16  13  10   2   1   3   0   0      Arsenal - West Ham  West Ham  \n",
       "36   ...  10  11   4   4   2   1   0   0       West Ham - Wolves  West Ham  \n",
       "47   ...  15  12   4   2   2   5   0   0      Everton - West Ham  West Ham  \n",
       "..   ...  ..  ..  ..  ..  ..  ..  ..  ..                     ...       ...  \n",
       "338  ...  11  11   4   4   1   2   0   0    Man City - Tottenham  Man City  \n",
       "348  ...  10  10   1   1   2   2   0   0   Man United - Man City  Man City  \n",
       "357  ...   5   7   0   6   1   1   0   0      Burnley - Man City  Man City  \n",
       "369  ...  12   5  11   0   3   2   0   0    Man City - Leicester  Man City  \n",
       "370  ...  12   8   2   6   0   0   0   0     Brighton - Man City  Man City  \n",
       "\n",
       "[760 rows x 25 columns]"
      ]
     },
     "execution_count": 7,
     "metadata": {},
     "output_type": "execute_result"
    }
   ],
   "source": [
    "c"
   ]
  },
  {
   "cell_type": "code",
   "execution_count": 8,
   "id": "45c2ea43-b793-414a-a008-9a12b892a011",
   "metadata": {},
   "outputs": [
    {
     "name": "stderr",
     "output_type": "stream",
     "text": [
      "C:\\Users\\Fayez\\AppData\\Local\\Temp/ipykernel_11856/595662809.py:6: SettingWithCopyWarning: \n",
      "A value is trying to be set on a copy of a slice from a DataFrame.\n",
      "Try using .loc[row_indexer,col_indexer] = value instead\n",
      "\n",
      "See the caveats in the documentation: https://pandas.pydata.org/pandas-docs/stable/user_guide/indexing.html#returning-a-view-versus-a-copy\n",
      "  matches['player'] = p\n"
     ]
    }
   ],
   "source": [
    "d=pd.DataFrame()\n",
    "for player in a['full_name'].unique():\n",
    "    p=player\n",
    "    t=str(list(a['Current Club'][a['full_name'] == p])[0])\n",
    "    matches=c[c['team'] == t]\n",
    "    matches['player'] = p\n",
    "    d=d.append(matches)"
   ]
  },
  {
   "cell_type": "code",
   "execution_count": 9,
   "id": "deb4a65b-b8b1-4dc7-9c8e-49d657030eea",
   "metadata": {},
   "outputs": [
    {
     "data": {
      "text/html": [
       "<div>\n",
       "<style scoped>\n",
       "    .dataframe tbody tr th:only-of-type {\n",
       "        vertical-align: middle;\n",
       "    }\n",
       "\n",
       "    .dataframe tbody tr th {\n",
       "        vertical-align: top;\n",
       "    }\n",
       "\n",
       "    .dataframe thead th {\n",
       "        text-align: right;\n",
       "    }\n",
       "</style>\n",
       "<table border=\"1\" class=\"dataframe\">\n",
       "  <thead>\n",
       "    <tr style=\"text-align: right;\">\n",
       "      <th></th>\n",
       "      <th>Div</th>\n",
       "      <th>Date</th>\n",
       "      <th>HomeTeam</th>\n",
       "      <th>AwayTeam</th>\n",
       "      <th>FTHG</th>\n",
       "      <th>FTAG</th>\n",
       "      <th>FTR</th>\n",
       "      <th>HTHG</th>\n",
       "      <th>HTAG</th>\n",
       "      <th>HTR</th>\n",
       "      <th>...</th>\n",
       "      <th>AF</th>\n",
       "      <th>HC</th>\n",
       "      <th>AC</th>\n",
       "      <th>HY</th>\n",
       "      <th>AY</th>\n",
       "      <th>HR</th>\n",
       "      <th>AR</th>\n",
       "      <th>name</th>\n",
       "      <th>team</th>\n",
       "      <th>player</th>\n",
       "    </tr>\n",
       "  </thead>\n",
       "  <tbody>\n",
       "    <tr>\n",
       "      <th>8</th>\n",
       "      <td>E0</td>\n",
       "      <td>12/8/18</td>\n",
       "      <td>Liverpool</td>\n",
       "      <td>West Ham</td>\n",
       "      <td>4</td>\n",
       "      <td>0</td>\n",
       "      <td>H</td>\n",
       "      <td>2</td>\n",
       "      <td>0</td>\n",
       "      <td>H</td>\n",
       "      <td>...</td>\n",
       "      <td>9</td>\n",
       "      <td>5</td>\n",
       "      <td>4</td>\n",
       "      <td>1</td>\n",
       "      <td>2</td>\n",
       "      <td>0</td>\n",
       "      <td>0</td>\n",
       "      <td>Liverpool - West Ham</td>\n",
       "      <td>West Ham</td>\n",
       "      <td>Aaron Cresswell</td>\n",
       "    </tr>\n",
       "    <tr>\n",
       "      <th>15</th>\n",
       "      <td>E0</td>\n",
       "      <td>18/08/2018</td>\n",
       "      <td>West Ham</td>\n",
       "      <td>Bournemouth</td>\n",
       "      <td>1</td>\n",
       "      <td>2</td>\n",
       "      <td>A</td>\n",
       "      <td>1</td>\n",
       "      <td>0</td>\n",
       "      <td>H</td>\n",
       "      <td>...</td>\n",
       "      <td>10</td>\n",
       "      <td>6</td>\n",
       "      <td>4</td>\n",
       "      <td>6</td>\n",
       "      <td>2</td>\n",
       "      <td>0</td>\n",
       "      <td>0</td>\n",
       "      <td>West Ham - Bournemouth</td>\n",
       "      <td>West Ham</td>\n",
       "      <td>Aaron Cresswell</td>\n",
       "    </tr>\n",
       "    <tr>\n",
       "      <th>20</th>\n",
       "      <td>E0</td>\n",
       "      <td>25/08/2018</td>\n",
       "      <td>Arsenal</td>\n",
       "      <td>West Ham</td>\n",
       "      <td>3</td>\n",
       "      <td>1</td>\n",
       "      <td>H</td>\n",
       "      <td>1</td>\n",
       "      <td>1</td>\n",
       "      <td>D</td>\n",
       "      <td>...</td>\n",
       "      <td>13</td>\n",
       "      <td>10</td>\n",
       "      <td>2</td>\n",
       "      <td>1</td>\n",
       "      <td>3</td>\n",
       "      <td>0</td>\n",
       "      <td>0</td>\n",
       "      <td>Arsenal - West Ham</td>\n",
       "      <td>West Ham</td>\n",
       "      <td>Aaron Cresswell</td>\n",
       "    </tr>\n",
       "    <tr>\n",
       "      <th>36</th>\n",
       "      <td>E0</td>\n",
       "      <td>1/9/18</td>\n",
       "      <td>West Ham</td>\n",
       "      <td>Wolves</td>\n",
       "      <td>0</td>\n",
       "      <td>1</td>\n",
       "      <td>A</td>\n",
       "      <td>0</td>\n",
       "      <td>0</td>\n",
       "      <td>D</td>\n",
       "      <td>...</td>\n",
       "      <td>11</td>\n",
       "      <td>4</td>\n",
       "      <td>4</td>\n",
       "      <td>2</td>\n",
       "      <td>1</td>\n",
       "      <td>0</td>\n",
       "      <td>0</td>\n",
       "      <td>West Ham - Wolves</td>\n",
       "      <td>West Ham</td>\n",
       "      <td>Aaron Cresswell</td>\n",
       "    </tr>\n",
       "    <tr>\n",
       "      <th>47</th>\n",
       "      <td>E0</td>\n",
       "      <td>16/09/2018</td>\n",
       "      <td>Everton</td>\n",
       "      <td>West Ham</td>\n",
       "      <td>1</td>\n",
       "      <td>3</td>\n",
       "      <td>A</td>\n",
       "      <td>1</td>\n",
       "      <td>2</td>\n",
       "      <td>A</td>\n",
       "      <td>...</td>\n",
       "      <td>12</td>\n",
       "      <td>4</td>\n",
       "      <td>2</td>\n",
       "      <td>2</td>\n",
       "      <td>5</td>\n",
       "      <td>0</td>\n",
       "      <td>0</td>\n",
       "      <td>Everton - West Ham</td>\n",
       "      <td>West Ham</td>\n",
       "      <td>Aaron Cresswell</td>\n",
       "    </tr>\n",
       "    <tr>\n",
       "      <th>...</th>\n",
       "      <td>...</td>\n",
       "      <td>...</td>\n",
       "      <td>...</td>\n",
       "      <td>...</td>\n",
       "      <td>...</td>\n",
       "      <td>...</td>\n",
       "      <td>...</td>\n",
       "      <td>...</td>\n",
       "      <td>...</td>\n",
       "      <td>...</td>\n",
       "      <td>...</td>\n",
       "      <td>...</td>\n",
       "      <td>...</td>\n",
       "      <td>...</td>\n",
       "      <td>...</td>\n",
       "      <td>...</td>\n",
       "      <td>...</td>\n",
       "      <td>...</td>\n",
       "      <td>...</td>\n",
       "      <td>...</td>\n",
       "      <td>...</td>\n",
       "    </tr>\n",
       "    <tr>\n",
       "      <th>329</th>\n",
       "      <td>E0</td>\n",
       "      <td>13/04/2019</td>\n",
       "      <td>Man United</td>\n",
       "      <td>West Ham</td>\n",
       "      <td>2</td>\n",
       "      <td>1</td>\n",
       "      <td>H</td>\n",
       "      <td>1</td>\n",
       "      <td>0</td>\n",
       "      <td>H</td>\n",
       "      <td>...</td>\n",
       "      <td>5</td>\n",
       "      <td>3</td>\n",
       "      <td>11</td>\n",
       "      <td>1</td>\n",
       "      <td>1</td>\n",
       "      <td>0</td>\n",
       "      <td>0</td>\n",
       "      <td>Man United - West Ham</td>\n",
       "      <td>West Ham</td>\n",
       "      <td>Łukasz Fabiański</td>\n",
       "    </tr>\n",
       "    <tr>\n",
       "      <th>340</th>\n",
       "      <td>E0</td>\n",
       "      <td>20/04/2019</td>\n",
       "      <td>West Ham</td>\n",
       "      <td>Leicester</td>\n",
       "      <td>2</td>\n",
       "      <td>2</td>\n",
       "      <td>D</td>\n",
       "      <td>1</td>\n",
       "      <td>0</td>\n",
       "      <td>H</td>\n",
       "      <td>...</td>\n",
       "      <td>9</td>\n",
       "      <td>6</td>\n",
       "      <td>8</td>\n",
       "      <td>2</td>\n",
       "      <td>0</td>\n",
       "      <td>0</td>\n",
       "      <td>0</td>\n",
       "      <td>West Ham - Leicester</td>\n",
       "      <td>West Ham</td>\n",
       "      <td>Łukasz Fabiański</td>\n",
       "    </tr>\n",
       "    <tr>\n",
       "      <th>355</th>\n",
       "      <td>E0</td>\n",
       "      <td>27/04/2019</td>\n",
       "      <td>Tottenham</td>\n",
       "      <td>West Ham</td>\n",
       "      <td>0</td>\n",
       "      <td>1</td>\n",
       "      <td>A</td>\n",
       "      <td>0</td>\n",
       "      <td>0</td>\n",
       "      <td>D</td>\n",
       "      <td>...</td>\n",
       "      <td>8</td>\n",
       "      <td>2</td>\n",
       "      <td>7</td>\n",
       "      <td>0</td>\n",
       "      <td>2</td>\n",
       "      <td>0</td>\n",
       "      <td>0</td>\n",
       "      <td>Tottenham - West Ham</td>\n",
       "      <td>West Ham</td>\n",
       "      <td>Łukasz Fabiański</td>\n",
       "    </tr>\n",
       "    <tr>\n",
       "      <th>364</th>\n",
       "      <td>E0</td>\n",
       "      <td>4/5/19</td>\n",
       "      <td>West Ham</td>\n",
       "      <td>Southampton</td>\n",
       "      <td>3</td>\n",
       "      <td>0</td>\n",
       "      <td>H</td>\n",
       "      <td>1</td>\n",
       "      <td>0</td>\n",
       "      <td>H</td>\n",
       "      <td>...</td>\n",
       "      <td>11</td>\n",
       "      <td>2</td>\n",
       "      <td>7</td>\n",
       "      <td>1</td>\n",
       "      <td>1</td>\n",
       "      <td>0</td>\n",
       "      <td>0</td>\n",
       "      <td>West Ham - Southampton</td>\n",
       "      <td>West Ham</td>\n",
       "      <td>Łukasz Fabiański</td>\n",
       "    </tr>\n",
       "    <tr>\n",
       "      <th>379</th>\n",
       "      <td>E0</td>\n",
       "      <td>12/5/19</td>\n",
       "      <td>Watford</td>\n",
       "      <td>West Ham</td>\n",
       "      <td>1</td>\n",
       "      <td>4</td>\n",
       "      <td>A</td>\n",
       "      <td>0</td>\n",
       "      <td>2</td>\n",
       "      <td>A</td>\n",
       "      <td>...</td>\n",
       "      <td>10</td>\n",
       "      <td>7</td>\n",
       "      <td>2</td>\n",
       "      <td>1</td>\n",
       "      <td>0</td>\n",
       "      <td>1</td>\n",
       "      <td>0</td>\n",
       "      <td>Watford - West Ham</td>\n",
       "      <td>West Ham</td>\n",
       "      <td>Łukasz Fabiański</td>\n",
       "    </tr>\n",
       "  </tbody>\n",
       "</table>\n",
       "<p>21698 rows × 26 columns</p>\n",
       "</div>"
      ],
      "text/plain": [
       "    Div        Date    HomeTeam     AwayTeam  FTHG  FTAG FTR  HTHG  HTAG HTR  \\\n",
       "8    E0     12/8/18   Liverpool     West Ham     4     0   H     2     0   H   \n",
       "15   E0  18/08/2018    West Ham  Bournemouth     1     2   A     1     0   H   \n",
       "20   E0  25/08/2018     Arsenal     West Ham     3     1   H     1     1   D   \n",
       "36   E0      1/9/18    West Ham       Wolves     0     1   A     0     0   D   \n",
       "47   E0  16/09/2018     Everton     West Ham     1     3   A     1     2   A   \n",
       "..   ..         ...         ...          ...   ...   ...  ..   ...   ...  ..   \n",
       "329  E0  13/04/2019  Man United     West Ham     2     1   H     1     0   H   \n",
       "340  E0  20/04/2019    West Ham    Leicester     2     2   D     1     0   H   \n",
       "355  E0  27/04/2019   Tottenham     West Ham     0     1   A     0     0   D   \n",
       "364  E0      4/5/19    West Ham  Southampton     3     0   H     1     0   H   \n",
       "379  E0     12/5/19     Watford     West Ham     1     4   A     0     2   A   \n",
       "\n",
       "     ...  AF  HC  AC  HY  AY  HR  AR                    name      team  \\\n",
       "8    ...   9   5   4   1   2   0   0    Liverpool - West Ham  West Ham   \n",
       "15   ...  10   6   4   6   2   0   0  West Ham - Bournemouth  West Ham   \n",
       "20   ...  13  10   2   1   3   0   0      Arsenal - West Ham  West Ham   \n",
       "36   ...  11   4   4   2   1   0   0       West Ham - Wolves  West Ham   \n",
       "47   ...  12   4   2   2   5   0   0      Everton - West Ham  West Ham   \n",
       "..   ...  ..  ..  ..  ..  ..  ..  ..                     ...       ...   \n",
       "329  ...   5   3  11   1   1   0   0   Man United - West Ham  West Ham   \n",
       "340  ...   9   6   8   2   0   0   0    West Ham - Leicester  West Ham   \n",
       "355  ...   8   2   7   0   2   0   0    Tottenham - West Ham  West Ham   \n",
       "364  ...  11   2   7   1   1   0   0  West Ham - Southampton  West Ham   \n",
       "379  ...  10   7   2   1   0   1   0      Watford - West Ham  West Ham   \n",
       "\n",
       "               player  \n",
       "8     Aaron Cresswell  \n",
       "15    Aaron Cresswell  \n",
       "20    Aaron Cresswell  \n",
       "36    Aaron Cresswell  \n",
       "47    Aaron Cresswell  \n",
       "..                ...  \n",
       "329  Łukasz Fabiański  \n",
       "340  Łukasz Fabiański  \n",
       "355  Łukasz Fabiański  \n",
       "364  Łukasz Fabiański  \n",
       "379  Łukasz Fabiański  \n",
       "\n",
       "[21698 rows x 26 columns]"
      ]
     },
     "execution_count": 9,
     "metadata": {},
     "output_type": "execute_result"
    }
   ],
   "source": [
    "d"
   ]
  },
  {
   "cell_type": "code",
   "execution_count": 10,
   "id": "e64b6c51-5f82-4763-abc7-5a097e65fcfc",
   "metadata": {},
   "outputs": [
    {
     "data": {
      "text/html": [
       "<div>\n",
       "<style scoped>\n",
       "    .dataframe tbody tr th:only-of-type {\n",
       "        vertical-align: middle;\n",
       "    }\n",
       "\n",
       "    .dataframe tbody tr th {\n",
       "        vertical-align: top;\n",
       "    }\n",
       "\n",
       "    .dataframe thead th {\n",
       "        text-align: right;\n",
       "    }\n",
       "</style>\n",
       "<table border=\"1\" class=\"dataframe\">\n",
       "  <thead>\n",
       "    <tr style=\"text-align: right;\">\n",
       "      <th></th>\n",
       "      <th>Div</th>\n",
       "      <th>Date</th>\n",
       "      <th>HomeTeam</th>\n",
       "      <th>AwayTeam</th>\n",
       "      <th>FTHG</th>\n",
       "      <th>FTAG</th>\n",
       "      <th>FTR</th>\n",
       "      <th>HTHG</th>\n",
       "      <th>HTAG</th>\n",
       "      <th>HTR</th>\n",
       "      <th>...</th>\n",
       "      <th>AF</th>\n",
       "      <th>HC</th>\n",
       "      <th>AC</th>\n",
       "      <th>HY</th>\n",
       "      <th>AY</th>\n",
       "      <th>HR</th>\n",
       "      <th>AR</th>\n",
       "      <th>name</th>\n",
       "      <th>team</th>\n",
       "      <th>player</th>\n",
       "    </tr>\n",
       "  </thead>\n",
       "  <tbody>\n",
       "    <tr>\n",
       "      <th>8</th>\n",
       "      <td>E0</td>\n",
       "      <td>12/8/18</td>\n",
       "      <td>Liverpool</td>\n",
       "      <td>West Ham</td>\n",
       "      <td>4</td>\n",
       "      <td>0</td>\n",
       "      <td>H</td>\n",
       "      <td>2</td>\n",
       "      <td>0</td>\n",
       "      <td>H</td>\n",
       "      <td>...</td>\n",
       "      <td>9</td>\n",
       "      <td>5</td>\n",
       "      <td>4</td>\n",
       "      <td>1</td>\n",
       "      <td>2</td>\n",
       "      <td>0</td>\n",
       "      <td>0</td>\n",
       "      <td>Liverpool - West Ham</td>\n",
       "      <td>West Ham</td>\n",
       "      <td>Aaron Cresswell</td>\n",
       "    </tr>\n",
       "    <tr>\n",
       "      <th>15</th>\n",
       "      <td>E0</td>\n",
       "      <td>18/08/2018</td>\n",
       "      <td>West Ham</td>\n",
       "      <td>Bournemouth</td>\n",
       "      <td>1</td>\n",
       "      <td>2</td>\n",
       "      <td>A</td>\n",
       "      <td>1</td>\n",
       "      <td>0</td>\n",
       "      <td>H</td>\n",
       "      <td>...</td>\n",
       "      <td>10</td>\n",
       "      <td>6</td>\n",
       "      <td>4</td>\n",
       "      <td>6</td>\n",
       "      <td>2</td>\n",
       "      <td>0</td>\n",
       "      <td>0</td>\n",
       "      <td>West Ham - Bournemouth</td>\n",
       "      <td>West Ham</td>\n",
       "      <td>Aaron Cresswell</td>\n",
       "    </tr>\n",
       "    <tr>\n",
       "      <th>20</th>\n",
       "      <td>E0</td>\n",
       "      <td>25/08/2018</td>\n",
       "      <td>Arsenal</td>\n",
       "      <td>West Ham</td>\n",
       "      <td>3</td>\n",
       "      <td>1</td>\n",
       "      <td>H</td>\n",
       "      <td>1</td>\n",
       "      <td>1</td>\n",
       "      <td>D</td>\n",
       "      <td>...</td>\n",
       "      <td>13</td>\n",
       "      <td>10</td>\n",
       "      <td>2</td>\n",
       "      <td>1</td>\n",
       "      <td>3</td>\n",
       "      <td>0</td>\n",
       "      <td>0</td>\n",
       "      <td>Arsenal - West Ham</td>\n",
       "      <td>West Ham</td>\n",
       "      <td>Aaron Cresswell</td>\n",
       "    </tr>\n",
       "    <tr>\n",
       "      <th>36</th>\n",
       "      <td>E0</td>\n",
       "      <td>1/9/18</td>\n",
       "      <td>West Ham</td>\n",
       "      <td>Wolves</td>\n",
       "      <td>0</td>\n",
       "      <td>1</td>\n",
       "      <td>A</td>\n",
       "      <td>0</td>\n",
       "      <td>0</td>\n",
       "      <td>D</td>\n",
       "      <td>...</td>\n",
       "      <td>11</td>\n",
       "      <td>4</td>\n",
       "      <td>4</td>\n",
       "      <td>2</td>\n",
       "      <td>1</td>\n",
       "      <td>0</td>\n",
       "      <td>0</td>\n",
       "      <td>West Ham - Wolves</td>\n",
       "      <td>West Ham</td>\n",
       "      <td>Aaron Cresswell</td>\n",
       "    </tr>\n",
       "    <tr>\n",
       "      <th>47</th>\n",
       "      <td>E0</td>\n",
       "      <td>16/09/2018</td>\n",
       "      <td>Everton</td>\n",
       "      <td>West Ham</td>\n",
       "      <td>1</td>\n",
       "      <td>3</td>\n",
       "      <td>A</td>\n",
       "      <td>1</td>\n",
       "      <td>2</td>\n",
       "      <td>A</td>\n",
       "      <td>...</td>\n",
       "      <td>12</td>\n",
       "      <td>4</td>\n",
       "      <td>2</td>\n",
       "      <td>2</td>\n",
       "      <td>5</td>\n",
       "      <td>0</td>\n",
       "      <td>0</td>\n",
       "      <td>Everton - West Ham</td>\n",
       "      <td>West Ham</td>\n",
       "      <td>Aaron Cresswell</td>\n",
       "    </tr>\n",
       "    <tr>\n",
       "      <th>...</th>\n",
       "      <td>...</td>\n",
       "      <td>...</td>\n",
       "      <td>...</td>\n",
       "      <td>...</td>\n",
       "      <td>...</td>\n",
       "      <td>...</td>\n",
       "      <td>...</td>\n",
       "      <td>...</td>\n",
       "      <td>...</td>\n",
       "      <td>...</td>\n",
       "      <td>...</td>\n",
       "      <td>...</td>\n",
       "      <td>...</td>\n",
       "      <td>...</td>\n",
       "      <td>...</td>\n",
       "      <td>...</td>\n",
       "      <td>...</td>\n",
       "      <td>...</td>\n",
       "      <td>...</td>\n",
       "      <td>...</td>\n",
       "      <td>...</td>\n",
       "    </tr>\n",
       "    <tr>\n",
       "      <th>329</th>\n",
       "      <td>E0</td>\n",
       "      <td>13/04/2019</td>\n",
       "      <td>Man United</td>\n",
       "      <td>West Ham</td>\n",
       "      <td>2</td>\n",
       "      <td>1</td>\n",
       "      <td>H</td>\n",
       "      <td>1</td>\n",
       "      <td>0</td>\n",
       "      <td>H</td>\n",
       "      <td>...</td>\n",
       "      <td>5</td>\n",
       "      <td>3</td>\n",
       "      <td>11</td>\n",
       "      <td>1</td>\n",
       "      <td>1</td>\n",
       "      <td>0</td>\n",
       "      <td>0</td>\n",
       "      <td>Man United - West Ham</td>\n",
       "      <td>West Ham</td>\n",
       "      <td>Łukasz Fabiański</td>\n",
       "    </tr>\n",
       "    <tr>\n",
       "      <th>340</th>\n",
       "      <td>E0</td>\n",
       "      <td>20/04/2019</td>\n",
       "      <td>West Ham</td>\n",
       "      <td>Leicester</td>\n",
       "      <td>2</td>\n",
       "      <td>2</td>\n",
       "      <td>D</td>\n",
       "      <td>1</td>\n",
       "      <td>0</td>\n",
       "      <td>H</td>\n",
       "      <td>...</td>\n",
       "      <td>9</td>\n",
       "      <td>6</td>\n",
       "      <td>8</td>\n",
       "      <td>2</td>\n",
       "      <td>0</td>\n",
       "      <td>0</td>\n",
       "      <td>0</td>\n",
       "      <td>West Ham - Leicester</td>\n",
       "      <td>West Ham</td>\n",
       "      <td>Łukasz Fabiański</td>\n",
       "    </tr>\n",
       "    <tr>\n",
       "      <th>355</th>\n",
       "      <td>E0</td>\n",
       "      <td>27/04/2019</td>\n",
       "      <td>Tottenham</td>\n",
       "      <td>West Ham</td>\n",
       "      <td>0</td>\n",
       "      <td>1</td>\n",
       "      <td>A</td>\n",
       "      <td>0</td>\n",
       "      <td>0</td>\n",
       "      <td>D</td>\n",
       "      <td>...</td>\n",
       "      <td>8</td>\n",
       "      <td>2</td>\n",
       "      <td>7</td>\n",
       "      <td>0</td>\n",
       "      <td>2</td>\n",
       "      <td>0</td>\n",
       "      <td>0</td>\n",
       "      <td>Tottenham - West Ham</td>\n",
       "      <td>West Ham</td>\n",
       "      <td>Łukasz Fabiański</td>\n",
       "    </tr>\n",
       "    <tr>\n",
       "      <th>364</th>\n",
       "      <td>E0</td>\n",
       "      <td>4/5/19</td>\n",
       "      <td>West Ham</td>\n",
       "      <td>Southampton</td>\n",
       "      <td>3</td>\n",
       "      <td>0</td>\n",
       "      <td>H</td>\n",
       "      <td>1</td>\n",
       "      <td>0</td>\n",
       "      <td>H</td>\n",
       "      <td>...</td>\n",
       "      <td>11</td>\n",
       "      <td>2</td>\n",
       "      <td>7</td>\n",
       "      <td>1</td>\n",
       "      <td>1</td>\n",
       "      <td>0</td>\n",
       "      <td>0</td>\n",
       "      <td>West Ham - Southampton</td>\n",
       "      <td>West Ham</td>\n",
       "      <td>Łukasz Fabiański</td>\n",
       "    </tr>\n",
       "    <tr>\n",
       "      <th>379</th>\n",
       "      <td>E0</td>\n",
       "      <td>12/5/19</td>\n",
       "      <td>Watford</td>\n",
       "      <td>West Ham</td>\n",
       "      <td>1</td>\n",
       "      <td>4</td>\n",
       "      <td>A</td>\n",
       "      <td>0</td>\n",
       "      <td>2</td>\n",
       "      <td>A</td>\n",
       "      <td>...</td>\n",
       "      <td>10</td>\n",
       "      <td>7</td>\n",
       "      <td>2</td>\n",
       "      <td>1</td>\n",
       "      <td>0</td>\n",
       "      <td>1</td>\n",
       "      <td>0</td>\n",
       "      <td>Watford - West Ham</td>\n",
       "      <td>West Ham</td>\n",
       "      <td>Łukasz Fabiański</td>\n",
       "    </tr>\n",
       "  </tbody>\n",
       "</table>\n",
       "<p>21698 rows × 26 columns</p>\n",
       "</div>"
      ],
      "text/plain": [
       "    Div        Date    HomeTeam     AwayTeam  FTHG  FTAG FTR  HTHG  HTAG HTR  \\\n",
       "8    E0     12/8/18   Liverpool     West Ham     4     0   H     2     0   H   \n",
       "15   E0  18/08/2018    West Ham  Bournemouth     1     2   A     1     0   H   \n",
       "20   E0  25/08/2018     Arsenal     West Ham     3     1   H     1     1   D   \n",
       "36   E0      1/9/18    West Ham       Wolves     0     1   A     0     0   D   \n",
       "47   E0  16/09/2018     Everton     West Ham     1     3   A     1     2   A   \n",
       "..   ..         ...         ...          ...   ...   ...  ..   ...   ...  ..   \n",
       "329  E0  13/04/2019  Man United     West Ham     2     1   H     1     0   H   \n",
       "340  E0  20/04/2019    West Ham    Leicester     2     2   D     1     0   H   \n",
       "355  E0  27/04/2019   Tottenham     West Ham     0     1   A     0     0   D   \n",
       "364  E0      4/5/19    West Ham  Southampton     3     0   H     1     0   H   \n",
       "379  E0     12/5/19     Watford     West Ham     1     4   A     0     2   A   \n",
       "\n",
       "     ...  AF  HC  AC  HY  AY  HR  AR                    name      team  \\\n",
       "8    ...   9   5   4   1   2   0   0    Liverpool - West Ham  West Ham   \n",
       "15   ...  10   6   4   6   2   0   0  West Ham - Bournemouth  West Ham   \n",
       "20   ...  13  10   2   1   3   0   0      Arsenal - West Ham  West Ham   \n",
       "36   ...  11   4   4   2   1   0   0       West Ham - Wolves  West Ham   \n",
       "47   ...  12   4   2   2   5   0   0      Everton - West Ham  West Ham   \n",
       "..   ...  ..  ..  ..  ..  ..  ..  ..                     ...       ...   \n",
       "329  ...   5   3  11   1   1   0   0   Man United - West Ham  West Ham   \n",
       "340  ...   9   6   8   2   0   0   0    West Ham - Leicester  West Ham   \n",
       "355  ...   8   2   7   0   2   0   0    Tottenham - West Ham  West Ham   \n",
       "364  ...  11   2   7   1   1   0   0  West Ham - Southampton  West Ham   \n",
       "379  ...  10   7   2   1   0   1   0      Watford - West Ham  West Ham   \n",
       "\n",
       "               player  \n",
       "8     Aaron Cresswell  \n",
       "15    Aaron Cresswell  \n",
       "20    Aaron Cresswell  \n",
       "36    Aaron Cresswell  \n",
       "47    Aaron Cresswell  \n",
       "..                ...  \n",
       "329  Łukasz Fabiański  \n",
       "340  Łukasz Fabiański  \n",
       "355  Łukasz Fabiański  \n",
       "364  Łukasz Fabiański  \n",
       "379  Łukasz Fabiański  \n",
       "\n",
       "[21698 rows x 26 columns]"
      ]
     },
     "execution_count": 10,
     "metadata": {},
     "output_type": "execute_result"
    }
   ],
   "source": [
    "d.drop_duplicates()"
   ]
  },
  {
   "cell_type": "code",
   "execution_count": 11,
   "id": "41a0b988-5d81-44fe-b9e8-1ef660bf84bd",
   "metadata": {},
   "outputs": [],
   "source": [
    "d=d[['player', 'team', 'name']].reset_index()"
   ]
  },
  {
   "cell_type": "code",
   "execution_count": 12,
   "id": "eb1b5ece-d9cb-4dfe-96a7-a5a8295e77c3",
   "metadata": {},
   "outputs": [],
   "source": [
    "goalkeepers=list(a['full_name'][a['position'] == 'Goalkeeper'])"
   ]
  },
  {
   "cell_type": "code",
   "execution_count": 13,
   "id": "7df572f8-1605-4c9c-8ed6-c109ea663b9e",
   "metadata": {},
   "outputs": [],
   "source": [
    "d=d[d['player'].isin(goalkeepers) == False]"
   ]
  },
  {
   "cell_type": "code",
   "execution_count": 14,
   "id": "d9298181-1edb-4a91-9c48-c531a531bc3a",
   "metadata": {},
   "outputs": [
    {
     "data": {
      "text/html": [
       "<div>\n",
       "<style scoped>\n",
       "    .dataframe tbody tr th:only-of-type {\n",
       "        vertical-align: middle;\n",
       "    }\n",
       "\n",
       "    .dataframe tbody tr th {\n",
       "        vertical-align: top;\n",
       "    }\n",
       "\n",
       "    .dataframe thead th {\n",
       "        text-align: right;\n",
       "    }\n",
       "</style>\n",
       "<table border=\"1\" class=\"dataframe\">\n",
       "  <thead>\n",
       "    <tr style=\"text-align: right;\">\n",
       "      <th></th>\n",
       "      <th>index</th>\n",
       "      <th>player</th>\n",
       "      <th>team</th>\n",
       "      <th>name</th>\n",
       "    </tr>\n",
       "  </thead>\n",
       "  <tbody>\n",
       "    <tr>\n",
       "      <th>0</th>\n",
       "      <td>8</td>\n",
       "      <td>Aaron Cresswell</td>\n",
       "      <td>West Ham</td>\n",
       "      <td>Liverpool - West Ham</td>\n",
       "    </tr>\n",
       "    <tr>\n",
       "      <th>1</th>\n",
       "      <td>15</td>\n",
       "      <td>Aaron Cresswell</td>\n",
       "      <td>West Ham</td>\n",
       "      <td>West Ham - Bournemouth</td>\n",
       "    </tr>\n",
       "    <tr>\n",
       "      <th>2</th>\n",
       "      <td>20</td>\n",
       "      <td>Aaron Cresswell</td>\n",
       "      <td>West Ham</td>\n",
       "      <td>Arsenal - West Ham</td>\n",
       "    </tr>\n",
       "    <tr>\n",
       "      <th>3</th>\n",
       "      <td>36</td>\n",
       "      <td>Aaron Cresswell</td>\n",
       "      <td>West Ham</td>\n",
       "      <td>West Ham - Wolves</td>\n",
       "    </tr>\n",
       "    <tr>\n",
       "      <th>4</th>\n",
       "      <td>47</td>\n",
       "      <td>Aaron Cresswell</td>\n",
       "      <td>West Ham</td>\n",
       "      <td>Everton - West Ham</td>\n",
       "    </tr>\n",
       "    <tr>\n",
       "      <th>...</th>\n",
       "      <td>...</td>\n",
       "      <td>...</td>\n",
       "      <td>...</td>\n",
       "      <td>...</td>\n",
       "    </tr>\n",
       "    <tr>\n",
       "      <th>21655</th>\n",
       "      <td>328</td>\n",
       "      <td>Zeze Steven Sessegnon</td>\n",
       "      <td>Fulham</td>\n",
       "      <td>Fulham - Everton</td>\n",
       "    </tr>\n",
       "    <tr>\n",
       "      <th>21656</th>\n",
       "      <td>336</td>\n",
       "      <td>Zeze Steven Sessegnon</td>\n",
       "      <td>Fulham</td>\n",
       "      <td>Bournemouth - Fulham</td>\n",
       "    </tr>\n",
       "    <tr>\n",
       "      <th>21657</th>\n",
       "      <td>353</td>\n",
       "      <td>Zeze Steven Sessegnon</td>\n",
       "      <td>Fulham</td>\n",
       "      <td>Fulham - Cardiff</td>\n",
       "    </tr>\n",
       "    <tr>\n",
       "      <th>21658</th>\n",
       "      <td>365</td>\n",
       "      <td>Zeze Steven Sessegnon</td>\n",
       "      <td>Fulham</td>\n",
       "      <td>Wolves - Fulham</td>\n",
       "    </tr>\n",
       "    <tr>\n",
       "      <th>21659</th>\n",
       "      <td>373</td>\n",
       "      <td>Zeze Steven Sessegnon</td>\n",
       "      <td>Fulham</td>\n",
       "      <td>Fulham - Newcastle</td>\n",
       "    </tr>\n",
       "  </tbody>\n",
       "</table>\n",
       "<p>19532 rows × 4 columns</p>\n",
       "</div>"
      ],
      "text/plain": [
       "       index                 player      team                    name\n",
       "0          8        Aaron Cresswell  West Ham    Liverpool - West Ham\n",
       "1         15        Aaron Cresswell  West Ham  West Ham - Bournemouth\n",
       "2         20        Aaron Cresswell  West Ham      Arsenal - West Ham\n",
       "3         36        Aaron Cresswell  West Ham       West Ham - Wolves\n",
       "4         47        Aaron Cresswell  West Ham      Everton - West Ham\n",
       "...      ...                    ...       ...                     ...\n",
       "21655    328  Zeze Steven Sessegnon    Fulham        Fulham - Everton\n",
       "21656    336  Zeze Steven Sessegnon    Fulham    Bournemouth - Fulham\n",
       "21657    353  Zeze Steven Sessegnon    Fulham        Fulham - Cardiff\n",
       "21658    365  Zeze Steven Sessegnon    Fulham         Wolves - Fulham\n",
       "21659    373  Zeze Steven Sessegnon    Fulham      Fulham - Newcastle\n",
       "\n",
       "[19532 rows x 4 columns]"
      ]
     },
     "execution_count": 14,
     "metadata": {},
     "output_type": "execute_result"
    }
   ],
   "source": [
    "d"
   ]
  },
  {
   "cell_type": "code",
   "execution_count": 15,
   "id": "27e45a0b-fad3-4591-b8d4-9f0ebeb2be10",
   "metadata": {},
   "outputs": [],
   "source": [
    "football=pd.read_csv('football.csv')"
   ]
  },
  {
   "cell_type": "code",
   "execution_count": 16,
   "id": "47cc8649-0dc1-4562-9c5c-9347dfa4ae9d",
   "metadata": {},
   "outputs": [
    {
     "data": {
      "text/plain": [
       "Index(['Player Name', 'Accurate Long Balls', 'Aerial Battles Lost',\n",
       "       'Aerial Battles Won', 'Appearances', 'Assists', 'Attack',\n",
       "       'Big Chances Created', 'Big Chances Missed', 'Blocked Shots', 'Catches',\n",
       "       'Clean Sheets', 'Clearances', 'Clearances Off Line', 'Club',\n",
       "       'Cross Accuracy %', 'Crosses', 'Defence', 'Discipline', 'Duels Lost',\n",
       "       'Duels Won', 'Errors Leading To Goal', 'Fouls', 'Goal Kicks',\n",
       "       'Goalkeeping', 'Goals', 'Goals Conceded', 'Goals From Freekick',\n",
       "       'Goals Per Match', 'Goals With Header', 'Goals With Left Foot',\n",
       "       'Goals With Right Foot', 'Headed Clearance', 'High Claims',\n",
       "       'Hit Woodwork', 'Interceptions', 'Last Man Tackles', 'Losses',\n",
       "       'Offsides', 'Own Goals', 'Passes', 'Passes Per Match',\n",
       "       'Penalties Saved', 'Penalties Scored', 'Position', 'Punches',\n",
       "       'Recoveries', 'Red Cards', 'Saves', 'Shooting Accuracy %', 'Shots',\n",
       "       'Shots On Target', 'Successful /s', 'Successful 0/0s',\n",
       "       'Successful 5/5s', 'Successful 50/50s', 'Sweeper Clearances',\n",
       "       'Tackle Success %', 'Tackles', 'Team Play', 'Through Balls',\n",
       "       'Throw Outs', 'Wins', 'Yellow Cards'],\n",
       "      dtype='object')"
      ]
     },
     "execution_count": 16,
     "metadata": {},
     "output_type": "execute_result"
    }
   ],
   "source": [
    "football.columns"
   ]
  },
  {
   "cell_type": "code",
   "execution_count": 17,
   "id": "e9a920bb-75ba-4731-9cf6-51b5af16fabb",
   "metadata": {},
   "outputs": [],
   "source": [
    "football=football[football['Player Name'].isin(goalkeepers) == False]"
   ]
  },
  {
   "cell_type": "code",
   "execution_count": 18,
   "id": "6e325f6c-c8d8-45b8-ba94-0ec9c18cc4cd",
   "metadata": {},
   "outputs": [
    {
     "data": {
      "text/html": [
       "<div>\n",
       "<style scoped>\n",
       "    .dataframe tbody tr th:only-of-type {\n",
       "        vertical-align: middle;\n",
       "    }\n",
       "\n",
       "    .dataframe tbody tr th {\n",
       "        vertical-align: top;\n",
       "    }\n",
       "\n",
       "    .dataframe thead th {\n",
       "        text-align: right;\n",
       "    }\n",
       "</style>\n",
       "<table border=\"1\" class=\"dataframe\">\n",
       "  <thead>\n",
       "    <tr style=\"text-align: right;\">\n",
       "      <th></th>\n",
       "      <th>Player Name</th>\n",
       "      <th>Accurate Long Balls</th>\n",
       "      <th>Aerial Battles Lost</th>\n",
       "      <th>Aerial Battles Won</th>\n",
       "      <th>Appearances</th>\n",
       "      <th>Assists</th>\n",
       "      <th>Attack</th>\n",
       "      <th>Big Chances Created</th>\n",
       "      <th>Big Chances Missed</th>\n",
       "      <th>Blocked Shots</th>\n",
       "      <th>...</th>\n",
       "      <th>Successful 5/5s</th>\n",
       "      <th>Successful 50/50s</th>\n",
       "      <th>Sweeper Clearances</th>\n",
       "      <th>Tackle Success %</th>\n",
       "      <th>Tackles</th>\n",
       "      <th>Team Play</th>\n",
       "      <th>Through Balls</th>\n",
       "      <th>Throw Outs</th>\n",
       "      <th>Wins</th>\n",
       "      <th>Yellow Cards</th>\n",
       "    </tr>\n",
       "  </thead>\n",
       "  <tbody>\n",
       "    <tr>\n",
       "      <th>0</th>\n",
       "      <td>Rolando Aarons</td>\n",
       "      <td>7.0</td>\n",
       "      <td>9</td>\n",
       "      <td>6</td>\n",
       "      <td>14</td>\n",
       "      <td>1</td>\n",
       "      <td>NaN</td>\n",
       "      <td>1</td>\n",
       "      <td>0</td>\n",
       "      <td>2</td>\n",
       "      <td>...</td>\n",
       "      <td>0</td>\n",
       "      <td>10</td>\n",
       "      <td>0</td>\n",
       "      <td>63.0</td>\n",
       "      <td>16</td>\n",
       "      <td>NaN</td>\n",
       "      <td>0</td>\n",
       "      <td>0</td>\n",
       "      <td>3</td>\n",
       "      <td>2</td>\n",
       "    </tr>\n",
       "    <tr>\n",
       "      <th>1</th>\n",
       "      <td>Tammy Abraham</td>\n",
       "      <td>NaN</td>\n",
       "      <td>0</td>\n",
       "      <td>0</td>\n",
       "      <td>7</td>\n",
       "      <td>0</td>\n",
       "      <td>NaN</td>\n",
       "      <td>1</td>\n",
       "      <td>2</td>\n",
       "      <td>4</td>\n",
       "      <td>...</td>\n",
       "      <td>0</td>\n",
       "      <td>0</td>\n",
       "      <td>0</td>\n",
       "      <td>NaN</td>\n",
       "      <td>5</td>\n",
       "      <td>NaN</td>\n",
       "      <td>0</td>\n",
       "      <td>0</td>\n",
       "      <td>1</td>\n",
       "      <td>0</td>\n",
       "    </tr>\n",
       "    <tr>\n",
       "      <th>2</th>\n",
       "      <td>Charlie Adam</td>\n",
       "      <td>784.0</td>\n",
       "      <td>148</td>\n",
       "      <td>216</td>\n",
       "      <td>196</td>\n",
       "      <td>25</td>\n",
       "      <td>NaN</td>\n",
       "      <td>39</td>\n",
       "      <td>6</td>\n",
       "      <td>118</td>\n",
       "      <td>...</td>\n",
       "      <td>0</td>\n",
       "      <td>156</td>\n",
       "      <td>0</td>\n",
       "      <td>79.0</td>\n",
       "      <td>304</td>\n",
       "      <td>NaN</td>\n",
       "      <td>61</td>\n",
       "      <td>0</td>\n",
       "      <td>64</td>\n",
       "      <td>46</td>\n",
       "    </tr>\n",
       "    <tr>\n",
       "      <th>3</th>\n",
       "      <td>Adrián</td>\n",
       "      <td>862.0</td>\n",
       "      <td>0</td>\n",
       "      <td>0</td>\n",
       "      <td>106</td>\n",
       "      <td>0</td>\n",
       "      <td>0.0</td>\n",
       "      <td>0</td>\n",
       "      <td>0</td>\n",
       "      <td>0</td>\n",
       "      <td>...</td>\n",
       "      <td>0</td>\n",
       "      <td>0</td>\n",
       "      <td>84</td>\n",
       "      <td>NaN</td>\n",
       "      <td>0</td>\n",
       "      <td>NaN</td>\n",
       "      <td>0</td>\n",
       "      <td>433</td>\n",
       "      <td>38</td>\n",
       "      <td>7</td>\n",
       "    </tr>\n",
       "    <tr>\n",
       "      <th>4</th>\n",
       "      <td>Ibrahim Afellay</td>\n",
       "      <td>72.0</td>\n",
       "      <td>20</td>\n",
       "      <td>15</td>\n",
       "      <td>43</td>\n",
       "      <td>2</td>\n",
       "      <td>NaN</td>\n",
       "      <td>4</td>\n",
       "      <td>2</td>\n",
       "      <td>12</td>\n",
       "      <td>...</td>\n",
       "      <td>0</td>\n",
       "      <td>0</td>\n",
       "      <td>0</td>\n",
       "      <td>80.0</td>\n",
       "      <td>30</td>\n",
       "      <td>NaN</td>\n",
       "      <td>4</td>\n",
       "      <td>0</td>\n",
       "      <td>17</td>\n",
       "      <td>3</td>\n",
       "    </tr>\n",
       "    <tr>\n",
       "      <th>...</th>\n",
       "      <td>...</td>\n",
       "      <td>...</td>\n",
       "      <td>...</td>\n",
       "      <td>...</td>\n",
       "      <td>...</td>\n",
       "      <td>...</td>\n",
       "      <td>...</td>\n",
       "      <td>...</td>\n",
       "      <td>...</td>\n",
       "      <td>...</td>\n",
       "      <td>...</td>\n",
       "      <td>...</td>\n",
       "      <td>...</td>\n",
       "      <td>...</td>\n",
       "      <td>...</td>\n",
       "      <td>...</td>\n",
       "      <td>...</td>\n",
       "      <td>...</td>\n",
       "      <td>...</td>\n",
       "      <td>...</td>\n",
       "      <td>...</td>\n",
       "    </tr>\n",
       "    <tr>\n",
       "      <th>622</th>\n",
       "      <td>Davide Zappacosta</td>\n",
       "      <td>0.0</td>\n",
       "      <td>0</td>\n",
       "      <td>0</td>\n",
       "      <td>1</td>\n",
       "      <td>0</td>\n",
       "      <td>NaN</td>\n",
       "      <td>0</td>\n",
       "      <td>0</td>\n",
       "      <td>0</td>\n",
       "      <td>...</td>\n",
       "      <td>0</td>\n",
       "      <td>0</td>\n",
       "      <td>0</td>\n",
       "      <td>0.0</td>\n",
       "      <td>0</td>\n",
       "      <td>NaN</td>\n",
       "      <td>0</td>\n",
       "      <td>0</td>\n",
       "      <td>1</td>\n",
       "      <td>0</td>\n",
       "    </tr>\n",
       "    <tr>\n",
       "      <th>623</th>\n",
       "      <td>Mauro Zárate</td>\n",
       "      <td>NaN</td>\n",
       "      <td>0</td>\n",
       "      <td>0</td>\n",
       "      <td>43</td>\n",
       "      <td>2</td>\n",
       "      <td>NaN</td>\n",
       "      <td>1</td>\n",
       "      <td>2</td>\n",
       "      <td>24</td>\n",
       "      <td>...</td>\n",
       "      <td>0</td>\n",
       "      <td>0</td>\n",
       "      <td>0</td>\n",
       "      <td>NaN</td>\n",
       "      <td>42</td>\n",
       "      <td>NaN</td>\n",
       "      <td>0</td>\n",
       "      <td>0</td>\n",
       "      <td>13</td>\n",
       "      <td>4</td>\n",
       "    </tr>\n",
       "    <tr>\n",
       "      <th>624</th>\n",
       "      <td>Marvin Zeegelaar</td>\n",
       "      <td>0.0</td>\n",
       "      <td>0</td>\n",
       "      <td>0</td>\n",
       "      <td>0</td>\n",
       "      <td>0</td>\n",
       "      <td>NaN</td>\n",
       "      <td>0</td>\n",
       "      <td>0</td>\n",
       "      <td>0</td>\n",
       "      <td>...</td>\n",
       "      <td>0</td>\n",
       "      <td>0</td>\n",
       "      <td>0</td>\n",
       "      <td>0.0</td>\n",
       "      <td>0</td>\n",
       "      <td>NaN</td>\n",
       "      <td>0</td>\n",
       "      <td>0</td>\n",
       "      <td>0</td>\n",
       "      <td>0</td>\n",
       "    </tr>\n",
       "    <tr>\n",
       "      <th>625</th>\n",
       "      <td>Oleksandr Zinchenko</td>\n",
       "      <td>0.0</td>\n",
       "      <td>0</td>\n",
       "      <td>0</td>\n",
       "      <td>0</td>\n",
       "      <td>0</td>\n",
       "      <td>NaN</td>\n",
       "      <td>0</td>\n",
       "      <td>0</td>\n",
       "      <td>0</td>\n",
       "      <td>...</td>\n",
       "      <td>0</td>\n",
       "      <td>0</td>\n",
       "      <td>0</td>\n",
       "      <td>0.0</td>\n",
       "      <td>0</td>\n",
       "      <td>NaN</td>\n",
       "      <td>0</td>\n",
       "      <td>0</td>\n",
       "      <td>0</td>\n",
       "      <td>0</td>\n",
       "    </tr>\n",
       "    <tr>\n",
       "      <th>626</th>\n",
       "      <td>Kurt Zouma</td>\n",
       "      <td>79.0</td>\n",
       "      <td>47</td>\n",
       "      <td>110</td>\n",
       "      <td>52</td>\n",
       "      <td>2</td>\n",
       "      <td>NaN</td>\n",
       "      <td>2</td>\n",
       "      <td>0</td>\n",
       "      <td>3</td>\n",
       "      <td>...</td>\n",
       "      <td>0</td>\n",
       "      <td>18</td>\n",
       "      <td>0</td>\n",
       "      <td>71.0</td>\n",
       "      <td>63</td>\n",
       "      <td>NaN</td>\n",
       "      <td>0</td>\n",
       "      <td>0</td>\n",
       "      <td>26</td>\n",
       "      <td>0</td>\n",
       "    </tr>\n",
       "  </tbody>\n",
       "</table>\n",
       "<p>607 rows × 64 columns</p>\n",
       "</div>"
      ],
      "text/plain": [
       "             Player Name  Accurate Long Balls  Aerial Battles Lost  \\\n",
       "0         Rolando Aarons                  7.0                    9   \n",
       "1          Tammy Abraham                  NaN                    0   \n",
       "2           Charlie Adam                784.0                  148   \n",
       "3                 Adrián                862.0                    0   \n",
       "4        Ibrahim Afellay                 72.0                   20   \n",
       "..                   ...                  ...                  ...   \n",
       "622    Davide Zappacosta                  0.0                    0   \n",
       "623         Mauro Zárate                  NaN                    0   \n",
       "624     Marvin Zeegelaar                  0.0                    0   \n",
       "625  Oleksandr Zinchenko                  0.0                    0   \n",
       "626           Kurt Zouma                 79.0                   47   \n",
       "\n",
       "     Aerial Battles Won  Appearances  Assists  Attack  Big Chances Created  \\\n",
       "0                     6           14        1     NaN                    1   \n",
       "1                     0            7        0     NaN                    1   \n",
       "2                   216          196       25     NaN                   39   \n",
       "3                     0          106        0     0.0                    0   \n",
       "4                    15           43        2     NaN                    4   \n",
       "..                  ...          ...      ...     ...                  ...   \n",
       "622                   0            1        0     NaN                    0   \n",
       "623                   0           43        2     NaN                    1   \n",
       "624                   0            0        0     NaN                    0   \n",
       "625                   0            0        0     NaN                    0   \n",
       "626                 110           52        2     NaN                    2   \n",
       "\n",
       "     Big Chances Missed  Blocked Shots  ...  Successful 5/5s  \\\n",
       "0                     0              2  ...                0   \n",
       "1                     2              4  ...                0   \n",
       "2                     6            118  ...                0   \n",
       "3                     0              0  ...                0   \n",
       "4                     2             12  ...                0   \n",
       "..                  ...            ...  ...              ...   \n",
       "622                   0              0  ...                0   \n",
       "623                   2             24  ...                0   \n",
       "624                   0              0  ...                0   \n",
       "625                   0              0  ...                0   \n",
       "626                   0              3  ...                0   \n",
       "\n",
       "     Successful 50/50s  Sweeper Clearances  Tackle Success % Tackles  \\\n",
       "0                   10                   0              63.0      16   \n",
       "1                    0                   0               NaN       5   \n",
       "2                  156                   0              79.0     304   \n",
       "3                    0                  84               NaN       0   \n",
       "4                    0                   0              80.0      30   \n",
       "..                 ...                 ...               ...     ...   \n",
       "622                  0                   0               0.0       0   \n",
       "623                  0                   0               NaN      42   \n",
       "624                  0                   0               0.0       0   \n",
       "625                  0                   0               0.0       0   \n",
       "626                 18                   0              71.0      63   \n",
       "\n",
       "     Team Play  Through Balls  Throw Outs  Wins  Yellow Cards  \n",
       "0          NaN              0           0     3             2  \n",
       "1          NaN              0           0     1             0  \n",
       "2          NaN             61           0    64            46  \n",
       "3          NaN              0         433    38             7  \n",
       "4          NaN              4           0    17             3  \n",
       "..         ...            ...         ...   ...           ...  \n",
       "622        NaN              0           0     1             0  \n",
       "623        NaN              0           0    13             4  \n",
       "624        NaN              0           0     0             0  \n",
       "625        NaN              0           0     0             0  \n",
       "626        NaN              0           0    26             0  \n",
       "\n",
       "[607 rows x 64 columns]"
      ]
     },
     "execution_count": 18,
     "metadata": {},
     "output_type": "execute_result"
    }
   ],
   "source": [
    "football"
   ]
  },
  {
   "cell_type": "code",
   "execution_count": 19,
   "id": "3a244212-c5db-4678-b40d-209e675a01b4",
   "metadata": {},
   "outputs": [],
   "source": [
    "a=a[a['full_name'].isin(goalkeepers) == False]"
   ]
  },
  {
   "cell_type": "code",
   "execution_count": 20,
   "id": "0a523c3c-1b50-4695-b2e8-87d528f85f69",
   "metadata": {},
   "outputs": [
    {
     "data": {
      "text/html": [
       "<div>\n",
       "<style scoped>\n",
       "    .dataframe tbody tr th:only-of-type {\n",
       "        vertical-align: middle;\n",
       "    }\n",
       "\n",
       "    .dataframe tbody tr th {\n",
       "        vertical-align: top;\n",
       "    }\n",
       "\n",
       "    .dataframe thead th {\n",
       "        text-align: right;\n",
       "    }\n",
       "</style>\n",
       "<table border=\"1\" class=\"dataframe\">\n",
       "  <thead>\n",
       "    <tr style=\"text-align: right;\">\n",
       "      <th></th>\n",
       "      <th>full_name</th>\n",
       "      <th>age</th>\n",
       "      <th>birthday</th>\n",
       "      <th>birthday_GMT</th>\n",
       "      <th>league</th>\n",
       "      <th>season</th>\n",
       "      <th>position</th>\n",
       "      <th>Current Club</th>\n",
       "      <th>minutes_played_overall</th>\n",
       "      <th>minutes_played_home</th>\n",
       "      <th>...</th>\n",
       "      <th>conceded_per_90_overall</th>\n",
       "      <th>min_per_conceded_overall</th>\n",
       "      <th>min_per_match</th>\n",
       "      <th>min_per_card_overall</th>\n",
       "      <th>min_per_assist_overall</th>\n",
       "      <th>cards_per_90_overall</th>\n",
       "      <th>rank_in_league_top_attackers</th>\n",
       "      <th>rank_in_league_top_midfielders</th>\n",
       "      <th>rank_in_league_top_defenders</th>\n",
       "      <th>rank_in_club_top_scorer</th>\n",
       "    </tr>\n",
       "  </thead>\n",
       "  <tbody>\n",
       "    <tr>\n",
       "      <th>0</th>\n",
       "      <td>Aaron Cresswell</td>\n",
       "      <td>32</td>\n",
       "      <td>629683200</td>\n",
       "      <td>1989/12/15</td>\n",
       "      <td>Premier League</td>\n",
       "      <td>2018/2019</td>\n",
       "      <td>Defender</td>\n",
       "      <td>West Ham</td>\n",
       "      <td>1589</td>\n",
       "      <td>888</td>\n",
       "      <td>...</td>\n",
       "      <td>1.25</td>\n",
       "      <td>72</td>\n",
       "      <td>79</td>\n",
       "      <td>1589</td>\n",
       "      <td>1589</td>\n",
       "      <td>0.06</td>\n",
       "      <td>290</td>\n",
       "      <td>191</td>\n",
       "      <td>80</td>\n",
       "      <td>20</td>\n",
       "    </tr>\n",
       "    <tr>\n",
       "      <th>1</th>\n",
       "      <td>Aaron Lennon</td>\n",
       "      <td>34</td>\n",
       "      <td>545529600</td>\n",
       "      <td>1987/04/16</td>\n",
       "      <td>Premier League</td>\n",
       "      <td>2018/2019</td>\n",
       "      <td>Midfielder</td>\n",
       "      <td>Burnley</td>\n",
       "      <td>1217</td>\n",
       "      <td>487</td>\n",
       "      <td>...</td>\n",
       "      <td>1.48</td>\n",
       "      <td>61</td>\n",
       "      <td>76</td>\n",
       "      <td>1217</td>\n",
       "      <td>1217</td>\n",
       "      <td>0.07</td>\n",
       "      <td>196</td>\n",
       "      <td>187</td>\n",
       "      <td>-1</td>\n",
       "      <td>10</td>\n",
       "    </tr>\n",
       "    <tr>\n",
       "      <th>2</th>\n",
       "      <td>Aaron Mooy</td>\n",
       "      <td>31</td>\n",
       "      <td>653356800</td>\n",
       "      <td>1990/09/15</td>\n",
       "      <td>Premier League</td>\n",
       "      <td>2018/2019</td>\n",
       "      <td>Midfielder</td>\n",
       "      <td>Huddersfield</td>\n",
       "      <td>2327</td>\n",
       "      <td>1190</td>\n",
       "      <td>...</td>\n",
       "      <td>1.78</td>\n",
       "      <td>51</td>\n",
       "      <td>80</td>\n",
       "      <td>582</td>\n",
       "      <td>2327</td>\n",
       "      <td>0.15</td>\n",
       "      <td>144</td>\n",
       "      <td>233</td>\n",
       "      <td>-1</td>\n",
       "      <td>3</td>\n",
       "    </tr>\n",
       "    <tr>\n",
       "      <th>3</th>\n",
       "      <td>Aaron Ramsey</td>\n",
       "      <td>31</td>\n",
       "      <td>662169600</td>\n",
       "      <td>1990/12/26</td>\n",
       "      <td>Premier League</td>\n",
       "      <td>2018/2019</td>\n",
       "      <td>Midfielder</td>\n",
       "      <td>Arsenal</td>\n",
       "      <td>1327</td>\n",
       "      <td>689</td>\n",
       "      <td>...</td>\n",
       "      <td>0.81</td>\n",
       "      <td>111</td>\n",
       "      <td>47</td>\n",
       "      <td>0</td>\n",
       "      <td>221</td>\n",
       "      <td>0.00</td>\n",
       "      <td>69</td>\n",
       "      <td>8</td>\n",
       "      <td>-1</td>\n",
       "      <td>5</td>\n",
       "    </tr>\n",
       "    <tr>\n",
       "      <th>4</th>\n",
       "      <td>Aaron Rowe</td>\n",
       "      <td>21</td>\n",
       "      <td>968284800</td>\n",
       "      <td>2000/09/07</td>\n",
       "      <td>Premier League</td>\n",
       "      <td>2018/2019</td>\n",
       "      <td>Forward</td>\n",
       "      <td>Huddersfield</td>\n",
       "      <td>69</td>\n",
       "      <td>14</td>\n",
       "      <td>...</td>\n",
       "      <td>1.30</td>\n",
       "      <td>69</td>\n",
       "      <td>35</td>\n",
       "      <td>0</td>\n",
       "      <td>0</td>\n",
       "      <td>0.00</td>\n",
       "      <td>-1</td>\n",
       "      <td>-1</td>\n",
       "      <td>-1</td>\n",
       "      <td>31</td>\n",
       "    </tr>\n",
       "    <tr>\n",
       "      <th>...</th>\n",
       "      <td>...</td>\n",
       "      <td>...</td>\n",
       "      <td>...</td>\n",
       "      <td>...</td>\n",
       "      <td>...</td>\n",
       "      <td>...</td>\n",
       "      <td>...</td>\n",
       "      <td>...</td>\n",
       "      <td>...</td>\n",
       "      <td>...</td>\n",
       "      <td>...</td>\n",
       "      <td>...</td>\n",
       "      <td>...</td>\n",
       "      <td>...</td>\n",
       "      <td>...</td>\n",
       "      <td>...</td>\n",
       "      <td>...</td>\n",
       "      <td>...</td>\n",
       "      <td>...</td>\n",
       "      <td>...</td>\n",
       "      <td>...</td>\n",
       "    </tr>\n",
       "    <tr>\n",
       "      <th>566</th>\n",
       "      <td>Yoshinori Muto</td>\n",
       "      <td>29</td>\n",
       "      <td>711158400</td>\n",
       "      <td>1992/07/15</td>\n",
       "      <td>Premier League</td>\n",
       "      <td>2018/2019</td>\n",
       "      <td>Forward</td>\n",
       "      <td>Newcastle</td>\n",
       "      <td>516</td>\n",
       "      <td>180</td>\n",
       "      <td>...</td>\n",
       "      <td>1.74</td>\n",
       "      <td>52</td>\n",
       "      <td>30</td>\n",
       "      <td>516</td>\n",
       "      <td>0</td>\n",
       "      <td>0.17</td>\n",
       "      <td>113</td>\n",
       "      <td>290</td>\n",
       "      <td>-1</td>\n",
       "      <td>8</td>\n",
       "    </tr>\n",
       "    <tr>\n",
       "      <th>567</th>\n",
       "      <td>Youri Tielemans</td>\n",
       "      <td>24</td>\n",
       "      <td>862963200</td>\n",
       "      <td>1997/05/07</td>\n",
       "      <td>Premier League</td>\n",
       "      <td>2018/2019</td>\n",
       "      <td>Midfielder</td>\n",
       "      <td>Leicester</td>\n",
       "      <td>1092</td>\n",
       "      <td>575</td>\n",
       "      <td>...</td>\n",
       "      <td>1.07</td>\n",
       "      <td>84</td>\n",
       "      <td>84</td>\n",
       "      <td>546</td>\n",
       "      <td>273</td>\n",
       "      <td>0.16</td>\n",
       "      <td>80</td>\n",
       "      <td>13</td>\n",
       "      <td>-1</td>\n",
       "      <td>4</td>\n",
       "    </tr>\n",
       "    <tr>\n",
       "      <th>568</th>\n",
       "      <td>Yves Bissouma</td>\n",
       "      <td>25</td>\n",
       "      <td>841363200</td>\n",
       "      <td>1996/08/30</td>\n",
       "      <td>Premier League</td>\n",
       "      <td>2018/2019</td>\n",
       "      <td>Midfielder</td>\n",
       "      <td>Brighton</td>\n",
       "      <td>1769</td>\n",
       "      <td>747</td>\n",
       "      <td>...</td>\n",
       "      <td>1.53</td>\n",
       "      <td>59</td>\n",
       "      <td>63</td>\n",
       "      <td>354</td>\n",
       "      <td>0</td>\n",
       "      <td>0.25</td>\n",
       "      <td>402</td>\n",
       "      <td>293</td>\n",
       "      <td>-1</td>\n",
       "      <td>17</td>\n",
       "    </tr>\n",
       "    <tr>\n",
       "      <th>569</th>\n",
       "      <td>Zechariah Medley</td>\n",
       "      <td>21</td>\n",
       "      <td>962928000</td>\n",
       "      <td>2000/07/07</td>\n",
       "      <td>Premier League</td>\n",
       "      <td>2018/2019</td>\n",
       "      <td>Defender</td>\n",
       "      <td>Arsenal</td>\n",
       "      <td>0</td>\n",
       "      <td>0</td>\n",
       "      <td>...</td>\n",
       "      <td>0.00</td>\n",
       "      <td>0</td>\n",
       "      <td>0</td>\n",
       "      <td>0</td>\n",
       "      <td>0</td>\n",
       "      <td>0.00</td>\n",
       "      <td>-1</td>\n",
       "      <td>-1</td>\n",
       "      <td>-1</td>\n",
       "      <td>-1</td>\n",
       "    </tr>\n",
       "    <tr>\n",
       "      <th>570</th>\n",
       "      <td>Zeze Steven Sessegnon</td>\n",
       "      <td>21</td>\n",
       "      <td>958608000</td>\n",
       "      <td>2000/05/18</td>\n",
       "      <td>Premier League</td>\n",
       "      <td>2018/2019</td>\n",
       "      <td>Defender</td>\n",
       "      <td>Fulham</td>\n",
       "      <td>0</td>\n",
       "      <td>0</td>\n",
       "      <td>...</td>\n",
       "      <td>0.00</td>\n",
       "      <td>0</td>\n",
       "      <td>0</td>\n",
       "      <td>0</td>\n",
       "      <td>0</td>\n",
       "      <td>0.00</td>\n",
       "      <td>-1</td>\n",
       "      <td>-1</td>\n",
       "      <td>-1</td>\n",
       "      <td>-1</td>\n",
       "    </tr>\n",
       "  </tbody>\n",
       "</table>\n",
       "<p>514 rows × 47 columns</p>\n",
       "</div>"
      ],
      "text/plain": [
       "                 full_name  age   birthday birthday_GMT          league  \\\n",
       "0          Aaron Cresswell   32  629683200   1989/12/15  Premier League   \n",
       "1             Aaron Lennon   34  545529600   1987/04/16  Premier League   \n",
       "2               Aaron Mooy   31  653356800   1990/09/15  Premier League   \n",
       "3             Aaron Ramsey   31  662169600   1990/12/26  Premier League   \n",
       "4               Aaron Rowe   21  968284800   2000/09/07  Premier League   \n",
       "..                     ...  ...        ...          ...             ...   \n",
       "566         Yoshinori Muto   29  711158400   1992/07/15  Premier League   \n",
       "567        Youri Tielemans   24  862963200   1997/05/07  Premier League   \n",
       "568          Yves Bissouma   25  841363200   1996/08/30  Premier League   \n",
       "569       Zechariah Medley   21  962928000   2000/07/07  Premier League   \n",
       "570  Zeze Steven Sessegnon   21  958608000   2000/05/18  Premier League   \n",
       "\n",
       "        season    position  Current Club  minutes_played_overall  \\\n",
       "0    2018/2019    Defender      West Ham                    1589   \n",
       "1    2018/2019  Midfielder       Burnley                    1217   \n",
       "2    2018/2019  Midfielder  Huddersfield                    2327   \n",
       "3    2018/2019  Midfielder       Arsenal                    1327   \n",
       "4    2018/2019     Forward  Huddersfield                      69   \n",
       "..         ...         ...           ...                     ...   \n",
       "566  2018/2019     Forward     Newcastle                     516   \n",
       "567  2018/2019  Midfielder     Leicester                    1092   \n",
       "568  2018/2019  Midfielder      Brighton                    1769   \n",
       "569  2018/2019    Defender       Arsenal                       0   \n",
       "570  2018/2019    Defender        Fulham                       0   \n",
       "\n",
       "     minutes_played_home  ...  conceded_per_90_overall  \\\n",
       "0                    888  ...                     1.25   \n",
       "1                    487  ...                     1.48   \n",
       "2                   1190  ...                     1.78   \n",
       "3                    689  ...                     0.81   \n",
       "4                     14  ...                     1.30   \n",
       "..                   ...  ...                      ...   \n",
       "566                  180  ...                     1.74   \n",
       "567                  575  ...                     1.07   \n",
       "568                  747  ...                     1.53   \n",
       "569                    0  ...                     0.00   \n",
       "570                    0  ...                     0.00   \n",
       "\n",
       "    min_per_conceded_overall  min_per_match  min_per_card_overall  \\\n",
       "0                         72             79                  1589   \n",
       "1                         61             76                  1217   \n",
       "2                         51             80                   582   \n",
       "3                        111             47                     0   \n",
       "4                         69             35                     0   \n",
       "..                       ...            ...                   ...   \n",
       "566                       52             30                   516   \n",
       "567                       84             84                   546   \n",
       "568                       59             63                   354   \n",
       "569                        0              0                     0   \n",
       "570                        0              0                     0   \n",
       "\n",
       "     min_per_assist_overall  cards_per_90_overall  \\\n",
       "0                      1589                  0.06   \n",
       "1                      1217                  0.07   \n",
       "2                      2327                  0.15   \n",
       "3                       221                  0.00   \n",
       "4                         0                  0.00   \n",
       "..                      ...                   ...   \n",
       "566                       0                  0.17   \n",
       "567                     273                  0.16   \n",
       "568                       0                  0.25   \n",
       "569                       0                  0.00   \n",
       "570                       0                  0.00   \n",
       "\n",
       "     rank_in_league_top_attackers  rank_in_league_top_midfielders  \\\n",
       "0                             290                             191   \n",
       "1                             196                             187   \n",
       "2                             144                             233   \n",
       "3                              69                               8   \n",
       "4                              -1                              -1   \n",
       "..                            ...                             ...   \n",
       "566                           113                             290   \n",
       "567                            80                              13   \n",
       "568                           402                             293   \n",
       "569                            -1                              -1   \n",
       "570                            -1                              -1   \n",
       "\n",
       "     rank_in_league_top_defenders  rank_in_club_top_scorer  \n",
       "0                              80                       20  \n",
       "1                              -1                       10  \n",
       "2                              -1                        3  \n",
       "3                              -1                        5  \n",
       "4                              -1                       31  \n",
       "..                            ...                      ...  \n",
       "566                            -1                        8  \n",
       "567                            -1                        4  \n",
       "568                            -1                       17  \n",
       "569                            -1                       -1  \n",
       "570                            -1                       -1  \n",
       "\n",
       "[514 rows x 47 columns]"
      ]
     },
     "execution_count": 20,
     "metadata": {},
     "output_type": "execute_result"
    }
   ],
   "source": [
    "a"
   ]
  },
  {
   "cell_type": "code",
   "execution_count": 21,
   "id": "b22cb9a4-fcb4-47b2-97dc-cf7752c856e7",
   "metadata": {},
   "outputs": [],
   "source": [
    "merged=a.merge(d, how='inner', left_on='full_name', right_on='player')\n",
    "merged=merged.merge(football, how='inner', left_on='full_name', right_on='Player Name')"
   ]
  },
  {
   "cell_type": "code",
   "execution_count": 22,
   "id": "505354c0-5cd0-4506-af0d-6e086bb3ee1b",
   "metadata": {},
   "outputs": [
    {
     "data": {
      "text/html": [
       "<div>\n",
       "<style scoped>\n",
       "    .dataframe tbody tr th:only-of-type {\n",
       "        vertical-align: middle;\n",
       "    }\n",
       "\n",
       "    .dataframe tbody tr th {\n",
       "        vertical-align: top;\n",
       "    }\n",
       "\n",
       "    .dataframe thead th {\n",
       "        text-align: right;\n",
       "    }\n",
       "</style>\n",
       "<table border=\"1\" class=\"dataframe\">\n",
       "  <thead>\n",
       "    <tr style=\"text-align: right;\">\n",
       "      <th></th>\n",
       "      <th>full_name</th>\n",
       "      <th>age</th>\n",
       "      <th>birthday</th>\n",
       "      <th>birthday_GMT</th>\n",
       "      <th>league</th>\n",
       "      <th>season</th>\n",
       "      <th>position</th>\n",
       "      <th>Current Club</th>\n",
       "      <th>minutes_played_overall</th>\n",
       "      <th>minutes_played_home</th>\n",
       "      <th>...</th>\n",
       "      <th>Successful 5/5s</th>\n",
       "      <th>Successful 50/50s</th>\n",
       "      <th>Sweeper Clearances</th>\n",
       "      <th>Tackle Success %</th>\n",
       "      <th>Tackles</th>\n",
       "      <th>Team Play</th>\n",
       "      <th>Through Balls</th>\n",
       "      <th>Throw Outs</th>\n",
       "      <th>Wins</th>\n",
       "      <th>Yellow Cards</th>\n",
       "    </tr>\n",
       "  </thead>\n",
       "  <tbody>\n",
       "    <tr>\n",
       "      <th>0</th>\n",
       "      <td>Aaron Cresswell</td>\n",
       "      <td>32</td>\n",
       "      <td>629683200</td>\n",
       "      <td>1989/12/15</td>\n",
       "      <td>Premier League</td>\n",
       "      <td>2018/2019</td>\n",
       "      <td>Defender</td>\n",
       "      <td>West Ham</td>\n",
       "      <td>1589</td>\n",
       "      <td>888</td>\n",
       "      <td>...</td>\n",
       "      <td>0</td>\n",
       "      <td>38</td>\n",
       "      <td>0</td>\n",
       "      <td>65.0</td>\n",
       "      <td>106</td>\n",
       "      <td>NaN</td>\n",
       "      <td>3</td>\n",
       "      <td>0</td>\n",
       "      <td>37</td>\n",
       "      <td>8</td>\n",
       "    </tr>\n",
       "    <tr>\n",
       "      <th>1</th>\n",
       "      <td>Aaron Cresswell</td>\n",
       "      <td>32</td>\n",
       "      <td>629683200</td>\n",
       "      <td>1989/12/15</td>\n",
       "      <td>Premier League</td>\n",
       "      <td>2018/2019</td>\n",
       "      <td>Defender</td>\n",
       "      <td>West Ham</td>\n",
       "      <td>1589</td>\n",
       "      <td>888</td>\n",
       "      <td>...</td>\n",
       "      <td>0</td>\n",
       "      <td>38</td>\n",
       "      <td>0</td>\n",
       "      <td>65.0</td>\n",
       "      <td>106</td>\n",
       "      <td>NaN</td>\n",
       "      <td>3</td>\n",
       "      <td>0</td>\n",
       "      <td>37</td>\n",
       "      <td>8</td>\n",
       "    </tr>\n",
       "    <tr>\n",
       "      <th>2</th>\n",
       "      <td>Aaron Cresswell</td>\n",
       "      <td>32</td>\n",
       "      <td>629683200</td>\n",
       "      <td>1989/12/15</td>\n",
       "      <td>Premier League</td>\n",
       "      <td>2018/2019</td>\n",
       "      <td>Defender</td>\n",
       "      <td>West Ham</td>\n",
       "      <td>1589</td>\n",
       "      <td>888</td>\n",
       "      <td>...</td>\n",
       "      <td>0</td>\n",
       "      <td>38</td>\n",
       "      <td>0</td>\n",
       "      <td>65.0</td>\n",
       "      <td>106</td>\n",
       "      <td>NaN</td>\n",
       "      <td>3</td>\n",
       "      <td>0</td>\n",
       "      <td>37</td>\n",
       "      <td>8</td>\n",
       "    </tr>\n",
       "    <tr>\n",
       "      <th>3</th>\n",
       "      <td>Aaron Cresswell</td>\n",
       "      <td>32</td>\n",
       "      <td>629683200</td>\n",
       "      <td>1989/12/15</td>\n",
       "      <td>Premier League</td>\n",
       "      <td>2018/2019</td>\n",
       "      <td>Defender</td>\n",
       "      <td>West Ham</td>\n",
       "      <td>1589</td>\n",
       "      <td>888</td>\n",
       "      <td>...</td>\n",
       "      <td>0</td>\n",
       "      <td>38</td>\n",
       "      <td>0</td>\n",
       "      <td>65.0</td>\n",
       "      <td>106</td>\n",
       "      <td>NaN</td>\n",
       "      <td>3</td>\n",
       "      <td>0</td>\n",
       "      <td>37</td>\n",
       "      <td>8</td>\n",
       "    </tr>\n",
       "    <tr>\n",
       "      <th>4</th>\n",
       "      <td>Aaron Cresswell</td>\n",
       "      <td>32</td>\n",
       "      <td>629683200</td>\n",
       "      <td>1989/12/15</td>\n",
       "      <td>Premier League</td>\n",
       "      <td>2018/2019</td>\n",
       "      <td>Defender</td>\n",
       "      <td>West Ham</td>\n",
       "      <td>1589</td>\n",
       "      <td>888</td>\n",
       "      <td>...</td>\n",
       "      <td>0</td>\n",
       "      <td>38</td>\n",
       "      <td>0</td>\n",
       "      <td>65.0</td>\n",
       "      <td>106</td>\n",
       "      <td>NaN</td>\n",
       "      <td>3</td>\n",
       "      <td>0</td>\n",
       "      <td>37</td>\n",
       "      <td>8</td>\n",
       "    </tr>\n",
       "    <tr>\n",
       "      <th>...</th>\n",
       "      <td>...</td>\n",
       "      <td>...</td>\n",
       "      <td>...</td>\n",
       "      <td>...</td>\n",
       "      <td>...</td>\n",
       "      <td>...</td>\n",
       "      <td>...</td>\n",
       "      <td>...</td>\n",
       "      <td>...</td>\n",
       "      <td>...</td>\n",
       "      <td>...</td>\n",
       "      <td>...</td>\n",
       "      <td>...</td>\n",
       "      <td>...</td>\n",
       "      <td>...</td>\n",
       "      <td>...</td>\n",
       "      <td>...</td>\n",
       "      <td>...</td>\n",
       "      <td>...</td>\n",
       "      <td>...</td>\n",
       "      <td>...</td>\n",
       "    </tr>\n",
       "    <tr>\n",
       "      <th>9381</th>\n",
       "      <td>Xherdan Shaqiri</td>\n",
       "      <td>30</td>\n",
       "      <td>687052800</td>\n",
       "      <td>1991/10/10</td>\n",
       "      <td>Premier League</td>\n",
       "      <td>2018/2019</td>\n",
       "      <td>Midfielder</td>\n",
       "      <td>Liverpool</td>\n",
       "      <td>1058</td>\n",
       "      <td>538</td>\n",
       "      <td>...</td>\n",
       "      <td>0</td>\n",
       "      <td>81</td>\n",
       "      <td>0</td>\n",
       "      <td>59.0</td>\n",
       "      <td>39</td>\n",
       "      <td>NaN</td>\n",
       "      <td>34</td>\n",
       "      <td>0</td>\n",
       "      <td>19</td>\n",
       "      <td>5</td>\n",
       "    </tr>\n",
       "    <tr>\n",
       "      <th>9382</th>\n",
       "      <td>Xherdan Shaqiri</td>\n",
       "      <td>30</td>\n",
       "      <td>687052800</td>\n",
       "      <td>1991/10/10</td>\n",
       "      <td>Premier League</td>\n",
       "      <td>2018/2019</td>\n",
       "      <td>Midfielder</td>\n",
       "      <td>Liverpool</td>\n",
       "      <td>1058</td>\n",
       "      <td>538</td>\n",
       "      <td>...</td>\n",
       "      <td>0</td>\n",
       "      <td>81</td>\n",
       "      <td>0</td>\n",
       "      <td>59.0</td>\n",
       "      <td>39</td>\n",
       "      <td>NaN</td>\n",
       "      <td>34</td>\n",
       "      <td>0</td>\n",
       "      <td>19</td>\n",
       "      <td>5</td>\n",
       "    </tr>\n",
       "    <tr>\n",
       "      <th>9383</th>\n",
       "      <td>Xherdan Shaqiri</td>\n",
       "      <td>30</td>\n",
       "      <td>687052800</td>\n",
       "      <td>1991/10/10</td>\n",
       "      <td>Premier League</td>\n",
       "      <td>2018/2019</td>\n",
       "      <td>Midfielder</td>\n",
       "      <td>Liverpool</td>\n",
       "      <td>1058</td>\n",
       "      <td>538</td>\n",
       "      <td>...</td>\n",
       "      <td>0</td>\n",
       "      <td>81</td>\n",
       "      <td>0</td>\n",
       "      <td>59.0</td>\n",
       "      <td>39</td>\n",
       "      <td>NaN</td>\n",
       "      <td>34</td>\n",
       "      <td>0</td>\n",
       "      <td>19</td>\n",
       "      <td>5</td>\n",
       "    </tr>\n",
       "    <tr>\n",
       "      <th>9384</th>\n",
       "      <td>Xherdan Shaqiri</td>\n",
       "      <td>30</td>\n",
       "      <td>687052800</td>\n",
       "      <td>1991/10/10</td>\n",
       "      <td>Premier League</td>\n",
       "      <td>2018/2019</td>\n",
       "      <td>Midfielder</td>\n",
       "      <td>Liverpool</td>\n",
       "      <td>1058</td>\n",
       "      <td>538</td>\n",
       "      <td>...</td>\n",
       "      <td>0</td>\n",
       "      <td>81</td>\n",
       "      <td>0</td>\n",
       "      <td>59.0</td>\n",
       "      <td>39</td>\n",
       "      <td>NaN</td>\n",
       "      <td>34</td>\n",
       "      <td>0</td>\n",
       "      <td>19</td>\n",
       "      <td>5</td>\n",
       "    </tr>\n",
       "    <tr>\n",
       "      <th>9385</th>\n",
       "      <td>Xherdan Shaqiri</td>\n",
       "      <td>30</td>\n",
       "      <td>687052800</td>\n",
       "      <td>1991/10/10</td>\n",
       "      <td>Premier League</td>\n",
       "      <td>2018/2019</td>\n",
       "      <td>Midfielder</td>\n",
       "      <td>Liverpool</td>\n",
       "      <td>1058</td>\n",
       "      <td>538</td>\n",
       "      <td>...</td>\n",
       "      <td>0</td>\n",
       "      <td>81</td>\n",
       "      <td>0</td>\n",
       "      <td>59.0</td>\n",
       "      <td>39</td>\n",
       "      <td>NaN</td>\n",
       "      <td>34</td>\n",
       "      <td>0</td>\n",
       "      <td>19</td>\n",
       "      <td>5</td>\n",
       "    </tr>\n",
       "  </tbody>\n",
       "</table>\n",
       "<p>9386 rows × 115 columns</p>\n",
       "</div>"
      ],
      "text/plain": [
       "            full_name  age   birthday birthday_GMT          league     season  \\\n",
       "0     Aaron Cresswell   32  629683200   1989/12/15  Premier League  2018/2019   \n",
       "1     Aaron Cresswell   32  629683200   1989/12/15  Premier League  2018/2019   \n",
       "2     Aaron Cresswell   32  629683200   1989/12/15  Premier League  2018/2019   \n",
       "3     Aaron Cresswell   32  629683200   1989/12/15  Premier League  2018/2019   \n",
       "4     Aaron Cresswell   32  629683200   1989/12/15  Premier League  2018/2019   \n",
       "...               ...  ...        ...          ...             ...        ...   \n",
       "9381  Xherdan Shaqiri   30  687052800   1991/10/10  Premier League  2018/2019   \n",
       "9382  Xherdan Shaqiri   30  687052800   1991/10/10  Premier League  2018/2019   \n",
       "9383  Xherdan Shaqiri   30  687052800   1991/10/10  Premier League  2018/2019   \n",
       "9384  Xherdan Shaqiri   30  687052800   1991/10/10  Premier League  2018/2019   \n",
       "9385  Xherdan Shaqiri   30  687052800   1991/10/10  Premier League  2018/2019   \n",
       "\n",
       "        position Current Club  minutes_played_overall  minutes_played_home  \\\n",
       "0       Defender     West Ham                    1589                  888   \n",
       "1       Defender     West Ham                    1589                  888   \n",
       "2       Defender     West Ham                    1589                  888   \n",
       "3       Defender     West Ham                    1589                  888   \n",
       "4       Defender     West Ham                    1589                  888   \n",
       "...          ...          ...                     ...                  ...   \n",
       "9381  Midfielder    Liverpool                    1058                  538   \n",
       "9382  Midfielder    Liverpool                    1058                  538   \n",
       "9383  Midfielder    Liverpool                    1058                  538   \n",
       "9384  Midfielder    Liverpool                    1058                  538   \n",
       "9385  Midfielder    Liverpool                    1058                  538   \n",
       "\n",
       "      ...  Successful 5/5s Successful 50/50s  Sweeper Clearances  \\\n",
       "0     ...                0                38                   0   \n",
       "1     ...                0                38                   0   \n",
       "2     ...                0                38                   0   \n",
       "3     ...                0                38                   0   \n",
       "4     ...                0                38                   0   \n",
       "...   ...              ...               ...                 ...   \n",
       "9381  ...                0                81                   0   \n",
       "9382  ...                0                81                   0   \n",
       "9383  ...                0                81                   0   \n",
       "9384  ...                0                81                   0   \n",
       "9385  ...                0                81                   0   \n",
       "\n",
       "      Tackle Success %  Tackles  Team Play  Through Balls  Throw Outs  Wins  \\\n",
       "0                 65.0      106        NaN              3           0    37   \n",
       "1                 65.0      106        NaN              3           0    37   \n",
       "2                 65.0      106        NaN              3           0    37   \n",
       "3                 65.0      106        NaN              3           0    37   \n",
       "4                 65.0      106        NaN              3           0    37   \n",
       "...                ...      ...        ...            ...         ...   ...   \n",
       "9381              59.0       39        NaN             34           0    19   \n",
       "9382              59.0       39        NaN             34           0    19   \n",
       "9383              59.0       39        NaN             34           0    19   \n",
       "9384              59.0       39        NaN             34           0    19   \n",
       "9385              59.0       39        NaN             34           0    19   \n",
       "\n",
       "      Yellow Cards  \n",
       "0                8  \n",
       "1                8  \n",
       "2                8  \n",
       "3                8  \n",
       "4                8  \n",
       "...            ...  \n",
       "9381             5  \n",
       "9382             5  \n",
       "9383             5  \n",
       "9384             5  \n",
       "9385             5  \n",
       "\n",
       "[9386 rows x 115 columns]"
      ]
     },
     "execution_count": 22,
     "metadata": {},
     "output_type": "execute_result"
    }
   ],
   "source": [
    "merged"
   ]
  },
  {
   "cell_type": "code",
   "execution_count": 23,
   "id": "42ff62d1-bbd9-4560-b6ab-93ebce14bd24",
   "metadata": {},
   "outputs": [],
   "source": [
    "finalnames=list(merged['full_name'].unique())"
   ]
  },
  {
   "cell_type": "code",
   "execution_count": 24,
   "id": "73b95f21-b4c8-4d40-b34c-2d1c6fcff6c3",
   "metadata": {},
   "outputs": [],
   "source": [
    "a=a[a['full_name'].isin(finalnames) == True]\n",
    "d=d[d['player'].isin(finalnames) == True]\n",
    "football = football[football['Player Name'].isin(finalnames) == True]"
   ]
  },
  {
   "cell_type": "code",
   "execution_count": 25,
   "id": "f7ba71e9-6e2b-4a4c-a29d-f596d0045d88",
   "metadata": {},
   "outputs": [],
   "source": [
    "a=a[['full_name', 'age', 'Current Club', 'goals_home', 'goals_away']]"
   ]
  },
  {
   "cell_type": "code",
   "execution_count": 26,
   "id": "38450132-06f7-41f0-84e0-5150f3f3bfd6",
   "metadata": {},
   "outputs": [],
   "source": [
    "a['goals'] = a['goals_home']+a['goals_away']"
   ]
  },
  {
   "cell_type": "code",
   "execution_count": 27,
   "id": "ea69d8fc-fcbc-490d-8720-85e753fdc4e4",
   "metadata": {},
   "outputs": [
    {
     "data": {
      "text/html": [
       "<div>\n",
       "<style scoped>\n",
       "    .dataframe tbody tr th:only-of-type {\n",
       "        vertical-align: middle;\n",
       "    }\n",
       "\n",
       "    .dataframe tbody tr th {\n",
       "        vertical-align: top;\n",
       "    }\n",
       "\n",
       "    .dataframe thead th {\n",
       "        text-align: right;\n",
       "    }\n",
       "</style>\n",
       "<table border=\"1\" class=\"dataframe\">\n",
       "  <thead>\n",
       "    <tr style=\"text-align: right;\">\n",
       "      <th></th>\n",
       "      <th>Player Name</th>\n",
       "      <th>Accurate Long Balls</th>\n",
       "      <th>Aerial Battles Lost</th>\n",
       "      <th>Aerial Battles Won</th>\n",
       "      <th>Appearances</th>\n",
       "      <th>Assists</th>\n",
       "      <th>Attack</th>\n",
       "      <th>Big Chances Created</th>\n",
       "      <th>Big Chances Missed</th>\n",
       "      <th>Blocked Shots</th>\n",
       "      <th>...</th>\n",
       "      <th>Successful 5/5s</th>\n",
       "      <th>Successful 50/50s</th>\n",
       "      <th>Sweeper Clearances</th>\n",
       "      <th>Tackle Success %</th>\n",
       "      <th>Tackles</th>\n",
       "      <th>Team Play</th>\n",
       "      <th>Through Balls</th>\n",
       "      <th>Throw Outs</th>\n",
       "      <th>Wins</th>\n",
       "      <th>Yellow Cards</th>\n",
       "    </tr>\n",
       "  </thead>\n",
       "  <tbody>\n",
       "    <tr>\n",
       "      <th>10</th>\n",
       "      <td>Nathan Aké</td>\n",
       "      <td>57.0</td>\n",
       "      <td>52</td>\n",
       "      <td>71</td>\n",
       "      <td>46</td>\n",
       "      <td>1</td>\n",
       "      <td>NaN</td>\n",
       "      <td>3</td>\n",
       "      <td>0</td>\n",
       "      <td>5</td>\n",
       "      <td>...</td>\n",
       "      <td>0</td>\n",
       "      <td>14</td>\n",
       "      <td>0</td>\n",
       "      <td>68.0</td>\n",
       "      <td>114</td>\n",
       "      <td>NaN</td>\n",
       "      <td>1</td>\n",
       "      <td>0</td>\n",
       "      <td>21</td>\n",
       "      <td>6</td>\n",
       "    </tr>\n",
       "    <tr>\n",
       "      <th>12</th>\n",
       "      <td>Marc Albrighton</td>\n",
       "      <td>227.0</td>\n",
       "      <td>147</td>\n",
       "      <td>41</td>\n",
       "      <td>180</td>\n",
       "      <td>26</td>\n",
       "      <td>NaN</td>\n",
       "      <td>42</td>\n",
       "      <td>12</td>\n",
       "      <td>55</td>\n",
       "      <td>...</td>\n",
       "      <td>0</td>\n",
       "      <td>200</td>\n",
       "      <td>0</td>\n",
       "      <td>78.0</td>\n",
       "      <td>316</td>\n",
       "      <td>NaN</td>\n",
       "      <td>10</td>\n",
       "      <td>0</td>\n",
       "      <td>61</td>\n",
       "      <td>22</td>\n",
       "    </tr>\n",
       "    <tr>\n",
       "      <th>13</th>\n",
       "      <td>Toby Alderweireld</td>\n",
       "      <td>632.0</td>\n",
       "      <td>132</td>\n",
       "      <td>146</td>\n",
       "      <td>99</td>\n",
       "      <td>2</td>\n",
       "      <td>NaN</td>\n",
       "      <td>2</td>\n",
       "      <td>0</td>\n",
       "      <td>20</td>\n",
       "      <td>...</td>\n",
       "      <td>0</td>\n",
       "      <td>21</td>\n",
       "      <td>0</td>\n",
       "      <td>78.0</td>\n",
       "      <td>136</td>\n",
       "      <td>NaN</td>\n",
       "      <td>4</td>\n",
       "      <td>0</td>\n",
       "      <td>56</td>\n",
       "      <td>10</td>\n",
       "    </tr>\n",
       "    <tr>\n",
       "      <th>15</th>\n",
       "      <td>Trent Alexander-Arnold</td>\n",
       "      <td>23.0</td>\n",
       "      <td>2</td>\n",
       "      <td>2</td>\n",
       "      <td>10</td>\n",
       "      <td>0</td>\n",
       "      <td>NaN</td>\n",
       "      <td>1</td>\n",
       "      <td>0</td>\n",
       "      <td>1</td>\n",
       "      <td>...</td>\n",
       "      <td>0</td>\n",
       "      <td>4</td>\n",
       "      <td>0</td>\n",
       "      <td>62.0</td>\n",
       "      <td>13</td>\n",
       "      <td>NaN</td>\n",
       "      <td>0</td>\n",
       "      <td>0</td>\n",
       "      <td>5</td>\n",
       "      <td>2</td>\n",
       "    </tr>\n",
       "    <tr>\n",
       "      <th>20</th>\n",
       "      <td>Marcos Alonso</td>\n",
       "      <td>110.0</td>\n",
       "      <td>83</td>\n",
       "      <td>129</td>\n",
       "      <td>61</td>\n",
       "      <td>4</td>\n",
       "      <td>NaN</td>\n",
       "      <td>5</td>\n",
       "      <td>0</td>\n",
       "      <td>24</td>\n",
       "      <td>...</td>\n",
       "      <td>0</td>\n",
       "      <td>47</td>\n",
       "      <td>0</td>\n",
       "      <td>74.0</td>\n",
       "      <td>146</td>\n",
       "      <td>NaN</td>\n",
       "      <td>5</td>\n",
       "      <td>0</td>\n",
       "      <td>40</td>\n",
       "      <td>11</td>\n",
       "    </tr>\n",
       "    <tr>\n",
       "      <th>...</th>\n",
       "      <td>...</td>\n",
       "      <td>...</td>\n",
       "      <td>...</td>\n",
       "      <td>...</td>\n",
       "      <td>...</td>\n",
       "      <td>...</td>\n",
       "      <td>...</td>\n",
       "      <td>...</td>\n",
       "      <td>...</td>\n",
       "      <td>...</td>\n",
       "      <td>...</td>\n",
       "      <td>...</td>\n",
       "      <td>...</td>\n",
       "      <td>...</td>\n",
       "      <td>...</td>\n",
       "      <td>...</td>\n",
       "      <td>...</td>\n",
       "      <td>...</td>\n",
       "      <td>...</td>\n",
       "      <td>...</td>\n",
       "      <td>...</td>\n",
       "    </tr>\n",
       "    <tr>\n",
       "      <th>619</th>\n",
       "      <td>Pablo Zabaleta</td>\n",
       "      <td>337.0</td>\n",
       "      <td>264</td>\n",
       "      <td>327</td>\n",
       "      <td>235</td>\n",
       "      <td>19</td>\n",
       "      <td>NaN</td>\n",
       "      <td>27</td>\n",
       "      <td>0</td>\n",
       "      <td>48</td>\n",
       "      <td>...</td>\n",
       "      <td>0</td>\n",
       "      <td>64</td>\n",
       "      <td>0</td>\n",
       "      <td>74.0</td>\n",
       "      <td>805</td>\n",
       "      <td>NaN</td>\n",
       "      <td>21</td>\n",
       "      <td>0</td>\n",
       "      <td>135</td>\n",
       "      <td>57</td>\n",
       "    </tr>\n",
       "    <tr>\n",
       "      <th>620</th>\n",
       "      <td>Wilfried Zaha</td>\n",
       "      <td>49.0</td>\n",
       "      <td>75</td>\n",
       "      <td>40</td>\n",
       "      <td>115</td>\n",
       "      <td>13</td>\n",
       "      <td>NaN</td>\n",
       "      <td>18</td>\n",
       "      <td>14</td>\n",
       "      <td>41</td>\n",
       "      <td>...</td>\n",
       "      <td>0</td>\n",
       "      <td>394</td>\n",
       "      <td>0</td>\n",
       "      <td>79.0</td>\n",
       "      <td>183</td>\n",
       "      <td>NaN</td>\n",
       "      <td>10</td>\n",
       "      <td>0</td>\n",
       "      <td>34</td>\n",
       "      <td>15</td>\n",
       "    </tr>\n",
       "    <tr>\n",
       "      <th>622</th>\n",
       "      <td>Davide Zappacosta</td>\n",
       "      <td>0.0</td>\n",
       "      <td>0</td>\n",
       "      <td>0</td>\n",
       "      <td>1</td>\n",
       "      <td>0</td>\n",
       "      <td>NaN</td>\n",
       "      <td>0</td>\n",
       "      <td>0</td>\n",
       "      <td>0</td>\n",
       "      <td>...</td>\n",
       "      <td>0</td>\n",
       "      <td>0</td>\n",
       "      <td>0</td>\n",
       "      <td>0.0</td>\n",
       "      <td>0</td>\n",
       "      <td>NaN</td>\n",
       "      <td>0</td>\n",
       "      <td>0</td>\n",
       "      <td>1</td>\n",
       "      <td>0</td>\n",
       "    </tr>\n",
       "    <tr>\n",
       "      <th>625</th>\n",
       "      <td>Oleksandr Zinchenko</td>\n",
       "      <td>0.0</td>\n",
       "      <td>0</td>\n",
       "      <td>0</td>\n",
       "      <td>0</td>\n",
       "      <td>0</td>\n",
       "      <td>NaN</td>\n",
       "      <td>0</td>\n",
       "      <td>0</td>\n",
       "      <td>0</td>\n",
       "      <td>...</td>\n",
       "      <td>0</td>\n",
       "      <td>0</td>\n",
       "      <td>0</td>\n",
       "      <td>0.0</td>\n",
       "      <td>0</td>\n",
       "      <td>NaN</td>\n",
       "      <td>0</td>\n",
       "      <td>0</td>\n",
       "      <td>0</td>\n",
       "      <td>0</td>\n",
       "    </tr>\n",
       "    <tr>\n",
       "      <th>626</th>\n",
       "      <td>Kurt Zouma</td>\n",
       "      <td>79.0</td>\n",
       "      <td>47</td>\n",
       "      <td>110</td>\n",
       "      <td>52</td>\n",
       "      <td>2</td>\n",
       "      <td>NaN</td>\n",
       "      <td>2</td>\n",
       "      <td>0</td>\n",
       "      <td>3</td>\n",
       "      <td>...</td>\n",
       "      <td>0</td>\n",
       "      <td>18</td>\n",
       "      <td>0</td>\n",
       "      <td>71.0</td>\n",
       "      <td>63</td>\n",
       "      <td>NaN</td>\n",
       "      <td>0</td>\n",
       "      <td>0</td>\n",
       "      <td>26</td>\n",
       "      <td>0</td>\n",
       "    </tr>\n",
       "  </tbody>\n",
       "</table>\n",
       "<p>247 rows × 64 columns</p>\n",
       "</div>"
      ],
      "text/plain": [
       "                Player Name  Accurate Long Balls  Aerial Battles Lost  \\\n",
       "10               Nathan Aké                 57.0                   52   \n",
       "12          Marc Albrighton                227.0                  147   \n",
       "13        Toby Alderweireld                632.0                  132   \n",
       "15   Trent Alexander-Arnold                 23.0                    2   \n",
       "20            Marcos Alonso                110.0                   83   \n",
       "..                      ...                  ...                  ...   \n",
       "619          Pablo Zabaleta                337.0                  264   \n",
       "620           Wilfried Zaha                 49.0                   75   \n",
       "622       Davide Zappacosta                  0.0                    0   \n",
       "625     Oleksandr Zinchenko                  0.0                    0   \n",
       "626              Kurt Zouma                 79.0                   47   \n",
       "\n",
       "     Aerial Battles Won  Appearances  Assists  Attack  Big Chances Created  \\\n",
       "10                   71           46        1     NaN                    3   \n",
       "12                   41          180       26     NaN                   42   \n",
       "13                  146           99        2     NaN                    2   \n",
       "15                    2           10        0     NaN                    1   \n",
       "20                  129           61        4     NaN                    5   \n",
       "..                  ...          ...      ...     ...                  ...   \n",
       "619                 327          235       19     NaN                   27   \n",
       "620                  40          115       13     NaN                   18   \n",
       "622                   0            1        0     NaN                    0   \n",
       "625                   0            0        0     NaN                    0   \n",
       "626                 110           52        2     NaN                    2   \n",
       "\n",
       "     Big Chances Missed  Blocked Shots  ...  Successful 5/5s  \\\n",
       "10                    0              5  ...                0   \n",
       "12                   12             55  ...                0   \n",
       "13                    0             20  ...                0   \n",
       "15                    0              1  ...                0   \n",
       "20                    0             24  ...                0   \n",
       "..                  ...            ...  ...              ...   \n",
       "619                   0             48  ...                0   \n",
       "620                  14             41  ...                0   \n",
       "622                   0              0  ...                0   \n",
       "625                   0              0  ...                0   \n",
       "626                   0              3  ...                0   \n",
       "\n",
       "     Successful 50/50s  Sweeper Clearances  Tackle Success % Tackles  \\\n",
       "10                  14                   0              68.0     114   \n",
       "12                 200                   0              78.0     316   \n",
       "13                  21                   0              78.0     136   \n",
       "15                   4                   0              62.0      13   \n",
       "20                  47                   0              74.0     146   \n",
       "..                 ...                 ...               ...     ...   \n",
       "619                 64                   0              74.0     805   \n",
       "620                394                   0              79.0     183   \n",
       "622                  0                   0               0.0       0   \n",
       "625                  0                   0               0.0       0   \n",
       "626                 18                   0              71.0      63   \n",
       "\n",
       "     Team Play  Through Balls  Throw Outs  Wins  Yellow Cards  \n",
       "10         NaN              1           0    21             6  \n",
       "12         NaN             10           0    61            22  \n",
       "13         NaN              4           0    56            10  \n",
       "15         NaN              0           0     5             2  \n",
       "20         NaN              5           0    40            11  \n",
       "..         ...            ...         ...   ...           ...  \n",
       "619        NaN             21           0   135            57  \n",
       "620        NaN             10           0    34            15  \n",
       "622        NaN              0           0     1             0  \n",
       "625        NaN              0           0     0             0  \n",
       "626        NaN              0           0    26             0  \n",
       "\n",
       "[247 rows x 64 columns]"
      ]
     },
     "execution_count": 27,
     "metadata": {},
     "output_type": "execute_result"
    }
   ],
   "source": [
    "football"
   ]
  },
  {
   "cell_type": "code",
   "execution_count": 28,
   "id": "b66e5d37-6439-4112-8844-7d593916608c",
   "metadata": {},
   "outputs": [],
   "source": [
    "football=football[['Player Name', 'Shots', 'Blocked Shots', 'Shots On Target', 'Passes', 'Tackles', 'Offsides', 'Fouls', 'Interceptions', 'Penalties Scored', 'Wins', 'Losses', 'Red Cards', 'Yellow Cards']]"
   ]
  },
  {
   "cell_type": "code",
   "execution_count": 29,
   "id": "0fb22912-f765-421b-a072-3d5d6e0350c8",
   "metadata": {},
   "outputs": [
    {
     "data": {
      "text/html": [
       "<div>\n",
       "<style scoped>\n",
       "    .dataframe tbody tr th:only-of-type {\n",
       "        vertical-align: middle;\n",
       "    }\n",
       "\n",
       "    .dataframe tbody tr th {\n",
       "        vertical-align: top;\n",
       "    }\n",
       "\n",
       "    .dataframe thead th {\n",
       "        text-align: right;\n",
       "    }\n",
       "</style>\n",
       "<table border=\"1\" class=\"dataframe\">\n",
       "  <thead>\n",
       "    <tr style=\"text-align: right;\">\n",
       "      <th></th>\n",
       "      <th>Player Name</th>\n",
       "      <th>Shots</th>\n",
       "      <th>Blocked Shots</th>\n",
       "      <th>Shots On Target</th>\n",
       "      <th>Passes</th>\n",
       "      <th>Tackles</th>\n",
       "      <th>Offsides</th>\n",
       "      <th>Fouls</th>\n",
       "      <th>Interceptions</th>\n",
       "      <th>Penalties Scored</th>\n",
       "      <th>Wins</th>\n",
       "      <th>Losses</th>\n",
       "      <th>Red Cards</th>\n",
       "      <th>Yellow Cards</th>\n",
       "    </tr>\n",
       "  </thead>\n",
       "  <tbody>\n",
       "    <tr>\n",
       "      <th>10</th>\n",
       "      <td>Nathan Aké</td>\n",
       "      <td>0</td>\n",
       "      <td>5</td>\n",
       "      <td>0</td>\n",
       "      <td>1336</td>\n",
       "      <td>114</td>\n",
       "      <td>0</td>\n",
       "      <td>37</td>\n",
       "      <td>99</td>\n",
       "      <td>0</td>\n",
       "      <td>21</td>\n",
       "      <td>20</td>\n",
       "      <td>1</td>\n",
       "      <td>6</td>\n",
       "    </tr>\n",
       "    <tr>\n",
       "      <th>12</th>\n",
       "      <td>Marc Albrighton</td>\n",
       "      <td>174</td>\n",
       "      <td>55</td>\n",
       "      <td>55</td>\n",
       "      <td>3649</td>\n",
       "      <td>316</td>\n",
       "      <td>12</td>\n",
       "      <td>131</td>\n",
       "      <td>202</td>\n",
       "      <td>0</td>\n",
       "      <td>61</td>\n",
       "      <td>68</td>\n",
       "      <td>0</td>\n",
       "      <td>22</td>\n",
       "    </tr>\n",
       "    <tr>\n",
       "      <th>13</th>\n",
       "      <td>Toby Alderweireld</td>\n",
       "      <td>0</td>\n",
       "      <td>20</td>\n",
       "      <td>0</td>\n",
       "      <td>5100</td>\n",
       "      <td>136</td>\n",
       "      <td>1</td>\n",
       "      <td>34</td>\n",
       "      <td>125</td>\n",
       "      <td>0</td>\n",
       "      <td>56</td>\n",
       "      <td>19</td>\n",
       "      <td>0</td>\n",
       "      <td>10</td>\n",
       "    </tr>\n",
       "    <tr>\n",
       "      <th>15</th>\n",
       "      <td>Trent Alexander-Arnold</td>\n",
       "      <td>0</td>\n",
       "      <td>1</td>\n",
       "      <td>0</td>\n",
       "      <td>196</td>\n",
       "      <td>13</td>\n",
       "      <td>1</td>\n",
       "      <td>3</td>\n",
       "      <td>9</td>\n",
       "      <td>0</td>\n",
       "      <td>5</td>\n",
       "      <td>2</td>\n",
       "      <td>0</td>\n",
       "      <td>2</td>\n",
       "    </tr>\n",
       "    <tr>\n",
       "      <th>20</th>\n",
       "      <td>Marcos Alonso</td>\n",
       "      <td>0</td>\n",
       "      <td>24</td>\n",
       "      <td>0</td>\n",
       "      <td>2367</td>\n",
       "      <td>146</td>\n",
       "      <td>5</td>\n",
       "      <td>58</td>\n",
       "      <td>107</td>\n",
       "      <td>0</td>\n",
       "      <td>40</td>\n",
       "      <td>14</td>\n",
       "      <td>1</td>\n",
       "      <td>11</td>\n",
       "    </tr>\n",
       "    <tr>\n",
       "      <th>...</th>\n",
       "      <td>...</td>\n",
       "      <td>...</td>\n",
       "      <td>...</td>\n",
       "      <td>...</td>\n",
       "      <td>...</td>\n",
       "      <td>...</td>\n",
       "      <td>...</td>\n",
       "      <td>...</td>\n",
       "      <td>...</td>\n",
       "      <td>...</td>\n",
       "      <td>...</td>\n",
       "      <td>...</td>\n",
       "      <td>...</td>\n",
       "      <td>...</td>\n",
       "    </tr>\n",
       "    <tr>\n",
       "      <th>619</th>\n",
       "      <td>Pablo Zabaleta</td>\n",
       "      <td>0</td>\n",
       "      <td>48</td>\n",
       "      <td>0</td>\n",
       "      <td>9632</td>\n",
       "      <td>805</td>\n",
       "      <td>18</td>\n",
       "      <td>301</td>\n",
       "      <td>490</td>\n",
       "      <td>0</td>\n",
       "      <td>135</td>\n",
       "      <td>54</td>\n",
       "      <td>4</td>\n",
       "      <td>57</td>\n",
       "    </tr>\n",
       "    <tr>\n",
       "      <th>620</th>\n",
       "      <td>Wilfried Zaha</td>\n",
       "      <td>135</td>\n",
       "      <td>41</td>\n",
       "      <td>48</td>\n",
       "      <td>1820</td>\n",
       "      <td>183</td>\n",
       "      <td>25</td>\n",
       "      <td>147</td>\n",
       "      <td>88</td>\n",
       "      <td>0</td>\n",
       "      <td>34</td>\n",
       "      <td>56</td>\n",
       "      <td>0</td>\n",
       "      <td>15</td>\n",
       "    </tr>\n",
       "    <tr>\n",
       "      <th>622</th>\n",
       "      <td>Davide Zappacosta</td>\n",
       "      <td>0</td>\n",
       "      <td>0</td>\n",
       "      <td>0</td>\n",
       "      <td>10</td>\n",
       "      <td>0</td>\n",
       "      <td>0</td>\n",
       "      <td>0</td>\n",
       "      <td>0</td>\n",
       "      <td>0</td>\n",
       "      <td>1</td>\n",
       "      <td>0</td>\n",
       "      <td>0</td>\n",
       "      <td>0</td>\n",
       "    </tr>\n",
       "    <tr>\n",
       "      <th>625</th>\n",
       "      <td>Oleksandr Zinchenko</td>\n",
       "      <td>0</td>\n",
       "      <td>0</td>\n",
       "      <td>0</td>\n",
       "      <td>0</td>\n",
       "      <td>0</td>\n",
       "      <td>0</td>\n",
       "      <td>0</td>\n",
       "      <td>0</td>\n",
       "      <td>0</td>\n",
       "      <td>0</td>\n",
       "      <td>0</td>\n",
       "      <td>0</td>\n",
       "      <td>0</td>\n",
       "    </tr>\n",
       "    <tr>\n",
       "      <th>626</th>\n",
       "      <td>Kurt Zouma</td>\n",
       "      <td>0</td>\n",
       "      <td>3</td>\n",
       "      <td>0</td>\n",
       "      <td>1306</td>\n",
       "      <td>63</td>\n",
       "      <td>2</td>\n",
       "      <td>19</td>\n",
       "      <td>51</td>\n",
       "      <td>0</td>\n",
       "      <td>26</td>\n",
       "      <td>11</td>\n",
       "      <td>0</td>\n",
       "      <td>0</td>\n",
       "    </tr>\n",
       "  </tbody>\n",
       "</table>\n",
       "<p>247 rows × 14 columns</p>\n",
       "</div>"
      ],
      "text/plain": [
       "                Player Name Shots  Blocked Shots  Shots On Target  Passes  \\\n",
       "10               Nathan Aké     0              5                0    1336   \n",
       "12          Marc Albrighton   174             55               55    3649   \n",
       "13        Toby Alderweireld     0             20                0    5100   \n",
       "15   Trent Alexander-Arnold     0              1                0     196   \n",
       "20            Marcos Alonso     0             24                0    2367   \n",
       "..                      ...   ...            ...              ...     ...   \n",
       "619          Pablo Zabaleta     0             48                0    9632   \n",
       "620           Wilfried Zaha   135             41               48    1820   \n",
       "622       Davide Zappacosta     0              0                0      10   \n",
       "625     Oleksandr Zinchenko     0              0                0       0   \n",
       "626              Kurt Zouma     0              3                0    1306   \n",
       "\n",
       "     Tackles  Offsides  Fouls  Interceptions  Penalties Scored  Wins  Losses  \\\n",
       "10       114         0     37             99                 0    21      20   \n",
       "12       316        12    131            202                 0    61      68   \n",
       "13       136         1     34            125                 0    56      19   \n",
       "15        13         1      3              9                 0     5       2   \n",
       "20       146         5     58            107                 0    40      14   \n",
       "..       ...       ...    ...            ...               ...   ...     ...   \n",
       "619      805        18    301            490                 0   135      54   \n",
       "620      183        25    147             88                 0    34      56   \n",
       "622        0         0      0              0                 0     1       0   \n",
       "625        0         0      0              0                 0     0       0   \n",
       "626       63         2     19             51                 0    26      11   \n",
       "\n",
       "     Red Cards  Yellow Cards  \n",
       "10           1             6  \n",
       "12           0            22  \n",
       "13           0            10  \n",
       "15           0             2  \n",
       "20           1            11  \n",
       "..         ...           ...  \n",
       "619          4            57  \n",
       "620          0            15  \n",
       "622          0             0  \n",
       "625          0             0  \n",
       "626          0             0  \n",
       "\n",
       "[247 rows x 14 columns]"
      ]
     },
     "execution_count": 29,
     "metadata": {},
     "output_type": "execute_result"
    }
   ],
   "source": [
    "football"
   ]
  },
  {
   "cell_type": "code",
   "execution_count": 30,
   "id": "7a5f5029-b2a9-4025-b129-210c8b41854d",
   "metadata": {},
   "outputs": [
    {
     "data": {
      "text/html": [
       "<div>\n",
       "<style scoped>\n",
       "    .dataframe tbody tr th:only-of-type {\n",
       "        vertical-align: middle;\n",
       "    }\n",
       "\n",
       "    .dataframe tbody tr th {\n",
       "        vertical-align: top;\n",
       "    }\n",
       "\n",
       "    .dataframe thead th {\n",
       "        text-align: right;\n",
       "    }\n",
       "</style>\n",
       "<table border=\"1\" class=\"dataframe\">\n",
       "  <thead>\n",
       "    <tr style=\"text-align: right;\">\n",
       "      <th></th>\n",
       "      <th>full_name</th>\n",
       "      <th>age</th>\n",
       "      <th>Current Club</th>\n",
       "      <th>goals_home</th>\n",
       "      <th>goals_away</th>\n",
       "      <th>goals</th>\n",
       "    </tr>\n",
       "  </thead>\n",
       "  <tbody>\n",
       "    <tr>\n",
       "      <th>0</th>\n",
       "      <td>Aaron Cresswell</td>\n",
       "      <td>32</td>\n",
       "      <td>West Ham</td>\n",
       "      <td>0</td>\n",
       "      <td>0</td>\n",
       "      <td>0</td>\n",
       "    </tr>\n",
       "    <tr>\n",
       "      <th>1</th>\n",
       "      <td>Aaron Lennon</td>\n",
       "      <td>34</td>\n",
       "      <td>Burnley</td>\n",
       "      <td>1</td>\n",
       "      <td>0</td>\n",
       "      <td>1</td>\n",
       "    </tr>\n",
       "    <tr>\n",
       "      <th>2</th>\n",
       "      <td>Aaron Mooy</td>\n",
       "      <td>31</td>\n",
       "      <td>Huddersfield</td>\n",
       "      <td>1</td>\n",
       "      <td>2</td>\n",
       "      <td>3</td>\n",
       "    </tr>\n",
       "    <tr>\n",
       "      <th>3</th>\n",
       "      <td>Aaron Ramsey</td>\n",
       "      <td>31</td>\n",
       "      <td>Arsenal</td>\n",
       "      <td>2</td>\n",
       "      <td>2</td>\n",
       "      <td>4</td>\n",
       "    </tr>\n",
       "    <tr>\n",
       "      <th>6</th>\n",
       "      <td>Abdelhamid Sabiri</td>\n",
       "      <td>25</td>\n",
       "      <td>Huddersfield</td>\n",
       "      <td>0</td>\n",
       "      <td>0</td>\n",
       "      <td>0</td>\n",
       "    </tr>\n",
       "    <tr>\n",
       "      <th>...</th>\n",
       "      <td>...</td>\n",
       "      <td>...</td>\n",
       "      <td>...</td>\n",
       "      <td>...</td>\n",
       "      <td>...</td>\n",
       "      <td>...</td>\n",
       "    </tr>\n",
       "    <tr>\n",
       "      <th>556</th>\n",
       "      <td>Wesley Hoedt</td>\n",
       "      <td>27</td>\n",
       "      <td>Southampton</td>\n",
       "      <td>0</td>\n",
       "      <td>0</td>\n",
       "      <td>0</td>\n",
       "    </tr>\n",
       "    <tr>\n",
       "      <th>558</th>\n",
       "      <td>Wilfried Zaha</td>\n",
       "      <td>29</td>\n",
       "      <td>Crystal Palace</td>\n",
       "      <td>1</td>\n",
       "      <td>9</td>\n",
       "      <td>10</td>\n",
       "    </tr>\n",
       "    <tr>\n",
       "      <th>559</th>\n",
       "      <td>Will Hughes</td>\n",
       "      <td>26</td>\n",
       "      <td>Watford</td>\n",
       "      <td>1</td>\n",
       "      <td>1</td>\n",
       "      <td>2</td>\n",
       "    </tr>\n",
       "    <tr>\n",
       "      <th>561</th>\n",
       "      <td>Willian</td>\n",
       "      <td>33</td>\n",
       "      <td>Chelsea</td>\n",
       "      <td>2</td>\n",
       "      <td>1</td>\n",
       "      <td>3</td>\n",
       "    </tr>\n",
       "    <tr>\n",
       "      <th>563</th>\n",
       "      <td>Xherdan Shaqiri</td>\n",
       "      <td>30</td>\n",
       "      <td>Liverpool</td>\n",
       "      <td>5</td>\n",
       "      <td>1</td>\n",
       "      <td>6</td>\n",
       "    </tr>\n",
       "  </tbody>\n",
       "</table>\n",
       "<p>247 rows × 6 columns</p>\n",
       "</div>"
      ],
      "text/plain": [
       "             full_name  age    Current Club  goals_home  goals_away  goals\n",
       "0      Aaron Cresswell   32        West Ham           0           0      0\n",
       "1         Aaron Lennon   34         Burnley           1           0      1\n",
       "2           Aaron Mooy   31    Huddersfield           1           2      3\n",
       "3         Aaron Ramsey   31         Arsenal           2           2      4\n",
       "6    Abdelhamid Sabiri   25    Huddersfield           0           0      0\n",
       "..                 ...  ...             ...         ...         ...    ...\n",
       "556       Wesley Hoedt   27     Southampton           0           0      0\n",
       "558      Wilfried Zaha   29  Crystal Palace           1           9     10\n",
       "559        Will Hughes   26         Watford           1           1      2\n",
       "561            Willian   33         Chelsea           2           1      3\n",
       "563    Xherdan Shaqiri   30       Liverpool           5           1      6\n",
       "\n",
       "[247 rows x 6 columns]"
      ]
     },
     "execution_count": 30,
     "metadata": {},
     "output_type": "execute_result"
    }
   ],
   "source": [
    "a"
   ]
  },
  {
   "cell_type": "code",
   "execution_count": 31,
   "id": "cfb3f417-179d-499b-a1b5-cf64c0041537",
   "metadata": {},
   "outputs": [],
   "source": [
    "data=a.merge(football, how='inner', left_on='full_name', right_on='Player Name')"
   ]
  },
  {
   "cell_type": "code",
   "execution_count": 32,
   "id": "2370273a-e01d-462e-a5b8-9327859245e1",
   "metadata": {},
   "outputs": [],
   "source": [
    "data=data.drop(['Player Name'], axis=1)"
   ]
  },
  {
   "cell_type": "code",
   "execution_count": 33,
   "id": "a5e69288-8e1b-49c3-9927-14b63f23a389",
   "metadata": {},
   "outputs": [],
   "source": [
    "data.to_csv('data_final.csv', index=False)"
   ]
  },
  {
   "cell_type": "code",
   "execution_count": 34,
   "id": "3734edb0-88be-4ec6-9ad2-40c3b5ccb7fd",
   "metadata": {},
   "outputs": [
    {
     "data": {
      "text/plain": [
       "247"
      ]
     },
     "execution_count": 34,
     "metadata": {},
     "output_type": "execute_result"
    }
   ],
   "source": [
    "len(d['player'].unique())"
   ]
  },
  {
   "cell_type": "code",
   "execution_count": 35,
   "id": "1de191a6-f3fa-4437-b34b-67dfacde1d01",
   "metadata": {},
   "outputs": [
    {
     "name": "stderr",
     "output_type": "stream",
     "text": [
      "C:\\Users\\Fayez\\AppData\\Local\\Temp/ipykernel_11856/68033646.py:1: SettingWithCopyWarning: \n",
      "A value is trying to be set on a copy of a slice from a DataFrame.\n",
      "Try using .loc[row_indexer,col_indexer] = value instead\n",
      "\n",
      "See the caveats in the documentation: https://pandas.pydata.org/pandas-docs/stable/user_guide/indexing.html#returning-a-view-versus-a-copy\n",
      "  d['rating'] = np.random.uniform(low=4, high=10, size=(len(d),))\n"
     ]
    }
   ],
   "source": [
    "d['rating'] = np.random.uniform(low=4, high=10, size=(len(d),))"
   ]
  },
  {
   "cell_type": "code",
   "execution_count": 36,
   "id": "05e93046-1c00-4a47-85c0-de628e35ef7c",
   "metadata": {},
   "outputs": [],
   "source": [
    "d=d.rename(columns={'name':'match name'})"
   ]
  },
  {
   "cell_type": "code",
   "execution_count": 37,
   "id": "4fe9e7fb-096b-4749-a5e8-89951e3acb1f",
   "metadata": {},
   "outputs": [],
   "source": [
    "import random\n",
    "goals=[]\n",
    "for i in range(len(d)):\n",
    "    goals.append(random.randrange(3))"
   ]
  },
  {
   "cell_type": "code",
   "execution_count": 38,
   "id": "5b4fba9a-7da4-46ac-be4e-313ff0a173f9",
   "metadata": {},
   "outputs": [],
   "source": [
    "d['goals'] = goals"
   ]
  },
  {
   "cell_type": "code",
   "execution_count": 39,
   "id": "2eed5cc4-d1d1-4d2d-b279-6b7c93a501aa",
   "metadata": {},
   "outputs": [],
   "source": [
    "shots_off_target=[]\n",
    "for i in range(len(d)):\n",
    "    shots_off_target.append(random.randrange(4))"
   ]
  },
  {
   "cell_type": "code",
   "execution_count": 40,
   "id": "5ede57a9-b618-4ff9-8375-af9b42adcd19",
   "metadata": {},
   "outputs": [],
   "source": [
    "d['shots_off_target'] = shots_off_target"
   ]
  },
  {
   "cell_type": "code",
   "execution_count": 41,
   "id": "0f53e5e8-4e93-4805-a0df-1365b6982052",
   "metadata": {},
   "outputs": [],
   "source": [
    "shots_on_target_blocked = []\n",
    "for i in range(len(d)):\n",
    "    shots_on_target_blocked.append(random.randrange(4))"
   ]
  },
  {
   "cell_type": "code",
   "execution_count": 42,
   "id": "00d181b9-1ddb-4ebc-9925-5fdb16b585b6",
   "metadata": {},
   "outputs": [],
   "source": [
    "d['shots on target blocked'] = shots_on_target_blocked"
   ]
  },
  {
   "cell_type": "code",
   "execution_count": 43,
   "id": "04828649-ea2f-453d-9d56-50106bdd69aa",
   "metadata": {},
   "outputs": [],
   "source": [
    "d=d.rename(columns={'shots_off_target':'shots off target'})"
   ]
  },
  {
   "cell_type": "code",
   "execution_count": 44,
   "id": "b96de6ca-cc61-4eca-b13b-9e0af75a2402",
   "metadata": {},
   "outputs": [
    {
     "data": {
      "text/html": [
       "<div>\n",
       "<style scoped>\n",
       "    .dataframe tbody tr th:only-of-type {\n",
       "        vertical-align: middle;\n",
       "    }\n",
       "\n",
       "    .dataframe tbody tr th {\n",
       "        vertical-align: top;\n",
       "    }\n",
       "\n",
       "    .dataframe thead th {\n",
       "        text-align: right;\n",
       "    }\n",
       "</style>\n",
       "<table border=\"1\" class=\"dataframe\">\n",
       "  <thead>\n",
       "    <tr style=\"text-align: right;\">\n",
       "      <th></th>\n",
       "      <th>index</th>\n",
       "      <th>player</th>\n",
       "      <th>team</th>\n",
       "      <th>match name</th>\n",
       "      <th>rating</th>\n",
       "      <th>goals</th>\n",
       "      <th>shots off target</th>\n",
       "      <th>shots on target blocked</th>\n",
       "    </tr>\n",
       "  </thead>\n",
       "  <tbody>\n",
       "    <tr>\n",
       "      <th>0</th>\n",
       "      <td>8</td>\n",
       "      <td>Aaron Cresswell</td>\n",
       "      <td>West Ham</td>\n",
       "      <td>Liverpool - West Ham</td>\n",
       "      <td>7.870318</td>\n",
       "      <td>1</td>\n",
       "      <td>1</td>\n",
       "      <td>3</td>\n",
       "    </tr>\n",
       "    <tr>\n",
       "      <th>1</th>\n",
       "      <td>15</td>\n",
       "      <td>Aaron Cresswell</td>\n",
       "      <td>West Ham</td>\n",
       "      <td>West Ham - Bournemouth</td>\n",
       "      <td>7.685077</td>\n",
       "      <td>1</td>\n",
       "      <td>3</td>\n",
       "      <td>2</td>\n",
       "    </tr>\n",
       "    <tr>\n",
       "      <th>2</th>\n",
       "      <td>20</td>\n",
       "      <td>Aaron Cresswell</td>\n",
       "      <td>West Ham</td>\n",
       "      <td>Arsenal - West Ham</td>\n",
       "      <td>4.992536</td>\n",
       "      <td>2</td>\n",
       "      <td>0</td>\n",
       "      <td>3</td>\n",
       "    </tr>\n",
       "    <tr>\n",
       "      <th>3</th>\n",
       "      <td>36</td>\n",
       "      <td>Aaron Cresswell</td>\n",
       "      <td>West Ham</td>\n",
       "      <td>West Ham - Wolves</td>\n",
       "      <td>7.197879</td>\n",
       "      <td>2</td>\n",
       "      <td>2</td>\n",
       "      <td>2</td>\n",
       "    </tr>\n",
       "    <tr>\n",
       "      <th>4</th>\n",
       "      <td>47</td>\n",
       "      <td>Aaron Cresswell</td>\n",
       "      <td>West Ham</td>\n",
       "      <td>Everton - West Ham</td>\n",
       "      <td>4.533371</td>\n",
       "      <td>0</td>\n",
       "      <td>0</td>\n",
       "      <td>3</td>\n",
       "    </tr>\n",
       "    <tr>\n",
       "      <th>...</th>\n",
       "      <td>...</td>\n",
       "      <td>...</td>\n",
       "      <td>...</td>\n",
       "      <td>...</td>\n",
       "      <td>...</td>\n",
       "      <td>...</td>\n",
       "      <td>...</td>\n",
       "      <td>...</td>\n",
       "    </tr>\n",
       "    <tr>\n",
       "      <th>21389</th>\n",
       "      <td>333</td>\n",
       "      <td>Xherdan Shaqiri</td>\n",
       "      <td>Liverpool</td>\n",
       "      <td>Liverpool - Chelsea</td>\n",
       "      <td>6.725252</td>\n",
       "      <td>1</td>\n",
       "      <td>1</td>\n",
       "      <td>3</td>\n",
       "    </tr>\n",
       "    <tr>\n",
       "      <th>21390</th>\n",
       "      <td>343</td>\n",
       "      <td>Xherdan Shaqiri</td>\n",
       "      <td>Liverpool</td>\n",
       "      <td>Cardiff - Liverpool</td>\n",
       "      <td>6.650422</td>\n",
       "      <td>0</td>\n",
       "      <td>3</td>\n",
       "      <td>1</td>\n",
       "    </tr>\n",
       "    <tr>\n",
       "      <th>21391</th>\n",
       "      <td>350</td>\n",
       "      <td>Xherdan Shaqiri</td>\n",
       "      <td>Liverpool</td>\n",
       "      <td>Liverpool - Huddersfield</td>\n",
       "      <td>8.655763</td>\n",
       "      <td>2</td>\n",
       "      <td>3</td>\n",
       "      <td>2</td>\n",
       "    </tr>\n",
       "    <tr>\n",
       "      <th>21392</th>\n",
       "      <td>363</td>\n",
       "      <td>Xherdan Shaqiri</td>\n",
       "      <td>Liverpool</td>\n",
       "      <td>Newcastle - Liverpool</td>\n",
       "      <td>7.271280</td>\n",
       "      <td>1</td>\n",
       "      <td>1</td>\n",
       "      <td>3</td>\n",
       "    </tr>\n",
       "    <tr>\n",
       "      <th>21393</th>\n",
       "      <td>375</td>\n",
       "      <td>Xherdan Shaqiri</td>\n",
       "      <td>Liverpool</td>\n",
       "      <td>Liverpool - Wolves</td>\n",
       "      <td>5.366961</td>\n",
       "      <td>0</td>\n",
       "      <td>3</td>\n",
       "      <td>0</td>\n",
       "    </tr>\n",
       "  </tbody>\n",
       "</table>\n",
       "<p>9386 rows × 8 columns</p>\n",
       "</div>"
      ],
      "text/plain": [
       "       index           player       team                match name    rating  \\\n",
       "0          8  Aaron Cresswell   West Ham      Liverpool - West Ham  7.870318   \n",
       "1         15  Aaron Cresswell   West Ham    West Ham - Bournemouth  7.685077   \n",
       "2         20  Aaron Cresswell   West Ham        Arsenal - West Ham  4.992536   \n",
       "3         36  Aaron Cresswell   West Ham         West Ham - Wolves  7.197879   \n",
       "4         47  Aaron Cresswell   West Ham        Everton - West Ham  4.533371   \n",
       "...      ...              ...        ...                       ...       ...   \n",
       "21389    333  Xherdan Shaqiri  Liverpool       Liverpool - Chelsea  6.725252   \n",
       "21390    343  Xherdan Shaqiri  Liverpool       Cardiff - Liverpool  6.650422   \n",
       "21391    350  Xherdan Shaqiri  Liverpool  Liverpool - Huddersfield  8.655763   \n",
       "21392    363  Xherdan Shaqiri  Liverpool     Newcastle - Liverpool  7.271280   \n",
       "21393    375  Xherdan Shaqiri  Liverpool        Liverpool - Wolves  5.366961   \n",
       "\n",
       "       goals  shots off target  shots on target blocked  \n",
       "0          1                 1                        3  \n",
       "1          1                 3                        2  \n",
       "2          2                 0                        3  \n",
       "3          2                 2                        2  \n",
       "4          0                 0                        3  \n",
       "...      ...               ...                      ...  \n",
       "21389      1                 1                        3  \n",
       "21390      0                 3                        1  \n",
       "21391      2                 3                        2  \n",
       "21392      1                 1                        3  \n",
       "21393      0                 3                        0  \n",
       "\n",
       "[9386 rows x 8 columns]"
      ]
     },
     "execution_count": 44,
     "metadata": {},
     "output_type": "execute_result"
    }
   ],
   "source": [
    "d"
   ]
  },
  {
   "cell_type": "code",
   "execution_count": 46,
   "id": "40bc0bd9-eb36-42b0-83af-1eb79c5c9835",
   "metadata": {},
   "outputs": [
    {
     "data": {
      "text/plain": [
       "['West Ham',\n",
       " 'Burnley',\n",
       " 'Huddersfield',\n",
       " 'Arsenal',\n",
       " 'Watford',\n",
       " 'Bournemouth',\n",
       " 'Everton',\n",
       " 'Liverpool',\n",
       " 'Fulham',\n",
       " 'Man United',\n",
       " 'Chelsea',\n",
       " 'Crystal Palace',\n",
       " 'Brighton',\n",
       " 'Leicester',\n",
       " 'Man City',\n",
       " 'Southampton',\n",
       " 'Tottenham',\n",
       " 'Newcastle',\n",
       " 'Cardiff']"
      ]
     },
     "execution_count": 46,
     "metadata": {},
     "output_type": "execute_result"
    }
   ],
   "source": [
    "list(d['team'].unique())"
   ]
  },
  {
   "cell_type": "code",
   "execution_count": 68,
   "id": "20449f32-6c04-4322-bb8b-c4c9c25b4c4f",
   "metadata": {},
   "outputs": [],
   "source": [
    "df=d"
   ]
  },
  {
   "cell_type": "code",
   "execution_count": 69,
   "id": "b7cbb8c0-072a-466b-9c3d-1dfd6dfa6f33",
   "metadata": {},
   "outputs": [
    {
     "data": {
      "text/html": [
       "<div>\n",
       "<style scoped>\n",
       "    .dataframe tbody tr th:only-of-type {\n",
       "        vertical-align: middle;\n",
       "    }\n",
       "\n",
       "    .dataframe tbody tr th {\n",
       "        vertical-align: top;\n",
       "    }\n",
       "\n",
       "    .dataframe thead th {\n",
       "        text-align: right;\n",
       "    }\n",
       "</style>\n",
       "<table border=\"1\" class=\"dataframe\">\n",
       "  <thead>\n",
       "    <tr style=\"text-align: right;\">\n",
       "      <th></th>\n",
       "      <th>index</th>\n",
       "      <th>player</th>\n",
       "      <th>team</th>\n",
       "      <th>match name</th>\n",
       "      <th>rating</th>\n",
       "      <th>goals</th>\n",
       "      <th>shots off target</th>\n",
       "      <th>shots on target blocked</th>\n",
       "    </tr>\n",
       "  </thead>\n",
       "  <tbody>\n",
       "    <tr>\n",
       "      <th>0</th>\n",
       "      <td>8</td>\n",
       "      <td>Aaron Cresswell</td>\n",
       "      <td>West Ham</td>\n",
       "      <td>Liverpool - West Ham</td>\n",
       "      <td>7.870318</td>\n",
       "      <td>1</td>\n",
       "      <td>1</td>\n",
       "      <td>3</td>\n",
       "    </tr>\n",
       "    <tr>\n",
       "      <th>1</th>\n",
       "      <td>15</td>\n",
       "      <td>Aaron Cresswell</td>\n",
       "      <td>West Ham</td>\n",
       "      <td>West Ham - Bournemouth</td>\n",
       "      <td>7.685077</td>\n",
       "      <td>1</td>\n",
       "      <td>3</td>\n",
       "      <td>2</td>\n",
       "    </tr>\n",
       "    <tr>\n",
       "      <th>2</th>\n",
       "      <td>20</td>\n",
       "      <td>Aaron Cresswell</td>\n",
       "      <td>West Ham</td>\n",
       "      <td>Arsenal - West Ham</td>\n",
       "      <td>4.992536</td>\n",
       "      <td>2</td>\n",
       "      <td>0</td>\n",
       "      <td>3</td>\n",
       "    </tr>\n",
       "    <tr>\n",
       "      <th>3</th>\n",
       "      <td>36</td>\n",
       "      <td>Aaron Cresswell</td>\n",
       "      <td>West Ham</td>\n",
       "      <td>West Ham - Wolves</td>\n",
       "      <td>7.197879</td>\n",
       "      <td>2</td>\n",
       "      <td>2</td>\n",
       "      <td>2</td>\n",
       "    </tr>\n",
       "    <tr>\n",
       "      <th>4</th>\n",
       "      <td>47</td>\n",
       "      <td>Aaron Cresswell</td>\n",
       "      <td>West Ham</td>\n",
       "      <td>Everton - West Ham</td>\n",
       "      <td>4.533371</td>\n",
       "      <td>0</td>\n",
       "      <td>0</td>\n",
       "      <td>3</td>\n",
       "    </tr>\n",
       "    <tr>\n",
       "      <th>...</th>\n",
       "      <td>...</td>\n",
       "      <td>...</td>\n",
       "      <td>...</td>\n",
       "      <td>...</td>\n",
       "      <td>...</td>\n",
       "      <td>...</td>\n",
       "      <td>...</td>\n",
       "      <td>...</td>\n",
       "    </tr>\n",
       "    <tr>\n",
       "      <th>21389</th>\n",
       "      <td>333</td>\n",
       "      <td>Xherdan Shaqiri</td>\n",
       "      <td>Liverpool</td>\n",
       "      <td>Liverpool - Chelsea</td>\n",
       "      <td>6.725252</td>\n",
       "      <td>1</td>\n",
       "      <td>1</td>\n",
       "      <td>3</td>\n",
       "    </tr>\n",
       "    <tr>\n",
       "      <th>21390</th>\n",
       "      <td>343</td>\n",
       "      <td>Xherdan Shaqiri</td>\n",
       "      <td>Liverpool</td>\n",
       "      <td>Cardiff - Liverpool</td>\n",
       "      <td>6.650422</td>\n",
       "      <td>0</td>\n",
       "      <td>3</td>\n",
       "      <td>1</td>\n",
       "    </tr>\n",
       "    <tr>\n",
       "      <th>21391</th>\n",
       "      <td>350</td>\n",
       "      <td>Xherdan Shaqiri</td>\n",
       "      <td>Liverpool</td>\n",
       "      <td>Liverpool - Huddersfield</td>\n",
       "      <td>8.655763</td>\n",
       "      <td>2</td>\n",
       "      <td>3</td>\n",
       "      <td>2</td>\n",
       "    </tr>\n",
       "    <tr>\n",
       "      <th>21392</th>\n",
       "      <td>363</td>\n",
       "      <td>Xherdan Shaqiri</td>\n",
       "      <td>Liverpool</td>\n",
       "      <td>Newcastle - Liverpool</td>\n",
       "      <td>7.271280</td>\n",
       "      <td>1</td>\n",
       "      <td>1</td>\n",
       "      <td>3</td>\n",
       "    </tr>\n",
       "    <tr>\n",
       "      <th>21393</th>\n",
       "      <td>375</td>\n",
       "      <td>Xherdan Shaqiri</td>\n",
       "      <td>Liverpool</td>\n",
       "      <td>Liverpool - Wolves</td>\n",
       "      <td>5.366961</td>\n",
       "      <td>0</td>\n",
       "      <td>3</td>\n",
       "      <td>0</td>\n",
       "    </tr>\n",
       "  </tbody>\n",
       "</table>\n",
       "<p>9386 rows × 8 columns</p>\n",
       "</div>"
      ],
      "text/plain": [
       "       index           player       team                match name    rating  \\\n",
       "0          8  Aaron Cresswell   West Ham      Liverpool - West Ham  7.870318   \n",
       "1         15  Aaron Cresswell   West Ham    West Ham - Bournemouth  7.685077   \n",
       "2         20  Aaron Cresswell   West Ham        Arsenal - West Ham  4.992536   \n",
       "3         36  Aaron Cresswell   West Ham         West Ham - Wolves  7.197879   \n",
       "4         47  Aaron Cresswell   West Ham        Everton - West Ham  4.533371   \n",
       "...      ...              ...        ...                       ...       ...   \n",
       "21389    333  Xherdan Shaqiri  Liverpool       Liverpool - Chelsea  6.725252   \n",
       "21390    343  Xherdan Shaqiri  Liverpool       Cardiff - Liverpool  6.650422   \n",
       "21391    350  Xherdan Shaqiri  Liverpool  Liverpool - Huddersfield  8.655763   \n",
       "21392    363  Xherdan Shaqiri  Liverpool     Newcastle - Liverpool  7.271280   \n",
       "21393    375  Xherdan Shaqiri  Liverpool        Liverpool - Wolves  5.366961   \n",
       "\n",
       "       goals  shots off target  shots on target blocked  \n",
       "0          1                 1                        3  \n",
       "1          1                 3                        2  \n",
       "2          2                 0                        3  \n",
       "3          2                 2                        2  \n",
       "4          0                 0                        3  \n",
       "...      ...               ...                      ...  \n",
       "21389      1                 1                        3  \n",
       "21390      0                 3                        1  \n",
       "21391      2                 3                        2  \n",
       "21392      1                 1                        3  \n",
       "21393      0                 3                        0  \n",
       "\n",
       "[9386 rows x 8 columns]"
      ]
     },
     "execution_count": 69,
     "metadata": {},
     "output_type": "execute_result"
    }
   ],
   "source": [
    "df"
   ]
  },
  {
   "cell_type": "code",
   "execution_count": 113,
   "id": "69f26905-8f54-44ca-9ba3-bd8c71062f55",
   "metadata": {},
   "outputs": [],
   "source": [
    "match_name_short=[]\n",
    "for i in d['match name']:\n",
    "    if len(i)>17:\n",
    "        name=i[0:18]+'...'\n",
    "    else:\n",
    "        name = i\n",
    "    match_name_short.append(name) "
   ]
  },
  {
   "cell_type": "code",
   "execution_count": 114,
   "id": "e5226898-67c7-44a3-ac27-66776413f689",
   "metadata": {},
   "outputs": [],
   "source": [
    "d['match short'] = match_name_short"
   ]
  },
  {
   "cell_type": "code",
   "execution_count": 134,
   "id": "c2f16a75-6931-4d6a-af6a-9946b6b55ecf",
   "metadata": {},
   "outputs": [],
   "source": [
    "d=d.replace(' - ', '-')"
   ]
  },
  {
   "cell_type": "code",
   "execution_count": 135,
   "id": "583f9380-36df-4d15-bf79-99726a321e13",
   "metadata": {},
   "outputs": [],
   "source": [
    "d.to_csv('rating.csv', index=False)"
   ]
  },
  {
   "cell_type": "code",
   "execution_count": 73,
   "id": "1f8a3916-b185-4c7b-b4fc-7d37bb49baea",
   "metadata": {},
   "outputs": [],
   "source": []
  },
  {
   "cell_type": "code",
   "execution_count": 76,
   "id": "6dd04088-c09d-44b2-9186-93630094ea34",
   "metadata": {},
   "outputs": [],
   "source": [
    "df=d[d['player'] == 'Mohamed Salah']\n",
    "dff=df.melt(id_vars=['match name'], value_vars=['goals', 'shots off target', 'shots on target blocked'])"
   ]
  },
  {
   "cell_type": "code",
   "execution_count": 77,
   "id": "a13201aa-1f3c-4e52-91fb-eb581ea973b3",
   "metadata": {},
   "outputs": [
    {
     "data": {
      "text/html": [
       "<div>\n",
       "<style scoped>\n",
       "    .dataframe tbody tr th:only-of-type {\n",
       "        vertical-align: middle;\n",
       "    }\n",
       "\n",
       "    .dataframe tbody tr th {\n",
       "        vertical-align: top;\n",
       "    }\n",
       "\n",
       "    .dataframe thead th {\n",
       "        text-align: right;\n",
       "    }\n",
       "</style>\n",
       "<table border=\"1\" class=\"dataframe\">\n",
       "  <thead>\n",
       "    <tr style=\"text-align: right;\">\n",
       "      <th></th>\n",
       "      <th>match name</th>\n",
       "      <th>variable</th>\n",
       "      <th>value</th>\n",
       "    </tr>\n",
       "  </thead>\n",
       "  <tbody>\n",
       "    <tr>\n",
       "      <th>0</th>\n",
       "      <td>Liverpool - West Ham</td>\n",
       "      <td>goals</td>\n",
       "      <td>1</td>\n",
       "    </tr>\n",
       "    <tr>\n",
       "      <th>1</th>\n",
       "      <td>Crystal Palace - Liverpool</td>\n",
       "      <td>goals</td>\n",
       "      <td>1</td>\n",
       "    </tr>\n",
       "    <tr>\n",
       "      <th>2</th>\n",
       "      <td>Liverpool - Brighton</td>\n",
       "      <td>goals</td>\n",
       "      <td>0</td>\n",
       "    </tr>\n",
       "    <tr>\n",
       "      <th>3</th>\n",
       "      <td>Leicester - Liverpool</td>\n",
       "      <td>goals</td>\n",
       "      <td>1</td>\n",
       "    </tr>\n",
       "    <tr>\n",
       "      <th>4</th>\n",
       "      <td>Tottenham - Liverpool</td>\n",
       "      <td>goals</td>\n",
       "      <td>1</td>\n",
       "    </tr>\n",
       "    <tr>\n",
       "      <th>...</th>\n",
       "      <td>...</td>\n",
       "      <td>...</td>\n",
       "      <td>...</td>\n",
       "    </tr>\n",
       "    <tr>\n",
       "      <th>109</th>\n",
       "      <td>Liverpool - Chelsea</td>\n",
       "      <td>shots on target blocked</td>\n",
       "      <td>3</td>\n",
       "    </tr>\n",
       "    <tr>\n",
       "      <th>110</th>\n",
       "      <td>Cardiff - Liverpool</td>\n",
       "      <td>shots on target blocked</td>\n",
       "      <td>1</td>\n",
       "    </tr>\n",
       "    <tr>\n",
       "      <th>111</th>\n",
       "      <td>Liverpool - Huddersfield</td>\n",
       "      <td>shots on target blocked</td>\n",
       "      <td>2</td>\n",
       "    </tr>\n",
       "    <tr>\n",
       "      <th>112</th>\n",
       "      <td>Newcastle - Liverpool</td>\n",
       "      <td>shots on target blocked</td>\n",
       "      <td>2</td>\n",
       "    </tr>\n",
       "    <tr>\n",
       "      <th>113</th>\n",
       "      <td>Liverpool - Wolves</td>\n",
       "      <td>shots on target blocked</td>\n",
       "      <td>0</td>\n",
       "    </tr>\n",
       "  </tbody>\n",
       "</table>\n",
       "<p>114 rows × 3 columns</p>\n",
       "</div>"
      ],
      "text/plain": [
       "                     match name                 variable  value\n",
       "0          Liverpool - West Ham                    goals      1\n",
       "1    Crystal Palace - Liverpool                    goals      1\n",
       "2          Liverpool - Brighton                    goals      0\n",
       "3         Leicester - Liverpool                    goals      1\n",
       "4         Tottenham - Liverpool                    goals      1\n",
       "..                          ...                      ...    ...\n",
       "109         Liverpool - Chelsea  shots on target blocked      3\n",
       "110         Cardiff - Liverpool  shots on target blocked      1\n",
       "111    Liverpool - Huddersfield  shots on target blocked      2\n",
       "112       Newcastle - Liverpool  shots on target blocked      2\n",
       "113          Liverpool - Wolves  shots on target blocked      0\n",
       "\n",
       "[114 rows x 3 columns]"
      ]
     },
     "execution_count": 77,
     "metadata": {},
     "output_type": "execute_result"
    }
   ],
   "source": [
    "dff"
   ]
  },
  {
   "cell_type": "code",
   "execution_count": 133,
   "id": "bcbd93fe-9c4d-4615-a53f-3d912abd9a4a",
   "metadata": {},
   "outputs": [
    {
     "data": {
      "application/vnd.plotly.v1+json": {
       "config": {
        "plotlyServerURL": "https://plot.ly"
       },
       "data": [
        {
         "alignmentgroup": "True",
         "hovertemplate": "Shot type=goals<br>Match=%{x}<br>Number of shots=%{y}<extra></extra>",
         "legendgroup": "goals",
         "marker": {
          "color": "#5A9B1A",
          "pattern": {
           "shape": ""
          }
         },
         "name": "goals",
         "offsetgroup": "goals",
         "orientation": "v",
         "showlegend": true,
         "textposition": "auto",
         "type": "bar",
         "x": [
          "Liverpool - West Ham",
          "Crystal Palace - Liverpool",
          "Liverpool - Brighton",
          "Leicester - Liverpool",
          "Tottenham - Liverpool",
          "Liverpool - Southampton",
          "Chelsea - Liverpool",
          "Liverpool - Man City",
          "Huddersfield - Liverpool",
          "Liverpool - Cardiff",
          "Arsenal - Liverpool",
          "Liverpool - Fulham",
          "Watford - Liverpool",
          "Liverpool - Everton",
          "Burnley - Liverpool",
          "Bournemouth - Liverpool",
          "Liverpool - Man United",
          "Wolves - Liverpool",
          "Liverpool - Newcastle",
          "Liverpool - Arsenal",
          "Man City - Liverpool",
          "Brighton - Liverpool",
          "Liverpool - Crystal Palace",
          "Liverpool - Leicester",
          "West Ham - Liverpool",
          "Liverpool - Bournemouth",
          "Man United - Liverpool",
          "Liverpool - Watford",
          "Everton - Liverpool",
          "Liverpool - Burnley",
          "Fulham - Liverpool",
          "Liverpool - Tottenham",
          "Southampton - Liverpool",
          "Liverpool - Chelsea",
          "Cardiff - Liverpool",
          "Liverpool - Huddersfield",
          "Newcastle - Liverpool",
          "Liverpool - Wolves"
         ],
         "xaxis": "x",
         "y": [
          1,
          1,
          0,
          1,
          1,
          2,
          0,
          0,
          2,
          1,
          1,
          1,
          0,
          0,
          2,
          1,
          0,
          1,
          1,
          2,
          0,
          0,
          0,
          0,
          2,
          0,
          0,
          2,
          0,
          0,
          1,
          0,
          2,
          1,
          2,
          1,
          2,
          0
         ],
         "yaxis": "y"
        },
        {
         "alignmentgroup": "True",
         "hovertemplate": "Shot type=shots off target<br>Match=%{x}<br>Number of shots=%{y}<extra></extra>",
         "legendgroup": "shots off target",
         "marker": {
          "color": "#D43830",
          "pattern": {
           "shape": ""
          }
         },
         "name": "shots off target",
         "offsetgroup": "shots off target",
         "orientation": "v",
         "showlegend": true,
         "textposition": "auto",
         "type": "bar",
         "x": [
          "Liverpool - West Ham",
          "Crystal Palace - Liverpool",
          "Liverpool - Brighton",
          "Leicester - Liverpool",
          "Tottenham - Liverpool",
          "Liverpool - Southampton",
          "Chelsea - Liverpool",
          "Liverpool - Man City",
          "Huddersfield - Liverpool",
          "Liverpool - Cardiff",
          "Arsenal - Liverpool",
          "Liverpool - Fulham",
          "Watford - Liverpool",
          "Liverpool - Everton",
          "Burnley - Liverpool",
          "Bournemouth - Liverpool",
          "Liverpool - Man United",
          "Wolves - Liverpool",
          "Liverpool - Newcastle",
          "Liverpool - Arsenal",
          "Man City - Liverpool",
          "Brighton - Liverpool",
          "Liverpool - Crystal Palace",
          "Liverpool - Leicester",
          "West Ham - Liverpool",
          "Liverpool - Bournemouth",
          "Man United - Liverpool",
          "Liverpool - Watford",
          "Everton - Liverpool",
          "Liverpool - Burnley",
          "Fulham - Liverpool",
          "Liverpool - Tottenham",
          "Southampton - Liverpool",
          "Liverpool - Chelsea",
          "Cardiff - Liverpool",
          "Liverpool - Huddersfield",
          "Newcastle - Liverpool",
          "Liverpool - Wolves"
         ],
         "xaxis": "x",
         "y": [
          0,
          1,
          1,
          1,
          1,
          0,
          3,
          0,
          0,
          2,
          0,
          3,
          2,
          3,
          3,
          2,
          3,
          3,
          3,
          1,
          1,
          2,
          3,
          1,
          0,
          2,
          2,
          1,
          2,
          3,
          3,
          3,
          3,
          1,
          1,
          2,
          3,
          0
         ],
         "yaxis": "y"
        },
        {
         "alignmentgroup": "True",
         "hovertemplate": "Shot type=shots on target blocked<br>Match=%{x}<br>Number of shots=%{y}<extra></extra>",
         "legendgroup": "shots on target blocked",
         "marker": {
          "color": "#FF8F00",
          "pattern": {
           "shape": ""
          }
         },
         "name": "shots on target blocked",
         "offsetgroup": "shots on target blocked",
         "orientation": "v",
         "showlegend": true,
         "textposition": "auto",
         "type": "bar",
         "x": [
          "Liverpool - West Ham",
          "Crystal Palace - Liverpool",
          "Liverpool - Brighton",
          "Leicester - Liverpool",
          "Tottenham - Liverpool",
          "Liverpool - Southampton",
          "Chelsea - Liverpool",
          "Liverpool - Man City",
          "Huddersfield - Liverpool",
          "Liverpool - Cardiff",
          "Arsenal - Liverpool",
          "Liverpool - Fulham",
          "Watford - Liverpool",
          "Liverpool - Everton",
          "Burnley - Liverpool",
          "Bournemouth - Liverpool",
          "Liverpool - Man United",
          "Wolves - Liverpool",
          "Liverpool - Newcastle",
          "Liverpool - Arsenal",
          "Man City - Liverpool",
          "Brighton - Liverpool",
          "Liverpool - Crystal Palace",
          "Liverpool - Leicester",
          "West Ham - Liverpool",
          "Liverpool - Bournemouth",
          "Man United - Liverpool",
          "Liverpool - Watford",
          "Everton - Liverpool",
          "Liverpool - Burnley",
          "Fulham - Liverpool",
          "Liverpool - Tottenham",
          "Southampton - Liverpool",
          "Liverpool - Chelsea",
          "Cardiff - Liverpool",
          "Liverpool - Huddersfield",
          "Newcastle - Liverpool",
          "Liverpool - Wolves"
         ],
         "xaxis": "x",
         "y": [
          2,
          1,
          2,
          3,
          1,
          1,
          3,
          3,
          0,
          3,
          2,
          3,
          1,
          1,
          1,
          3,
          2,
          0,
          0,
          0,
          0,
          0,
          0,
          3,
          0,
          1,
          0,
          1,
          2,
          0,
          2,
          2,
          0,
          3,
          1,
          2,
          2,
          0
         ],
         "yaxis": "y"
        }
       ],
       "layout": {
        "autosize": true,
        "barmode": "relative",
        "legend": {
         "orientation": "h",
         "title": {
          "text": ""
         },
         "tracegroupgap": 0,
         "x": 0.5,
         "xanchor": "center",
         "y": -0.55,
         "yanchor": "bottom"
        },
        "margin": {
         "b": 10,
         "l": 0,
         "r": 0,
         "t": 0
        },
        "paper_bgcolor": "white",
        "plot_bgcolor": "white",
        "template": {
         "data": {
          "bar": [
           {
            "error_x": {
             "color": "#2a3f5f"
            },
            "error_y": {
             "color": "#2a3f5f"
            },
            "marker": {
             "line": {
              "color": "#E5ECF6",
              "width": 0.5
             },
             "pattern": {
              "fillmode": "overlay",
              "size": 10,
              "solidity": 0.2
             }
            },
            "type": "bar"
           }
          ],
          "barpolar": [
           {
            "marker": {
             "line": {
              "color": "#E5ECF6",
              "width": 0.5
             },
             "pattern": {
              "fillmode": "overlay",
              "size": 10,
              "solidity": 0.2
             }
            },
            "type": "barpolar"
           }
          ],
          "carpet": [
           {
            "aaxis": {
             "endlinecolor": "#2a3f5f",
             "gridcolor": "white",
             "linecolor": "white",
             "minorgridcolor": "white",
             "startlinecolor": "#2a3f5f"
            },
            "baxis": {
             "endlinecolor": "#2a3f5f",
             "gridcolor": "white",
             "linecolor": "white",
             "minorgridcolor": "white",
             "startlinecolor": "#2a3f5f"
            },
            "type": "carpet"
           }
          ],
          "choropleth": [
           {
            "colorbar": {
             "outlinewidth": 0,
             "ticks": ""
            },
            "type": "choropleth"
           }
          ],
          "contour": [
           {
            "colorbar": {
             "outlinewidth": 0,
             "ticks": ""
            },
            "colorscale": [
             [
              0,
              "#0d0887"
             ],
             [
              0.1111111111111111,
              "#46039f"
             ],
             [
              0.2222222222222222,
              "#7201a8"
             ],
             [
              0.3333333333333333,
              "#9c179e"
             ],
             [
              0.4444444444444444,
              "#bd3786"
             ],
             [
              0.5555555555555556,
              "#d8576b"
             ],
             [
              0.6666666666666666,
              "#ed7953"
             ],
             [
              0.7777777777777778,
              "#fb9f3a"
             ],
             [
              0.8888888888888888,
              "#fdca26"
             ],
             [
              1,
              "#f0f921"
             ]
            ],
            "type": "contour"
           }
          ],
          "contourcarpet": [
           {
            "colorbar": {
             "outlinewidth": 0,
             "ticks": ""
            },
            "type": "contourcarpet"
           }
          ],
          "heatmap": [
           {
            "colorbar": {
             "outlinewidth": 0,
             "ticks": ""
            },
            "colorscale": [
             [
              0,
              "#0d0887"
             ],
             [
              0.1111111111111111,
              "#46039f"
             ],
             [
              0.2222222222222222,
              "#7201a8"
             ],
             [
              0.3333333333333333,
              "#9c179e"
             ],
             [
              0.4444444444444444,
              "#bd3786"
             ],
             [
              0.5555555555555556,
              "#d8576b"
             ],
             [
              0.6666666666666666,
              "#ed7953"
             ],
             [
              0.7777777777777778,
              "#fb9f3a"
             ],
             [
              0.8888888888888888,
              "#fdca26"
             ],
             [
              1,
              "#f0f921"
             ]
            ],
            "type": "heatmap"
           }
          ],
          "heatmapgl": [
           {
            "colorbar": {
             "outlinewidth": 0,
             "ticks": ""
            },
            "colorscale": [
             [
              0,
              "#0d0887"
             ],
             [
              0.1111111111111111,
              "#46039f"
             ],
             [
              0.2222222222222222,
              "#7201a8"
             ],
             [
              0.3333333333333333,
              "#9c179e"
             ],
             [
              0.4444444444444444,
              "#bd3786"
             ],
             [
              0.5555555555555556,
              "#d8576b"
             ],
             [
              0.6666666666666666,
              "#ed7953"
             ],
             [
              0.7777777777777778,
              "#fb9f3a"
             ],
             [
              0.8888888888888888,
              "#fdca26"
             ],
             [
              1,
              "#f0f921"
             ]
            ],
            "type": "heatmapgl"
           }
          ],
          "histogram": [
           {
            "marker": {
             "pattern": {
              "fillmode": "overlay",
              "size": 10,
              "solidity": 0.2
             }
            },
            "type": "histogram"
           }
          ],
          "histogram2d": [
           {
            "colorbar": {
             "outlinewidth": 0,
             "ticks": ""
            },
            "colorscale": [
             [
              0,
              "#0d0887"
             ],
             [
              0.1111111111111111,
              "#46039f"
             ],
             [
              0.2222222222222222,
              "#7201a8"
             ],
             [
              0.3333333333333333,
              "#9c179e"
             ],
             [
              0.4444444444444444,
              "#bd3786"
             ],
             [
              0.5555555555555556,
              "#d8576b"
             ],
             [
              0.6666666666666666,
              "#ed7953"
             ],
             [
              0.7777777777777778,
              "#fb9f3a"
             ],
             [
              0.8888888888888888,
              "#fdca26"
             ],
             [
              1,
              "#f0f921"
             ]
            ],
            "type": "histogram2d"
           }
          ],
          "histogram2dcontour": [
           {
            "colorbar": {
             "outlinewidth": 0,
             "ticks": ""
            },
            "colorscale": [
             [
              0,
              "#0d0887"
             ],
             [
              0.1111111111111111,
              "#46039f"
             ],
             [
              0.2222222222222222,
              "#7201a8"
             ],
             [
              0.3333333333333333,
              "#9c179e"
             ],
             [
              0.4444444444444444,
              "#bd3786"
             ],
             [
              0.5555555555555556,
              "#d8576b"
             ],
             [
              0.6666666666666666,
              "#ed7953"
             ],
             [
              0.7777777777777778,
              "#fb9f3a"
             ],
             [
              0.8888888888888888,
              "#fdca26"
             ],
             [
              1,
              "#f0f921"
             ]
            ],
            "type": "histogram2dcontour"
           }
          ],
          "mesh3d": [
           {
            "colorbar": {
             "outlinewidth": 0,
             "ticks": ""
            },
            "type": "mesh3d"
           }
          ],
          "parcoords": [
           {
            "line": {
             "colorbar": {
              "outlinewidth": 0,
              "ticks": ""
             }
            },
            "type": "parcoords"
           }
          ],
          "pie": [
           {
            "automargin": true,
            "type": "pie"
           }
          ],
          "scatter": [
           {
            "marker": {
             "colorbar": {
              "outlinewidth": 0,
              "ticks": ""
             }
            },
            "type": "scatter"
           }
          ],
          "scatter3d": [
           {
            "line": {
             "colorbar": {
              "outlinewidth": 0,
              "ticks": ""
             }
            },
            "marker": {
             "colorbar": {
              "outlinewidth": 0,
              "ticks": ""
             }
            },
            "type": "scatter3d"
           }
          ],
          "scattercarpet": [
           {
            "marker": {
             "colorbar": {
              "outlinewidth": 0,
              "ticks": ""
             }
            },
            "type": "scattercarpet"
           }
          ],
          "scattergeo": [
           {
            "marker": {
             "colorbar": {
              "outlinewidth": 0,
              "ticks": ""
             }
            },
            "type": "scattergeo"
           }
          ],
          "scattergl": [
           {
            "marker": {
             "colorbar": {
              "outlinewidth": 0,
              "ticks": ""
             }
            },
            "type": "scattergl"
           }
          ],
          "scattermapbox": [
           {
            "marker": {
             "colorbar": {
              "outlinewidth": 0,
              "ticks": ""
             }
            },
            "type": "scattermapbox"
           }
          ],
          "scatterpolar": [
           {
            "marker": {
             "colorbar": {
              "outlinewidth": 0,
              "ticks": ""
             }
            },
            "type": "scatterpolar"
           }
          ],
          "scatterpolargl": [
           {
            "marker": {
             "colorbar": {
              "outlinewidth": 0,
              "ticks": ""
             }
            },
            "type": "scatterpolargl"
           }
          ],
          "scatterternary": [
           {
            "marker": {
             "colorbar": {
              "outlinewidth": 0,
              "ticks": ""
             }
            },
            "type": "scatterternary"
           }
          ],
          "surface": [
           {
            "colorbar": {
             "outlinewidth": 0,
             "ticks": ""
            },
            "colorscale": [
             [
              0,
              "#0d0887"
             ],
             [
              0.1111111111111111,
              "#46039f"
             ],
             [
              0.2222222222222222,
              "#7201a8"
             ],
             [
              0.3333333333333333,
              "#9c179e"
             ],
             [
              0.4444444444444444,
              "#bd3786"
             ],
             [
              0.5555555555555556,
              "#d8576b"
             ],
             [
              0.6666666666666666,
              "#ed7953"
             ],
             [
              0.7777777777777778,
              "#fb9f3a"
             ],
             [
              0.8888888888888888,
              "#fdca26"
             ],
             [
              1,
              "#f0f921"
             ]
            ],
            "type": "surface"
           }
          ],
          "table": [
           {
            "cells": {
             "fill": {
              "color": "#EBF0F8"
             },
             "line": {
              "color": "white"
             }
            },
            "header": {
             "fill": {
              "color": "#C8D4E3"
             },
             "line": {
              "color": "white"
             }
            },
            "type": "table"
           }
          ]
         },
         "layout": {
          "annotationdefaults": {
           "arrowcolor": "#2a3f5f",
           "arrowhead": 0,
           "arrowwidth": 1
          },
          "autotypenumbers": "strict",
          "coloraxis": {
           "colorbar": {
            "outlinewidth": 0,
            "ticks": ""
           }
          },
          "colorscale": {
           "diverging": [
            [
             0,
             "#8e0152"
            ],
            [
             0.1,
             "#c51b7d"
            ],
            [
             0.2,
             "#de77ae"
            ],
            [
             0.3,
             "#f1b6da"
            ],
            [
             0.4,
             "#fde0ef"
            ],
            [
             0.5,
             "#f7f7f7"
            ],
            [
             0.6,
             "#e6f5d0"
            ],
            [
             0.7,
             "#b8e186"
            ],
            [
             0.8,
             "#7fbc41"
            ],
            [
             0.9,
             "#4d9221"
            ],
            [
             1,
             "#276419"
            ]
           ],
           "sequential": [
            [
             0,
             "#0d0887"
            ],
            [
             0.1111111111111111,
             "#46039f"
            ],
            [
             0.2222222222222222,
             "#7201a8"
            ],
            [
             0.3333333333333333,
             "#9c179e"
            ],
            [
             0.4444444444444444,
             "#bd3786"
            ],
            [
             0.5555555555555556,
             "#d8576b"
            ],
            [
             0.6666666666666666,
             "#ed7953"
            ],
            [
             0.7777777777777778,
             "#fb9f3a"
            ],
            [
             0.8888888888888888,
             "#fdca26"
            ],
            [
             1,
             "#f0f921"
            ]
           ],
           "sequentialminus": [
            [
             0,
             "#0d0887"
            ],
            [
             0.1111111111111111,
             "#46039f"
            ],
            [
             0.2222222222222222,
             "#7201a8"
            ],
            [
             0.3333333333333333,
             "#9c179e"
            ],
            [
             0.4444444444444444,
             "#bd3786"
            ],
            [
             0.5555555555555556,
             "#d8576b"
            ],
            [
             0.6666666666666666,
             "#ed7953"
            ],
            [
             0.7777777777777778,
             "#fb9f3a"
            ],
            [
             0.8888888888888888,
             "#fdca26"
            ],
            [
             1,
             "#f0f921"
            ]
           ]
          },
          "colorway": [
           "#636efa",
           "#EF553B",
           "#00cc96",
           "#ab63fa",
           "#FFA15A",
           "#19d3f3",
           "#FF6692",
           "#B6E880",
           "#FF97FF",
           "#FECB52"
          ],
          "font": {
           "color": "#2a3f5f"
          },
          "geo": {
           "bgcolor": "white",
           "lakecolor": "white",
           "landcolor": "#E5ECF6",
           "showlakes": true,
           "showland": true,
           "subunitcolor": "white"
          },
          "hoverlabel": {
           "align": "left"
          },
          "hovermode": "closest",
          "mapbox": {
           "style": "light"
          },
          "paper_bgcolor": "white",
          "plot_bgcolor": "#E5ECF6",
          "polar": {
           "angularaxis": {
            "gridcolor": "white",
            "linecolor": "white",
            "ticks": ""
           },
           "bgcolor": "#E5ECF6",
           "radialaxis": {
            "gridcolor": "white",
            "linecolor": "white",
            "ticks": ""
           }
          },
          "scene": {
           "xaxis": {
            "backgroundcolor": "#E5ECF6",
            "gridcolor": "white",
            "gridwidth": 2,
            "linecolor": "white",
            "showbackground": true,
            "ticks": "",
            "zerolinecolor": "white"
           },
           "yaxis": {
            "backgroundcolor": "#E5ECF6",
            "gridcolor": "white",
            "gridwidth": 2,
            "linecolor": "white",
            "showbackground": true,
            "ticks": "",
            "zerolinecolor": "white"
           },
           "zaxis": {
            "backgroundcolor": "#E5ECF6",
            "gridcolor": "white",
            "gridwidth": 2,
            "linecolor": "white",
            "showbackground": true,
            "ticks": "",
            "zerolinecolor": "white"
           }
          },
          "shapedefaults": {
           "line": {
            "color": "#2a3f5f"
           }
          },
          "ternary": {
           "aaxis": {
            "gridcolor": "white",
            "linecolor": "white",
            "ticks": ""
           },
           "baxis": {
            "gridcolor": "white",
            "linecolor": "white",
            "ticks": ""
           },
           "bgcolor": "#E5ECF6",
           "caxis": {
            "gridcolor": "white",
            "linecolor": "white",
            "ticks": ""
           }
          },
          "title": {
           "x": 0.05
          },
          "xaxis": {
           "automargin": true,
           "gridcolor": "white",
           "linecolor": "white",
           "ticks": "",
           "title": {
            "standoff": 15
           },
           "zerolinecolor": "white",
           "zerolinewidth": 2
          },
          "yaxis": {
           "automargin": true,
           "gridcolor": "white",
           "linecolor": "white",
           "ticks": "",
           "title": {
            "standoff": 15
           },
           "zerolinecolor": "white",
           "zerolinewidth": 2
          }
         }
        },
        "xaxis": {
         "anchor": "y",
         "autorange": true,
         "domain": [
          0,
          1
         ],
         "range": [
          -0.5,
          37.5
         ],
         "tickangle": -40,
         "tickmode": "array",
         "ticktext": [
          "Liverpool - West H...",
          "Crystal Palace - L...",
          "Liverpool - Bright...",
          "Leicester - Liverp...",
          "Tottenham - Liverp...",
          "Liverpool - Southa...",
          "Chelsea - Liverpoo...",
          "Liverpool - Man Ci...",
          "Huddersfield - Liv...",
          "Liverpool - Cardif...",
          "Arsenal - Liverpoo...",
          "Liverpool - Fulham...",
          "Watford - Liverpoo...",
          "Liverpool - Everto...",
          "Burnley - Liverpoo...",
          "Bournemouth - Live...",
          "Liverpool - Man Un...",
          "Wolves - Liverpool...",
          "Liverpool - Newcas...",
          "Liverpool - Arsena...",
          "Man City - Liverpo...",
          "Brighton - Liverpo...",
          "Liverpool - Crysta...",
          "Liverpool - Leices...",
          "West Ham - Liverpo...",
          "Liverpool - Bourne...",
          "Man United - Liver...",
          "Liverpool - Watfor...",
          "Everton - Liverpoo...",
          "Liverpool - Burnle...",
          "Fulham - Liverpool...",
          "Liverpool - Totten...",
          "Southampton - Live...",
          "Liverpool - Chelse...",
          "Cardiff - Liverpoo...",
          "Liverpool - Hudder...",
          "Newcastle - Liverp...",
          "Liverpool - Wolves...",
          "Liverpool - West H...",
          "Crystal Palace - L...",
          "Liverpool - Bright...",
          "Leicester - Liverp...",
          "Tottenham - Liverp...",
          "Liverpool - Southa...",
          "Chelsea - Liverpoo...",
          "Liverpool - Man Ci...",
          "Huddersfield - Liv...",
          "Liverpool - Cardif...",
          "Arsenal - Liverpoo...",
          "Liverpool - Fulham...",
          "Watford - Liverpoo...",
          "Liverpool - Everto...",
          "Burnley - Liverpoo...",
          "Bournemouth - Live...",
          "Liverpool - Man Un...",
          "Wolves - Liverpool...",
          "Liverpool - Newcas...",
          "Liverpool - Arsena...",
          "Man City - Liverpo...",
          "Brighton - Liverpo...",
          "Liverpool - Crysta...",
          "Liverpool - Leices...",
          "West Ham - Liverpo...",
          "Liverpool - Bourne...",
          "Man United - Liver...",
          "Liverpool - Watfor...",
          "Everton - Liverpoo...",
          "Liverpool - Burnle...",
          "Fulham - Liverpool...",
          "Liverpool - Totten...",
          "Southampton - Live...",
          "Liverpool - Chelse...",
          "Cardiff - Liverpoo...",
          "Liverpool - Hudder...",
          "Newcastle - Liverp...",
          "Liverpool - Wolves...",
          "Liverpool - West H...",
          "Crystal Palace - L...",
          "Liverpool - Bright...",
          "Leicester - Liverp...",
          "Tottenham - Liverp...",
          "Liverpool - Southa...",
          "Chelsea - Liverpoo...",
          "Liverpool - Man Ci...",
          "Huddersfield - Liv...",
          "Liverpool - Cardif...",
          "Arsenal - Liverpoo...",
          "Liverpool - Fulham...",
          "Watford - Liverpoo...",
          "Liverpool - Everto...",
          "Burnley - Liverpoo...",
          "Bournemouth - Live...",
          "Liverpool - Man Un...",
          "Wolves - Liverpool...",
          "Liverpool - Newcas...",
          "Liverpool - Arsena...",
          "Man City - Liverpo...",
          "Brighton - Liverpo...",
          "Liverpool - Crysta...",
          "Liverpool - Leices...",
          "West Ham - Liverpo...",
          "Liverpool - Bourne...",
          "Man United - Liver...",
          "Liverpool - Watfor...",
          "Everton - Liverpoo...",
          "Liverpool - Burnle...",
          "Fulham - Liverpool...",
          "Liverpool - Totten...",
          "Southampton - Live...",
          "Liverpool - Chelse...",
          "Cardiff - Liverpoo...",
          "Liverpool - Hudder...",
          "Newcastle - Liverp...",
          "Liverpool - Wolves..."
         ],
         "tickvals": [
          0,
          1,
          2,
          3,
          4,
          5,
          6,
          7,
          8,
          9,
          10,
          11,
          12,
          13,
          14,
          15,
          16,
          17,
          18,
          19,
          20,
          21,
          22,
          23,
          24,
          25,
          26,
          27,
          28,
          29,
          30,
          31,
          32,
          33,
          34,
          35,
          36,
          37
         ],
         "title": {
          "text": ""
         },
         "type": "category"
        },
        "yaxis": {
         "anchor": "x",
         "autorange": true,
         "domain": [
          0,
          1
         ],
         "range": [
          0,
          7.368421052631579
         ],
         "title": {
          "text": ""
         },
         "type": "linear"
        }
       }
      },
      "image/png": "[encoded data removed]",
      "text/html": [
       "<div>                            <div id=\"1c0f2ea0-9c73-4e1c-ba58-49e0a6034001\" class=\"plotly-graph-div\" style=\"height:525px; width:100%;\"></div>            <script type=\"text/javascript\">                require([\"plotly\"], function(Plotly) {                    window.PLOTLYENV=window.PLOTLYENV || {};                                    if (document.getElementById(\"1c0f2ea0-9c73-4e1c-ba58-49e0a6034001\")) {                    Plotly.newPlot(                        \"1c0f2ea0-9c73-4e1c-ba58-49e0a6034001\",                        [{\"alignmentgroup\":\"True\",\"hovertemplate\":\"Shot type=goals<br>Match=%{x}<br>Number of shots=%{y}<extra></extra>\",\"legendgroup\":\"goals\",\"marker\":{\"color\":\"#5A9B1A\",\"pattern\":{\"shape\":\"\"}},\"name\":\"goals\",\"offsetgroup\":\"goals\",\"orientation\":\"v\",\"showlegend\":true,\"textposition\":\"auto\",\"x\":[\"Liverpool - West Ham\",\"Crystal Palace - Liverpool\",\"Liverpool - Brighton\",\"Leicester - Liverpool\",\"Tottenham - Liverpool\",\"Liverpool - Southampton\",\"Chelsea - Liverpool\",\"Liverpool - Man City\",\"Huddersfield - Liverpool\",\"Liverpool - Cardiff\",\"Arsenal - Liverpool\",\"Liverpool - Fulham\",\"Watford - Liverpool\",\"Liverpool - Everton\",\"Burnley - Liverpool\",\"Bournemouth - Liverpool\",\"Liverpool - Man United\",\"Wolves - Liverpool\",\"Liverpool - Newcastle\",\"Liverpool - Arsenal\",\"Man City - Liverpool\",\"Brighton - Liverpool\",\"Liverpool - Crystal Palace\",\"Liverpool - Leicester\",\"West Ham - Liverpool\",\"Liverpool - Bournemouth\",\"Man United - Liverpool\",\"Liverpool - Watford\",\"Everton - Liverpool\",\"Liverpool - Burnley\",\"Fulham - Liverpool\",\"Liverpool - Tottenham\",\"Southampton - Liverpool\",\"Liverpool - Chelsea\",\"Cardiff - Liverpool\",\"Liverpool - Huddersfield\",\"Newcastle - Liverpool\",\"Liverpool - Wolves\"],\"xaxis\":\"x\",\"y\":[1,1,0,1,1,2,0,0,2,1,1,1,0,0,2,1,0,1,1,2,0,0,0,0,2,0,0,2,0,0,1,0,2,1,2,1,2,0],\"yaxis\":\"y\",\"type\":\"bar\"},{\"alignmentgroup\":\"True\",\"hovertemplate\":\"Shot type=shots off target<br>Match=%{x}<br>Number of shots=%{y}<extra></extra>\",\"legendgroup\":\"shots off target\",\"marker\":{\"color\":\"#D43830\",\"pattern\":{\"shape\":\"\"}},\"name\":\"shots off target\",\"offsetgroup\":\"shots off target\",\"orientation\":\"v\",\"showlegend\":true,\"textposition\":\"auto\",\"x\":[\"Liverpool - West Ham\",\"Crystal Palace - Liverpool\",\"Liverpool - Brighton\",\"Leicester - Liverpool\",\"Tottenham - Liverpool\",\"Liverpool - Southampton\",\"Chelsea - Liverpool\",\"Liverpool - Man City\",\"Huddersfield - Liverpool\",\"Liverpool - Cardiff\",\"Arsenal - Liverpool\",\"Liverpool - Fulham\",\"Watford - Liverpool\",\"Liverpool - Everton\",\"Burnley - Liverpool\",\"Bournemouth - Liverpool\",\"Liverpool - Man United\",\"Wolves - Liverpool\",\"Liverpool - Newcastle\",\"Liverpool - Arsenal\",\"Man City - Liverpool\",\"Brighton - Liverpool\",\"Liverpool - Crystal Palace\",\"Liverpool - Leicester\",\"West Ham - Liverpool\",\"Liverpool - Bournemouth\",\"Man United - Liverpool\",\"Liverpool - Watford\",\"Everton - Liverpool\",\"Liverpool - Burnley\",\"Fulham - Liverpool\",\"Liverpool - Tottenham\",\"Southampton - Liverpool\",\"Liverpool - Chelsea\",\"Cardiff - Liverpool\",\"Liverpool - Huddersfield\",\"Newcastle - Liverpool\",\"Liverpool - Wolves\"],\"xaxis\":\"x\",\"y\":[0,1,1,1,1,0,3,0,0,2,0,3,2,3,3,2,3,3,3,1,1,2,3,1,0,2,2,1,2,3,3,3,3,1,1,2,3,0],\"yaxis\":\"y\",\"type\":\"bar\"},{\"alignmentgroup\":\"True\",\"hovertemplate\":\"Shot type=shots on target blocked<br>Match=%{x}<br>Number of shots=%{y}<extra></extra>\",\"legendgroup\":\"shots on target blocked\",\"marker\":{\"color\":\"#FF8F00\",\"pattern\":{\"shape\":\"\"}},\"name\":\"shots on target blocked\",\"offsetgroup\":\"shots on target blocked\",\"orientation\":\"v\",\"showlegend\":true,\"textposition\":\"auto\",\"x\":[\"Liverpool - West Ham\",\"Crystal Palace - Liverpool\",\"Liverpool - Brighton\",\"Leicester - Liverpool\",\"Tottenham - Liverpool\",\"Liverpool - Southampton\",\"Chelsea - Liverpool\",\"Liverpool - Man City\",\"Huddersfield - Liverpool\",\"Liverpool - Cardiff\",\"Arsenal - Liverpool\",\"Liverpool - Fulham\",\"Watford - Liverpool\",\"Liverpool - Everton\",\"Burnley - Liverpool\",\"Bournemouth - Liverpool\",\"Liverpool - Man United\",\"Wolves - Liverpool\",\"Liverpool - Newcastle\",\"Liverpool - Arsenal\",\"Man City - Liverpool\",\"Brighton - Liverpool\",\"Liverpool - Crystal Palace\",\"Liverpool - Leicester\",\"West Ham - Liverpool\",\"Liverpool - Bournemouth\",\"Man United - Liverpool\",\"Liverpool - Watford\",\"Everton - Liverpool\",\"Liverpool - Burnley\",\"Fulham - Liverpool\",\"Liverpool - Tottenham\",\"Southampton - Liverpool\",\"Liverpool - Chelsea\",\"Cardiff - Liverpool\",\"Liverpool - Huddersfield\",\"Newcastle - Liverpool\",\"Liverpool - Wolves\"],\"xaxis\":\"x\",\"y\":[2,1,2,3,1,1,3,3,0,3,2,3,1,1,1,3,2,0,0,0,0,0,0,3,0,1,0,1,2,0,2,2,0,3,1,2,2,0],\"yaxis\":\"y\",\"type\":\"bar\"}],                        {\"template\":{\"data\":{\"bar\":[{\"error_x\":{\"color\":\"#2a3f5f\"},\"error_y\":{\"color\":\"#2a3f5f\"},\"marker\":{\"line\":{\"color\":\"#E5ECF6\",\"width\":0.5},\"pattern\":{\"fillmode\":\"overlay\",\"size\":10,\"solidity\":0.2}},\"type\":\"bar\"}],\"barpolar\":[{\"marker\":{\"line\":{\"color\":\"#E5ECF6\",\"width\":0.5},\"pattern\":{\"fillmode\":\"overlay\",\"size\":10,\"solidity\":0.2}},\"type\":\"barpolar\"}],\"carpet\":[{\"aaxis\":{\"endlinecolor\":\"#2a3f5f\",\"gridcolor\":\"white\",\"linecolor\":\"white\",\"minorgridcolor\":\"white\",\"startlinecolor\":\"#2a3f5f\"},\"baxis\":{\"endlinecolor\":\"#2a3f5f\",\"gridcolor\":\"white\",\"linecolor\":\"white\",\"minorgridcolor\":\"white\",\"startlinecolor\":\"#2a3f5f\"},\"type\":\"carpet\"}],\"choropleth\":[{\"colorbar\":{\"outlinewidth\":0,\"ticks\":\"\"},\"type\":\"choropleth\"}],\"contour\":[{\"colorbar\":{\"outlinewidth\":0,\"ticks\":\"\"},\"colorscale\":[[0.0,\"#0d0887\"],[0.1111111111111111,\"#46039f\"],[0.2222222222222222,\"#7201a8\"],[0.3333333333333333,\"#9c179e\"],[0.4444444444444444,\"#bd3786\"],[0.5555555555555556,\"#d8576b\"],[0.6666666666666666,\"#ed7953\"],[0.7777777777777778,\"#fb9f3a\"],[0.8888888888888888,\"#fdca26\"],[1.0,\"#f0f921\"]],\"type\":\"contour\"}],\"contourcarpet\":[{\"colorbar\":{\"outlinewidth\":0,\"ticks\":\"\"},\"type\":\"contourcarpet\"}],\"heatmap\":[{\"colorbar\":{\"outlinewidth\":0,\"ticks\":\"\"},\"colorscale\":[[0.0,\"#0d0887\"],[0.1111111111111111,\"#46039f\"],[0.2222222222222222,\"#7201a8\"],[0.3333333333333333,\"#9c179e\"],[0.4444444444444444,\"#bd3786\"],[0.5555555555555556,\"#d8576b\"],[0.6666666666666666,\"#ed7953\"],[0.7777777777777778,\"#fb9f3a\"],[0.8888888888888888,\"#fdca26\"],[1.0,\"#f0f921\"]],\"type\":\"heatmap\"}],\"heatmapgl\":[{\"colorbar\":{\"outlinewidth\":0,\"ticks\":\"\"},\"colorscale\":[[0.0,\"#0d0887\"],[0.1111111111111111,\"#46039f\"],[0.2222222222222222,\"#7201a8\"],[0.3333333333333333,\"#9c179e\"],[0.4444444444444444,\"#bd3786\"],[0.5555555555555556,\"#d8576b\"],[0.6666666666666666,\"#ed7953\"],[0.7777777777777778,\"#fb9f3a\"],[0.8888888888888888,\"#fdca26\"],[1.0,\"#f0f921\"]],\"type\":\"heatmapgl\"}],\"histogram\":[{\"marker\":{\"pattern\":{\"fillmode\":\"overlay\",\"size\":10,\"solidity\":0.2}},\"type\":\"histogram\"}],\"histogram2d\":[{\"colorbar\":{\"outlinewidth\":0,\"ticks\":\"\"},\"colorscale\":[[0.0,\"#0d0887\"],[0.1111111111111111,\"#46039f\"],[0.2222222222222222,\"#7201a8\"],[0.3333333333333333,\"#9c179e\"],[0.4444444444444444,\"#bd3786\"],[0.5555555555555556,\"#d8576b\"],[0.6666666666666666,\"#ed7953\"],[0.7777777777777778,\"#fb9f3a\"],[0.8888888888888888,\"#fdca26\"],[1.0,\"#f0f921\"]],\"type\":\"histogram2d\"}],\"histogram2dcontour\":[{\"colorbar\":{\"outlinewidth\":0,\"ticks\":\"\"},\"colorscale\":[[0.0,\"#0d0887\"],[0.1111111111111111,\"#46039f\"],[0.2222222222222222,\"#7201a8\"],[0.3333333333333333,\"#9c179e\"],[0.4444444444444444,\"#bd3786\"],[0.5555555555555556,\"#d8576b\"],[0.6666666666666666,\"#ed7953\"],[0.7777777777777778,\"#fb9f3a\"],[0.8888888888888888,\"#fdca26\"],[1.0,\"#f0f921\"]],\"type\":\"histogram2dcontour\"}],\"mesh3d\":[{\"colorbar\":{\"outlinewidth\":0,\"ticks\":\"\"},\"type\":\"mesh3d\"}],\"parcoords\":[{\"line\":{\"colorbar\":{\"outlinewidth\":0,\"ticks\":\"\"}},\"type\":\"parcoords\"}],\"pie\":[{\"automargin\":true,\"type\":\"pie\"}],\"scatter\":[{\"marker\":{\"colorbar\":{\"outlinewidth\":0,\"ticks\":\"\"}},\"type\":\"scatter\"}],\"scatter3d\":[{\"line\":{\"colorbar\":{\"outlinewidth\":0,\"ticks\":\"\"}},\"marker\":{\"colorbar\":{\"outlinewidth\":0,\"ticks\":\"\"}},\"type\":\"scatter3d\"}],\"scattercarpet\":[{\"marker\":{\"colorbar\":{\"outlinewidth\":0,\"ticks\":\"\"}},\"type\":\"scattercarpet\"}],\"scattergeo\":[{\"marker\":{\"colorbar\":{\"outlinewidth\":0,\"ticks\":\"\"}},\"type\":\"scattergeo\"}],\"scattergl\":[{\"marker\":{\"colorbar\":{\"outlinewidth\":0,\"ticks\":\"\"}},\"type\":\"scattergl\"}],\"scattermapbox\":[{\"marker\":{\"colorbar\":{\"outlinewidth\":0,\"ticks\":\"\"}},\"type\":\"scattermapbox\"}],\"scatterpolar\":[{\"marker\":{\"colorbar\":{\"outlinewidth\":0,\"ticks\":\"\"}},\"type\":\"scatterpolar\"}],\"scatterpolargl\":[{\"marker\":{\"colorbar\":{\"outlinewidth\":0,\"ticks\":\"\"}},\"type\":\"scatterpolargl\"}],\"scatterternary\":[{\"marker\":{\"colorbar\":{\"outlinewidth\":0,\"ticks\":\"\"}},\"type\":\"scatterternary\"}],\"surface\":[{\"colorbar\":{\"outlinewidth\":0,\"ticks\":\"\"},\"colorscale\":[[0.0,\"#0d0887\"],[0.1111111111111111,\"#46039f\"],[0.2222222222222222,\"#7201a8\"],[0.3333333333333333,\"#9c179e\"],[0.4444444444444444,\"#bd3786\"],[0.5555555555555556,\"#d8576b\"],[0.6666666666666666,\"#ed7953\"],[0.7777777777777778,\"#fb9f3a\"],[0.8888888888888888,\"#fdca26\"],[1.0,\"#f0f921\"]],\"type\":\"surface\"}],\"table\":[{\"cells\":{\"fill\":{\"color\":\"#EBF0F8\"},\"line\":{\"color\":\"white\"}},\"header\":{\"fill\":{\"color\":\"#C8D4E3\"},\"line\":{\"color\":\"white\"}},\"type\":\"table\"}]},\"layout\":{\"annotationdefaults\":{\"arrowcolor\":\"#2a3f5f\",\"arrowhead\":0,\"arrowwidth\":1},\"autotypenumbers\":\"strict\",\"coloraxis\":{\"colorbar\":{\"outlinewidth\":0,\"ticks\":\"\"}},\"colorscale\":{\"diverging\":[[0,\"#8e0152\"],[0.1,\"#c51b7d\"],[0.2,\"#de77ae\"],[0.3,\"#f1b6da\"],[0.4,\"#fde0ef\"],[0.5,\"#f7f7f7\"],[0.6,\"#e6f5d0\"],[0.7,\"#b8e186\"],[0.8,\"#7fbc41\"],[0.9,\"#4d9221\"],[1,\"#276419\"]],\"sequential\":[[0.0,\"#0d0887\"],[0.1111111111111111,\"#46039f\"],[0.2222222222222222,\"#7201a8\"],[0.3333333333333333,\"#9c179e\"],[0.4444444444444444,\"#bd3786\"],[0.5555555555555556,\"#d8576b\"],[0.6666666666666666,\"#ed7953\"],[0.7777777777777778,\"#fb9f3a\"],[0.8888888888888888,\"#fdca26\"],[1.0,\"#f0f921\"]],\"sequentialminus\":[[0.0,\"#0d0887\"],[0.1111111111111111,\"#46039f\"],[0.2222222222222222,\"#7201a8\"],[0.3333333333333333,\"#9c179e\"],[0.4444444444444444,\"#bd3786\"],[0.5555555555555556,\"#d8576b\"],[0.6666666666666666,\"#ed7953\"],[0.7777777777777778,\"#fb9f3a\"],[0.8888888888888888,\"#fdca26\"],[1.0,\"#f0f921\"]]},\"colorway\":[\"#636efa\",\"#EF553B\",\"#00cc96\",\"#ab63fa\",\"#FFA15A\",\"#19d3f3\",\"#FF6692\",\"#B6E880\",\"#FF97FF\",\"#FECB52\"],\"font\":{\"color\":\"#2a3f5f\"},\"geo\":{\"bgcolor\":\"white\",\"lakecolor\":\"white\",\"landcolor\":\"#E5ECF6\",\"showlakes\":true,\"showland\":true,\"subunitcolor\":\"white\"},\"hoverlabel\":{\"align\":\"left\"},\"hovermode\":\"closest\",\"mapbox\":{\"style\":\"light\"},\"paper_bgcolor\":\"white\",\"plot_bgcolor\":\"#E5ECF6\",\"polar\":{\"angularaxis\":{\"gridcolor\":\"white\",\"linecolor\":\"white\",\"ticks\":\"\"},\"bgcolor\":\"#E5ECF6\",\"radialaxis\":{\"gridcolor\":\"white\",\"linecolor\":\"white\",\"ticks\":\"\"}},\"scene\":{\"xaxis\":{\"backgroundcolor\":\"#E5ECF6\",\"gridcolor\":\"white\",\"gridwidth\":2,\"linecolor\":\"white\",\"showbackground\":true,\"ticks\":\"\",\"zerolinecolor\":\"white\"},\"yaxis\":{\"backgroundcolor\":\"#E5ECF6\",\"gridcolor\":\"white\",\"gridwidth\":2,\"linecolor\":\"white\",\"showbackground\":true,\"ticks\":\"\",\"zerolinecolor\":\"white\"},\"zaxis\":{\"backgroundcolor\":\"#E5ECF6\",\"gridcolor\":\"white\",\"gridwidth\":2,\"linecolor\":\"white\",\"showbackground\":true,\"ticks\":\"\",\"zerolinecolor\":\"white\"}},\"shapedefaults\":{\"line\":{\"color\":\"#2a3f5f\"}},\"ternary\":{\"aaxis\":{\"gridcolor\":\"white\",\"linecolor\":\"white\",\"ticks\":\"\"},\"baxis\":{\"gridcolor\":\"white\",\"linecolor\":\"white\",\"ticks\":\"\"},\"bgcolor\":\"#E5ECF6\",\"caxis\":{\"gridcolor\":\"white\",\"linecolor\":\"white\",\"ticks\":\"\"}},\"title\":{\"x\":0.05},\"xaxis\":{\"automargin\":true,\"gridcolor\":\"white\",\"linecolor\":\"white\",\"ticks\":\"\",\"title\":{\"standoff\":15},\"zerolinecolor\":\"white\",\"zerolinewidth\":2},\"yaxis\":{\"automargin\":true,\"gridcolor\":\"white\",\"linecolor\":\"white\",\"ticks\":\"\",\"title\":{\"standoff\":15},\"zerolinecolor\":\"white\",\"zerolinewidth\":2}}},\"xaxis\":{\"anchor\":\"y\",\"domain\":[0.0,1.0],\"title\":{\"text\":\"\"},\"tickmode\":\"array\",\"tickvals\":[0,1,2,3,4,5,6,7,8,9,10,11,12,13,14,15,16,17,18,19,20,21,22,23,24,25,26,27,28,29,30,31,32,33,34,35,36,37],\"ticktext\":[\"Liverpool - West H...\",\"Crystal Palace - L...\",\"Liverpool - Bright...\",\"Leicester - Liverp...\",\"Tottenham - Liverp...\",\"Liverpool - Southa...\",\"Chelsea - Liverpoo...\",\"Liverpool - Man Ci...\",\"Huddersfield - Liv...\",\"Liverpool - Cardif...\",\"Arsenal - Liverpoo...\",\"Liverpool - Fulham...\",\"Watford - Liverpoo...\",\"Liverpool - Everto...\",\"Burnley - Liverpoo...\",\"Bournemouth - Live...\",\"Liverpool - Man Un...\",\"Wolves - Liverpool...\",\"Liverpool - Newcas...\",\"Liverpool - Arsena...\",\"Man City - Liverpo...\",\"Brighton - Liverpo...\",\"Liverpool - Crysta...\",\"Liverpool - Leices...\",\"West Ham - Liverpo...\",\"Liverpool - Bourne...\",\"Man United - Liver...\",\"Liverpool - Watfor...\",\"Everton - Liverpoo...\",\"Liverpool - Burnle...\",\"Fulham - Liverpool...\",\"Liverpool - Totten...\",\"Southampton - Live...\",\"Liverpool - Chelse...\",\"Cardiff - Liverpoo...\",\"Liverpool - Hudder...\",\"Newcastle - Liverp...\",\"Liverpool - Wolves...\",\"Liverpool - West H...\",\"Crystal Palace - L...\",\"Liverpool - Bright...\",\"Leicester - Liverp...\",\"Tottenham - Liverp...\",\"Liverpool - Southa...\",\"Chelsea - Liverpoo...\",\"Liverpool - Man Ci...\",\"Huddersfield - Liv...\",\"Liverpool - Cardif...\",\"Arsenal - Liverpoo...\",\"Liverpool - Fulham...\",\"Watford - Liverpoo...\",\"Liverpool - Everto...\",\"Burnley - Liverpoo...\",\"Bournemouth - Live...\",\"Liverpool - Man Un...\",\"Wolves - Liverpool...\",\"Liverpool - Newcas...\",\"Liverpool - Arsena...\",\"Man City - Liverpo...\",\"Brighton - Liverpo...\",\"Liverpool - Crysta...\",\"Liverpool - Leices...\",\"West Ham - Liverpo...\",\"Liverpool - Bourne...\",\"Man United - Liver...\",\"Liverpool - Watfor...\",\"Everton - Liverpoo...\",\"Liverpool - Burnle...\",\"Fulham - Liverpool...\",\"Liverpool - Totten...\",\"Southampton - Live...\",\"Liverpool - Chelse...\",\"Cardiff - Liverpoo...\",\"Liverpool - Hudder...\",\"Newcastle - Liverp...\",\"Liverpool - Wolves...\",\"Liverpool - West H...\",\"Crystal Palace - L...\",\"Liverpool - Bright...\",\"Leicester - Liverp...\",\"Tottenham - Liverp...\",\"Liverpool - Southa...\",\"Chelsea - Liverpoo...\",\"Liverpool - Man Ci...\",\"Huddersfield - Liv...\",\"Liverpool - Cardif...\",\"Arsenal - Liverpoo...\",\"Liverpool - Fulham...\",\"Watford - Liverpoo...\",\"Liverpool - Everto...\",\"Burnley - Liverpoo...\",\"Bournemouth - Live...\",\"Liverpool - Man Un...\",\"Wolves - Liverpool...\",\"Liverpool - Newcas...\",\"Liverpool - Arsena...\",\"Man City - Liverpo...\",\"Brighton - Liverpo...\",\"Liverpool - Crysta...\",\"Liverpool - Leices...\",\"West Ham - Liverpo...\",\"Liverpool - Bourne...\",\"Man United - Liver...\",\"Liverpool - Watfor...\",\"Everton - Liverpoo...\",\"Liverpool - Burnle...\",\"Fulham - Liverpool...\",\"Liverpool - Totten...\",\"Southampton - Live...\",\"Liverpool - Chelse...\",\"Cardiff - Liverpoo...\",\"Liverpool - Hudder...\",\"Newcastle - Liverp...\",\"Liverpool - Wolves...\"],\"tickangle\":-40},\"yaxis\":{\"anchor\":\"x\",\"domain\":[0.0,1.0],\"title\":{\"text\":\"\"}},\"legend\":{\"title\":{\"text\":\"\"},\"tracegroupgap\":0,\"orientation\":\"h\",\"yanchor\":\"bottom\",\"y\":-0.55,\"xanchor\":\"center\",\"x\":0.5},\"margin\":{\"t\":0,\"l\":0,\"r\":0,\"b\":10},\"barmode\":\"relative\",\"plot_bgcolor\":\"white\",\"paper_bgcolor\":\"white\"},                        {\"responsive\": true}                    ).then(function(){\n",
       "                            \n",
       "var gd = document.getElementById('1c0f2ea0-9c73-4e1c-ba58-49e0a6034001');\n",
       "var x = new MutationObserver(function (mutations, observer) {{\n",
       "        var display = window.getComputedStyle(gd).display;\n",
       "        if (!display || display === 'none') {{\n",
       "            console.log([gd, 'removed!']);\n",
       "            Plotly.purge(gd);\n",
       "            observer.disconnect();\n",
       "        }}\n",
       "}});\n",
       "\n",
       "// Listen for the removal of the full notebook cells\n",
       "var notebookContainer = gd.closest('#notebook-container');\n",
       "if (notebookContainer) {{\n",
       "    x.observe(notebookContainer, {childList: true});\n",
       "}}\n",
       "\n",
       "// Listen for the clearing of the current output cell\n",
       "var outputEl = gd.closest('.output');\n",
       "if (outputEl) {{\n",
       "    x.observe(outputEl, {childList: true});\n",
       "}}\n",
       "\n",
       "                        })                };                });            </script>        </div>"
      ]
     },
     "metadata": {},
     "output_type": "display_data"
    }
   ],
   "source": [
    "df=d[d['player'] == 'Mohamed Salah']\n",
    "dff=df.melt(id_vars=['match name', 'match short'], value_vars=['goals', 'shots off target', 'shots on target blocked'])\n",
    "dff.columns=['Match', 'match short', 'Shot type', 'Number of shots']\n",
    "fig=px.bar(dff, x='Match', y='Number of shots', color='Shot type', color_discrete_sequence=['#5A9B1A', '#D43830', '#FF8F00'])\n",
    "fig.update_layout(margin=dict(t=0, l=0, r=0, b=10),\n",
    "                plot_bgcolor=\"white\",\n",
    "                paper_bgcolor=\"white\",\n",
    "                legend=dict(\n",
    "                        orientation=\"h\",\n",
    "                        yanchor=\"bottom\",\n",
    "                        y=-0.55,\n",
    "                        xanchor=\"center\",\n",
    "                        x=0.5,\n",
    "                        title=\"\"\n",
    "                    ),\n",
    "                 xaxis = dict(\n",
    "                        tickmode = 'array',\n",
    "                        tickvals = list(range(len(dff['match short'].unique()))),\n",
    "                        ticktext = dff['match short']\n",
    "                    ),\n",
    "                 )\n",
    "fig.update_xaxes( title='', tickangle=320)\n",
    "fig.update_yaxes(title='')\n",
    "fig.show()"
   ]
  },
  {
   "cell_type": "code",
   "execution_count": 151,
   "id": "aaad53d3-f3f2-4f9b-b311-55afe4c02fc9",
   "metadata": {},
   "outputs": [
    {
     "data": {
      "application/vnd.plotly.v1+json": {
       "config": {
        "plotlyServerURL": "https://plot.ly"
       },
       "data": [
        {
         "domain": {
          "x": [
           0,
           1
          ],
          "y": [
           0,
           1
          ]
         },
         "hovertemplate": "label=%{label}<br>value=%{value}<extra></extra>",
         "labels": [
          "Goals Home",
          "Goals Away"
         ],
         "legendgroup": "",
         "name": "",
         "showlegend": true,
         "type": "pie",
         "values": [
          13,
          9
         ]
        }
       ],
       "layout": {
        "autosize": true,
        "legend": {
         "tracegroupgap": 0
        },
        "margin": {
         "b": 20,
         "l": 20,
         "r": 20,
         "t": 20
        },
        "piecolorway": [
         "#1D5B2C",
         "#5A9B1A"
        ],
        "template": {
         "data": {
          "bar": [
           {
            "error_x": {
             "color": "#2a3f5f"
            },
            "error_y": {
             "color": "#2a3f5f"
            },
            "marker": {
             "line": {
              "color": "#E5ECF6",
              "width": 0.5
             },
             "pattern": {
              "fillmode": "overlay",
              "size": 10,
              "solidity": 0.2
             }
            },
            "type": "bar"
           }
          ],
          "barpolar": [
           {
            "marker": {
             "line": {
              "color": "#E5ECF6",
              "width": 0.5
             },
             "pattern": {
              "fillmode": "overlay",
              "size": 10,
              "solidity": 0.2
             }
            },
            "type": "barpolar"
           }
          ],
          "carpet": [
           {
            "aaxis": {
             "endlinecolor": "#2a3f5f",
             "gridcolor": "white",
             "linecolor": "white",
             "minorgridcolor": "white",
             "startlinecolor": "#2a3f5f"
            },
            "baxis": {
             "endlinecolor": "#2a3f5f",
             "gridcolor": "white",
             "linecolor": "white",
             "minorgridcolor": "white",
             "startlinecolor": "#2a3f5f"
            },
            "type": "carpet"
           }
          ],
          "choropleth": [
           {
            "colorbar": {
             "outlinewidth": 0,
             "ticks": ""
            },
            "type": "choropleth"
           }
          ],
          "contour": [
           {
            "colorbar": {
             "outlinewidth": 0,
             "ticks": ""
            },
            "colorscale": [
             [
              0,
              "#0d0887"
             ],
             [
              0.1111111111111111,
              "#46039f"
             ],
             [
              0.2222222222222222,
              "#7201a8"
             ],
             [
              0.3333333333333333,
              "#9c179e"
             ],
             [
              0.4444444444444444,
              "#bd3786"
             ],
             [
              0.5555555555555556,
              "#d8576b"
             ],
             [
              0.6666666666666666,
              "#ed7953"
             ],
             [
              0.7777777777777778,
              "#fb9f3a"
             ],
             [
              0.8888888888888888,
              "#fdca26"
             ],
             [
              1,
              "#f0f921"
             ]
            ],
            "type": "contour"
           }
          ],
          "contourcarpet": [
           {
            "colorbar": {
             "outlinewidth": 0,
             "ticks": ""
            },
            "type": "contourcarpet"
           }
          ],
          "heatmap": [
           {
            "colorbar": {
             "outlinewidth": 0,
             "ticks": ""
            },
            "colorscale": [
             [
              0,
              "#0d0887"
             ],
             [
              0.1111111111111111,
              "#46039f"
             ],
             [
              0.2222222222222222,
              "#7201a8"
             ],
             [
              0.3333333333333333,
              "#9c179e"
             ],
             [
              0.4444444444444444,
              "#bd3786"
             ],
             [
              0.5555555555555556,
              "#d8576b"
             ],
             [
              0.6666666666666666,
              "#ed7953"
             ],
             [
              0.7777777777777778,
              "#fb9f3a"
             ],
             [
              0.8888888888888888,
              "#fdca26"
             ],
             [
              1,
              "#f0f921"
             ]
            ],
            "type": "heatmap"
           }
          ],
          "heatmapgl": [
           {
            "colorbar": {
             "outlinewidth": 0,
             "ticks": ""
            },
            "colorscale": [
             [
              0,
              "#0d0887"
             ],
             [
              0.1111111111111111,
              "#46039f"
             ],
             [
              0.2222222222222222,
              "#7201a8"
             ],
             [
              0.3333333333333333,
              "#9c179e"
             ],
             [
              0.4444444444444444,
              "#bd3786"
             ],
             [
              0.5555555555555556,
              "#d8576b"
             ],
             [
              0.6666666666666666,
              "#ed7953"
             ],
             [
              0.7777777777777778,
              "#fb9f3a"
             ],
             [
              0.8888888888888888,
              "#fdca26"
             ],
             [
              1,
              "#f0f921"
             ]
            ],
            "type": "heatmapgl"
           }
          ],
          "histogram": [
           {
            "marker": {
             "pattern": {
              "fillmode": "overlay",
              "size": 10,
              "solidity": 0.2
             }
            },
            "type": "histogram"
           }
          ],
          "histogram2d": [
           {
            "colorbar": {
             "outlinewidth": 0,
             "ticks": ""
            },
            "colorscale": [
             [
              0,
              "#0d0887"
             ],
             [
              0.1111111111111111,
              "#46039f"
             ],
             [
              0.2222222222222222,
              "#7201a8"
             ],
             [
              0.3333333333333333,
              "#9c179e"
             ],
             [
              0.4444444444444444,
              "#bd3786"
             ],
             [
              0.5555555555555556,
              "#d8576b"
             ],
             [
              0.6666666666666666,
              "#ed7953"
             ],
             [
              0.7777777777777778,
              "#fb9f3a"
             ],
             [
              0.8888888888888888,
              "#fdca26"
             ],
             [
              1,
              "#f0f921"
             ]
            ],
            "type": "histogram2d"
           }
          ],
          "histogram2dcontour": [
           {
            "colorbar": {
             "outlinewidth": 0,
             "ticks": ""
            },
            "colorscale": [
             [
              0,
              "#0d0887"
             ],
             [
              0.1111111111111111,
              "#46039f"
             ],
             [
              0.2222222222222222,
              "#7201a8"
             ],
             [
              0.3333333333333333,
              "#9c179e"
             ],
             [
              0.4444444444444444,
              "#bd3786"
             ],
             [
              0.5555555555555556,
              "#d8576b"
             ],
             [
              0.6666666666666666,
              "#ed7953"
             ],
             [
              0.7777777777777778,
              "#fb9f3a"
             ],
             [
              0.8888888888888888,
              "#fdca26"
             ],
             [
              1,
              "#f0f921"
             ]
            ],
            "type": "histogram2dcontour"
           }
          ],
          "mesh3d": [
           {
            "colorbar": {
             "outlinewidth": 0,
             "ticks": ""
            },
            "type": "mesh3d"
           }
          ],
          "parcoords": [
           {
            "line": {
             "colorbar": {
              "outlinewidth": 0,
              "ticks": ""
             }
            },
            "type": "parcoords"
           }
          ],
          "pie": [
           {
            "automargin": true,
            "type": "pie"
           }
          ],
          "scatter": [
           {
            "marker": {
             "colorbar": {
              "outlinewidth": 0,
              "ticks": ""
             }
            },
            "type": "scatter"
           }
          ],
          "scatter3d": [
           {
            "line": {
             "colorbar": {
              "outlinewidth": 0,
              "ticks": ""
             }
            },
            "marker": {
             "colorbar": {
              "outlinewidth": 0,
              "ticks": ""
             }
            },
            "type": "scatter3d"
           }
          ],
          "scattercarpet": [
           {
            "marker": {
             "colorbar": {
              "outlinewidth": 0,
              "ticks": ""
             }
            },
            "type": "scattercarpet"
           }
          ],
          "scattergeo": [
           {
            "marker": {
             "colorbar": {
              "outlinewidth": 0,
              "ticks": ""
             }
            },
            "type": "scattergeo"
           }
          ],
          "scattergl": [
           {
            "marker": {
             "colorbar": {
              "outlinewidth": 0,
              "ticks": ""
             }
            },
            "type": "scattergl"
           }
          ],
          "scattermapbox": [
           {
            "marker": {
             "colorbar": {
              "outlinewidth": 0,
              "ticks": ""
             }
            },
            "type": "scattermapbox"
           }
          ],
          "scatterpolar": [
           {
            "marker": {
             "colorbar": {
              "outlinewidth": 0,
              "ticks": ""
             }
            },
            "type": "scatterpolar"
           }
          ],
          "scatterpolargl": [
           {
            "marker": {
             "colorbar": {
              "outlinewidth": 0,
              "ticks": ""
             }
            },
            "type": "scatterpolargl"
           }
          ],
          "scatterternary": [
           {
            "marker": {
             "colorbar": {
              "outlinewidth": 0,
              "ticks": ""
             }
            },
            "type": "scatterternary"
           }
          ],
          "surface": [
           {
            "colorbar": {
             "outlinewidth": 0,
             "ticks": ""
            },
            "colorscale": [
             [
              0,
              "#0d0887"
             ],
             [
              0.1111111111111111,
              "#46039f"
             ],
             [
              0.2222222222222222,
              "#7201a8"
             ],
             [
              0.3333333333333333,
              "#9c179e"
             ],
             [
              0.4444444444444444,
              "#bd3786"
             ],
             [
              0.5555555555555556,
              "#d8576b"
             ],
             [
              0.6666666666666666,
              "#ed7953"
             ],
             [
              0.7777777777777778,
              "#fb9f3a"
             ],
             [
              0.8888888888888888,
              "#fdca26"
             ],
             [
              1,
              "#f0f921"
             ]
            ],
            "type": "surface"
           }
          ],
          "table": [
           {
            "cells": {
             "fill": {
              "color": "#EBF0F8"
             },
             "line": {
              "color": "white"
             }
            },
            "header": {
             "fill": {
              "color": "#C8D4E3"
             },
             "line": {
              "color": "white"
             }
            },
            "type": "table"
           }
          ]
         },
         "layout": {
          "annotationdefaults": {
           "arrowcolor": "#2a3f5f",
           "arrowhead": 0,
           "arrowwidth": 1
          },
          "autotypenumbers": "strict",
          "coloraxis": {
           "colorbar": {
            "outlinewidth": 0,
            "ticks": ""
           }
          },
          "colorscale": {
           "diverging": [
            [
             0,
             "#8e0152"
            ],
            [
             0.1,
             "#c51b7d"
            ],
            [
             0.2,
             "#de77ae"
            ],
            [
             0.3,
             "#f1b6da"
            ],
            [
             0.4,
             "#fde0ef"
            ],
            [
             0.5,
             "#f7f7f7"
            ],
            [
             0.6,
             "#e6f5d0"
            ],
            [
             0.7,
             "#b8e186"
            ],
            [
             0.8,
             "#7fbc41"
            ],
            [
             0.9,
             "#4d9221"
            ],
            [
             1,
             "#276419"
            ]
           ],
           "sequential": [
            [
             0,
             "#0d0887"
            ],
            [
             0.1111111111111111,
             "#46039f"
            ],
            [
             0.2222222222222222,
             "#7201a8"
            ],
            [
             0.3333333333333333,
             "#9c179e"
            ],
            [
             0.4444444444444444,
             "#bd3786"
            ],
            [
             0.5555555555555556,
             "#d8576b"
            ],
            [
             0.6666666666666666,
             "#ed7953"
            ],
            [
             0.7777777777777778,
             "#fb9f3a"
            ],
            [
             0.8888888888888888,
             "#fdca26"
            ],
            [
             1,
             "#f0f921"
            ]
           ],
           "sequentialminus": [
            [
             0,
             "#0d0887"
            ],
            [
             0.1111111111111111,
             "#46039f"
            ],
            [
             0.2222222222222222,
             "#7201a8"
            ],
            [
             0.3333333333333333,
             "#9c179e"
            ],
            [
             0.4444444444444444,
             "#bd3786"
            ],
            [
             0.5555555555555556,
             "#d8576b"
            ],
            [
             0.6666666666666666,
             "#ed7953"
            ],
            [
             0.7777777777777778,
             "#fb9f3a"
            ],
            [
             0.8888888888888888,
             "#fdca26"
            ],
            [
             1,
             "#f0f921"
            ]
           ]
          },
          "colorway": [
           "#636efa",
           "#EF553B",
           "#00cc96",
           "#ab63fa",
           "#FFA15A",
           "#19d3f3",
           "#FF6692",
           "#B6E880",
           "#FF97FF",
           "#FECB52"
          ],
          "font": {
           "color": "#2a3f5f"
          },
          "geo": {
           "bgcolor": "white",
           "lakecolor": "white",
           "landcolor": "#E5ECF6",
           "showlakes": true,
           "showland": true,
           "subunitcolor": "white"
          },
          "hoverlabel": {
           "align": "left"
          },
          "hovermode": "closest",
          "mapbox": {
           "style": "light"
          },
          "paper_bgcolor": "white",
          "plot_bgcolor": "#E5ECF6",
          "polar": {
           "angularaxis": {
            "gridcolor": "white",
            "linecolor": "white",
            "ticks": ""
           },
           "bgcolor": "#E5ECF6",
           "radialaxis": {
            "gridcolor": "white",
            "linecolor": "white",
            "ticks": ""
           }
          },
          "scene": {
           "xaxis": {
            "backgroundcolor": "#E5ECF6",
            "gridcolor": "white",
            "gridwidth": 2,
            "linecolor": "white",
            "showbackground": true,
            "ticks": "",
            "zerolinecolor": "white"
           },
           "yaxis": {
            "backgroundcolor": "#E5ECF6",
            "gridcolor": "white",
            "gridwidth": 2,
            "linecolor": "white",
            "showbackground": true,
            "ticks": "",
            "zerolinecolor": "white"
           },
           "zaxis": {
            "backgroundcolor": "#E5ECF6",
            "gridcolor": "white",
            "gridwidth": 2,
            "linecolor": "white",
            "showbackground": true,
            "ticks": "",
            "zerolinecolor": "white"
           }
          },
          "shapedefaults": {
           "line": {
            "color": "#2a3f5f"
           }
          },
          "ternary": {
           "aaxis": {
            "gridcolor": "white",
            "linecolor": "white",
            "ticks": ""
           },
           "baxis": {
            "gridcolor": "white",
            "linecolor": "white",
            "ticks": ""
           },
           "bgcolor": "#E5ECF6",
           "caxis": {
            "gridcolor": "white",
            "linecolor": "white",
            "ticks": ""
           }
          },
          "title": {
           "x": 0.05
          },
          "xaxis": {
           "automargin": true,
           "gridcolor": "white",
           "linecolor": "white",
           "ticks": "",
           "title": {
            "standoff": 15
           },
           "zerolinecolor": "white",
           "zerolinewidth": 2
          },
          "yaxis": {
           "automargin": true,
           "gridcolor": "white",
           "linecolor": "white",
           "ticks": "",
           "title": {
            "standoff": 15
           },
           "zerolinecolor": "white",
           "zerolinewidth": 2
          }
         }
        }
       }
      },
      "image/png": "[encoded data removed]",
      "text/html": [
       "<div>                            <div id=\"e18325a9-701f-411b-828e-553d1ccf55e3\" class=\"plotly-graph-div\" style=\"height:525px; width:100%;\"></div>            <script type=\"text/javascript\">                require([\"plotly\"], function(Plotly) {                    window.PLOTLYENV=window.PLOTLYENV || {};                                    if (document.getElementById(\"e18325a9-701f-411b-828e-553d1ccf55e3\")) {                    Plotly.newPlot(                        \"e18325a9-701f-411b-828e-553d1ccf55e3\",                        [{\"domain\":{\"x\":[0.0,1.0],\"y\":[0.0,1.0]},\"hovertemplate\":\"label=%{label}<br>value=%{value}<extra></extra>\",\"labels\":[\"Goals Home\",\"Goals Away\"],\"legendgroup\":\"\",\"name\":\"\",\"showlegend\":true,\"values\":[13,9],\"type\":\"pie\"}],                        {\"template\":{\"data\":{\"bar\":[{\"error_x\":{\"color\":\"#2a3f5f\"},\"error_y\":{\"color\":\"#2a3f5f\"},\"marker\":{\"line\":{\"color\":\"#E5ECF6\",\"width\":0.5},\"pattern\":{\"fillmode\":\"overlay\",\"size\":10,\"solidity\":0.2}},\"type\":\"bar\"}],\"barpolar\":[{\"marker\":{\"line\":{\"color\":\"#E5ECF6\",\"width\":0.5},\"pattern\":{\"fillmode\":\"overlay\",\"size\":10,\"solidity\":0.2}},\"type\":\"barpolar\"}],\"carpet\":[{\"aaxis\":{\"endlinecolor\":\"#2a3f5f\",\"gridcolor\":\"white\",\"linecolor\":\"white\",\"minorgridcolor\":\"white\",\"startlinecolor\":\"#2a3f5f\"},\"baxis\":{\"endlinecolor\":\"#2a3f5f\",\"gridcolor\":\"white\",\"linecolor\":\"white\",\"minorgridcolor\":\"white\",\"startlinecolor\":\"#2a3f5f\"},\"type\":\"carpet\"}],\"choropleth\":[{\"colorbar\":{\"outlinewidth\":0,\"ticks\":\"\"},\"type\":\"choropleth\"}],\"contour\":[{\"colorbar\":{\"outlinewidth\":0,\"ticks\":\"\"},\"colorscale\":[[0.0,\"#0d0887\"],[0.1111111111111111,\"#46039f\"],[0.2222222222222222,\"#7201a8\"],[0.3333333333333333,\"#9c179e\"],[0.4444444444444444,\"#bd3786\"],[0.5555555555555556,\"#d8576b\"],[0.6666666666666666,\"#ed7953\"],[0.7777777777777778,\"#fb9f3a\"],[0.8888888888888888,\"#fdca26\"],[1.0,\"#f0f921\"]],\"type\":\"contour\"}],\"contourcarpet\":[{\"colorbar\":{\"outlinewidth\":0,\"ticks\":\"\"},\"type\":\"contourcarpet\"}],\"heatmap\":[{\"colorbar\":{\"outlinewidth\":0,\"ticks\":\"\"},\"colorscale\":[[0.0,\"#0d0887\"],[0.1111111111111111,\"#46039f\"],[0.2222222222222222,\"#7201a8\"],[0.3333333333333333,\"#9c179e\"],[0.4444444444444444,\"#bd3786\"],[0.5555555555555556,\"#d8576b\"],[0.6666666666666666,\"#ed7953\"],[0.7777777777777778,\"#fb9f3a\"],[0.8888888888888888,\"#fdca26\"],[1.0,\"#f0f921\"]],\"type\":\"heatmap\"}],\"heatmapgl\":[{\"colorbar\":{\"outlinewidth\":0,\"ticks\":\"\"},\"colorscale\":[[0.0,\"#0d0887\"],[0.1111111111111111,\"#46039f\"],[0.2222222222222222,\"#7201a8\"],[0.3333333333333333,\"#9c179e\"],[0.4444444444444444,\"#bd3786\"],[0.5555555555555556,\"#d8576b\"],[0.6666666666666666,\"#ed7953\"],[0.7777777777777778,\"#fb9f3a\"],[0.8888888888888888,\"#fdca26\"],[1.0,\"#f0f921\"]],\"type\":\"heatmapgl\"}],\"histogram\":[{\"marker\":{\"pattern\":{\"fillmode\":\"overlay\",\"size\":10,\"solidity\":0.2}},\"type\":\"histogram\"}],\"histogram2d\":[{\"colorbar\":{\"outlinewidth\":0,\"ticks\":\"\"},\"colorscale\":[[0.0,\"#0d0887\"],[0.1111111111111111,\"#46039f\"],[0.2222222222222222,\"#7201a8\"],[0.3333333333333333,\"#9c179e\"],[0.4444444444444444,\"#bd3786\"],[0.5555555555555556,\"#d8576b\"],[0.6666666666666666,\"#ed7953\"],[0.7777777777777778,\"#fb9f3a\"],[0.8888888888888888,\"#fdca26\"],[1.0,\"#f0f921\"]],\"type\":\"histogram2d\"}],\"histogram2dcontour\":[{\"colorbar\":{\"outlinewidth\":0,\"ticks\":\"\"},\"colorscale\":[[0.0,\"#0d0887\"],[0.1111111111111111,\"#46039f\"],[0.2222222222222222,\"#7201a8\"],[0.3333333333333333,\"#9c179e\"],[0.4444444444444444,\"#bd3786\"],[0.5555555555555556,\"#d8576b\"],[0.6666666666666666,\"#ed7953\"],[0.7777777777777778,\"#fb9f3a\"],[0.8888888888888888,\"#fdca26\"],[1.0,\"#f0f921\"]],\"type\":\"histogram2dcontour\"}],\"mesh3d\":[{\"colorbar\":{\"outlinewidth\":0,\"ticks\":\"\"},\"type\":\"mesh3d\"}],\"parcoords\":[{\"line\":{\"colorbar\":{\"outlinewidth\":0,\"ticks\":\"\"}},\"type\":\"parcoords\"}],\"pie\":[{\"automargin\":true,\"type\":\"pie\"}],\"scatter\":[{\"marker\":{\"colorbar\":{\"outlinewidth\":0,\"ticks\":\"\"}},\"type\":\"scatter\"}],\"scatter3d\":[{\"line\":{\"colorbar\":{\"outlinewidth\":0,\"ticks\":\"\"}},\"marker\":{\"colorbar\":{\"outlinewidth\":0,\"ticks\":\"\"}},\"type\":\"scatter3d\"}],\"scattercarpet\":[{\"marker\":{\"colorbar\":{\"outlinewidth\":0,\"ticks\":\"\"}},\"type\":\"scattercarpet\"}],\"scattergeo\":[{\"marker\":{\"colorbar\":{\"outlinewidth\":0,\"ticks\":\"\"}},\"type\":\"scattergeo\"}],\"scattergl\":[{\"marker\":{\"colorbar\":{\"outlinewidth\":0,\"ticks\":\"\"}},\"type\":\"scattergl\"}],\"scattermapbox\":[{\"marker\":{\"colorbar\":{\"outlinewidth\":0,\"ticks\":\"\"}},\"type\":\"scattermapbox\"}],\"scatterpolar\":[{\"marker\":{\"colorbar\":{\"outlinewidth\":0,\"ticks\":\"\"}},\"type\":\"scatterpolar\"}],\"scatterpolargl\":[{\"marker\":{\"colorbar\":{\"outlinewidth\":0,\"ticks\":\"\"}},\"type\":\"scatterpolargl\"}],\"scatterternary\":[{\"marker\":{\"colorbar\":{\"outlinewidth\":0,\"ticks\":\"\"}},\"type\":\"scatterternary\"}],\"surface\":[{\"colorbar\":{\"outlinewidth\":0,\"ticks\":\"\"},\"colorscale\":[[0.0,\"#0d0887\"],[0.1111111111111111,\"#46039f\"],[0.2222222222222222,\"#7201a8\"],[0.3333333333333333,\"#9c179e\"],[0.4444444444444444,\"#bd3786\"],[0.5555555555555556,\"#d8576b\"],[0.6666666666666666,\"#ed7953\"],[0.7777777777777778,\"#fb9f3a\"],[0.8888888888888888,\"#fdca26\"],[1.0,\"#f0f921\"]],\"type\":\"surface\"}],\"table\":[{\"cells\":{\"fill\":{\"color\":\"#EBF0F8\"},\"line\":{\"color\":\"white\"}},\"header\":{\"fill\":{\"color\":\"#C8D4E3\"},\"line\":{\"color\":\"white\"}},\"type\":\"table\"}]},\"layout\":{\"annotationdefaults\":{\"arrowcolor\":\"#2a3f5f\",\"arrowhead\":0,\"arrowwidth\":1},\"autotypenumbers\":\"strict\",\"coloraxis\":{\"colorbar\":{\"outlinewidth\":0,\"ticks\":\"\"}},\"colorscale\":{\"diverging\":[[0,\"#8e0152\"],[0.1,\"#c51b7d\"],[0.2,\"#de77ae\"],[0.3,\"#f1b6da\"],[0.4,\"#fde0ef\"],[0.5,\"#f7f7f7\"],[0.6,\"#e6f5d0\"],[0.7,\"#b8e186\"],[0.8,\"#7fbc41\"],[0.9,\"#4d9221\"],[1,\"#276419\"]],\"sequential\":[[0.0,\"#0d0887\"],[0.1111111111111111,\"#46039f\"],[0.2222222222222222,\"#7201a8\"],[0.3333333333333333,\"#9c179e\"],[0.4444444444444444,\"#bd3786\"],[0.5555555555555556,\"#d8576b\"],[0.6666666666666666,\"#ed7953\"],[0.7777777777777778,\"#fb9f3a\"],[0.8888888888888888,\"#fdca26\"],[1.0,\"#f0f921\"]],\"sequentialminus\":[[0.0,\"#0d0887\"],[0.1111111111111111,\"#46039f\"],[0.2222222222222222,\"#7201a8\"],[0.3333333333333333,\"#9c179e\"],[0.4444444444444444,\"#bd3786\"],[0.5555555555555556,\"#d8576b\"],[0.6666666666666666,\"#ed7953\"],[0.7777777777777778,\"#fb9f3a\"],[0.8888888888888888,\"#fdca26\"],[1.0,\"#f0f921\"]]},\"colorway\":[\"#636efa\",\"#EF553B\",\"#00cc96\",\"#ab63fa\",\"#FFA15A\",\"#19d3f3\",\"#FF6692\",\"#B6E880\",\"#FF97FF\",\"#FECB52\"],\"font\":{\"color\":\"#2a3f5f\"},\"geo\":{\"bgcolor\":\"white\",\"lakecolor\":\"white\",\"landcolor\":\"#E5ECF6\",\"showlakes\":true,\"showland\":true,\"subunitcolor\":\"white\"},\"hoverlabel\":{\"align\":\"left\"},\"hovermode\":\"closest\",\"mapbox\":{\"style\":\"light\"},\"paper_bgcolor\":\"white\",\"plot_bgcolor\":\"#E5ECF6\",\"polar\":{\"angularaxis\":{\"gridcolor\":\"white\",\"linecolor\":\"white\",\"ticks\":\"\"},\"bgcolor\":\"#E5ECF6\",\"radialaxis\":{\"gridcolor\":\"white\",\"linecolor\":\"white\",\"ticks\":\"\"}},\"scene\":{\"xaxis\":{\"backgroundcolor\":\"#E5ECF6\",\"gridcolor\":\"white\",\"gridwidth\":2,\"linecolor\":\"white\",\"showbackground\":true,\"ticks\":\"\",\"zerolinecolor\":\"white\"},\"yaxis\":{\"backgroundcolor\":\"#E5ECF6\",\"gridcolor\":\"white\",\"gridwidth\":2,\"linecolor\":\"white\",\"showbackground\":true,\"ticks\":\"\",\"zerolinecolor\":\"white\"},\"zaxis\":{\"backgroundcolor\":\"#E5ECF6\",\"gridcolor\":\"white\",\"gridwidth\":2,\"linecolor\":\"white\",\"showbackground\":true,\"ticks\":\"\",\"zerolinecolor\":\"white\"}},\"shapedefaults\":{\"line\":{\"color\":\"#2a3f5f\"}},\"ternary\":{\"aaxis\":{\"gridcolor\":\"white\",\"linecolor\":\"white\",\"ticks\":\"\"},\"baxis\":{\"gridcolor\":\"white\",\"linecolor\":\"white\",\"ticks\":\"\"},\"bgcolor\":\"#E5ECF6\",\"caxis\":{\"gridcolor\":\"white\",\"linecolor\":\"white\",\"ticks\":\"\"}},\"title\":{\"x\":0.05},\"xaxis\":{\"automargin\":true,\"gridcolor\":\"white\",\"linecolor\":\"white\",\"ticks\":\"\",\"title\":{\"standoff\":15},\"zerolinecolor\":\"white\",\"zerolinewidth\":2},\"yaxis\":{\"automargin\":true,\"gridcolor\":\"white\",\"linecolor\":\"white\",\"ticks\":\"\",\"title\":{\"standoff\":15},\"zerolinecolor\":\"white\",\"zerolinewidth\":2}}},\"legend\":{\"tracegroupgap\":0},\"margin\":{\"t\":20,\"r\":20,\"b\":20,\"l\":20},\"piecolorway\":[\"#1D5B2C\",\"#5A9B1A\"]},                        {\"responsive\": true}                    ).then(function(){\n",
       "                            \n",
       "var gd = document.getElementById('e18325a9-701f-411b-828e-553d1ccf55e3');\n",
       "var x = new MutationObserver(function (mutations, observer) {{\n",
       "        var display = window.getComputedStyle(gd).display;\n",
       "        if (!display || display === 'none') {{\n",
       "            console.log([gd, 'removed!']);\n",
       "            Plotly.purge(gd);\n",
       "            observer.disconnect();\n",
       "        }}\n",
       "}});\n",
       "\n",
       "// Listen for the removal of the full notebook cells\n",
       "var notebookContainer = gd.closest('#notebook-container');\n",
       "if (notebookContainer) {{\n",
       "    x.observe(notebookContainer, {childList: true});\n",
       "}}\n",
       "\n",
       "// Listen for the clearing of the current output cell\n",
       "var outputEl = gd.closest('.output');\n",
       "if (outputEl) {{\n",
       "    x.observe(outputEl, {childList: true});\n",
       "}}\n",
       "\n",
       "                        })                };                });            </script>        </div>"
      ]
     },
     "metadata": {},
     "output_type": "display_data"
    }
   ],
   "source": [
    "data=pd.read_csv('data_final.csv')\n",
    "df=data[data['full_name'] == 'Mohamed Salah']\n",
    "names=['Goals Home', 'Goals Away']\n",
    "values=[int(list(df['goals_home'])[0]),int(list(df['goals_away'])[0])]\n",
    "fig=px.pie(df, names=names, values=values, color_discrete_sequence=['#1D5B2C', '#5A9B1A'])\n",
    "fig.update_layout(margin=dict(t=20, r=20, b=20, l=20))\n",
    "fig.show()"
   ]
  },
  {
   "cell_type": "code",
   "execution_count": 195,
   "id": "8eac8ed4-ee40-431a-bbcb-ed099f6e6861",
   "metadata": {},
   "outputs": [],
   "source": [
    "data['goals_home'] = data['goals_home'].replace(2, random.randrange(7))\n",
    "data['goals_away'] = data['goals_away'].replace(4, random.randrange(5))\n",
    "data['goals'] = data['goals_home']+data['goals_away']"
   ]
  },
  {
   "cell_type": "code",
   "execution_count": 196,
   "id": "a7e0736f-9c8f-42b7-83e2-b090729d28ef",
   "metadata": {},
   "outputs": [],
   "source": [
    "data.to_csv('data_final.csv', index=False)"
   ]
  },
  {
   "cell_type": "code",
   "execution_count": 163,
   "id": "1a4e8bca-c22e-423c-830b-0e1f84c9aa53",
   "metadata": {},
   "outputs": [
    {
     "data": {
      "application/vnd.plotly.v1+json": {
       "config": {
        "plotlyServerURL": "https://plot.ly"
       },
       "data": [
        {
         "fill": "toself",
         "hovertemplate": "r=%{r}<br>theta=%{theta}<extra></extra>",
         "legendgroup": "",
         "line": {
          "color": "green",
          "dash": "solid"
         },
         "marker": {
          "symbol": "circle"
         },
         "mode": "lines",
         "name": "",
         "r": [
          10,
          4,
          10,
          6,
          9,
          7,
          10
         ],
         "showlegend": false,
         "subplot": "polar",
         "theta": [
          "Wins",
          "Losses",
          "Tackles",
          "Offsides",
          "Fouls",
          "Interceptions",
          "Wins"
         ],
         "type": "scatterpolar"
        }
       ],
       "layout": {
        "autosize": true,
        "legend": {
         "tracegroupgap": 0
        },
        "margin": {
         "t": 60
        },
        "polar": {
         "angularaxis": {
          "direction": "clockwise",
          "rotation": 90,
          "type": "category"
         },
         "domain": {
          "x": [
           0,
           1
          ],
          "y": [
           0,
           1
          ]
         },
         "radialaxis": {
          "autorange": true,
          "range": [
           0,
           10
          ],
          "type": "linear"
         }
        },
        "template": {
         "data": {
          "bar": [
           {
            "error_x": {
             "color": "#2a3f5f"
            },
            "error_y": {
             "color": "#2a3f5f"
            },
            "marker": {
             "line": {
              "color": "#E5ECF6",
              "width": 0.5
             },
             "pattern": {
              "fillmode": "overlay",
              "size": 10,
              "solidity": 0.2
             }
            },
            "type": "bar"
           }
          ],
          "barpolar": [
           {
            "marker": {
             "line": {
              "color": "#E5ECF6",
              "width": 0.5
             },
             "pattern": {
              "fillmode": "overlay",
              "size": 10,
              "solidity": 0.2
             }
            },
            "type": "barpolar"
           }
          ],
          "carpet": [
           {
            "aaxis": {
             "endlinecolor": "#2a3f5f",
             "gridcolor": "white",
             "linecolor": "white",
             "minorgridcolor": "white",
             "startlinecolor": "#2a3f5f"
            },
            "baxis": {
             "endlinecolor": "#2a3f5f",
             "gridcolor": "white",
             "linecolor": "white",
             "minorgridcolor": "white",
             "startlinecolor": "#2a3f5f"
            },
            "type": "carpet"
           }
          ],
          "choropleth": [
           {
            "colorbar": {
             "outlinewidth": 0,
             "ticks": ""
            },
            "type": "choropleth"
           }
          ],
          "contour": [
           {
            "colorbar": {
             "outlinewidth": 0,
             "ticks": ""
            },
            "colorscale": [
             [
              0,
              "#0d0887"
             ],
             [
              0.1111111111111111,
              "#46039f"
             ],
             [
              0.2222222222222222,
              "#7201a8"
             ],
             [
              0.3333333333333333,
              "#9c179e"
             ],
             [
              0.4444444444444444,
              "#bd3786"
             ],
             [
              0.5555555555555556,
              "#d8576b"
             ],
             [
              0.6666666666666666,
              "#ed7953"
             ],
             [
              0.7777777777777778,
              "#fb9f3a"
             ],
             [
              0.8888888888888888,
              "#fdca26"
             ],
             [
              1,
              "#f0f921"
             ]
            ],
            "type": "contour"
           }
          ],
          "contourcarpet": [
           {
            "colorbar": {
             "outlinewidth": 0,
             "ticks": ""
            },
            "type": "contourcarpet"
           }
          ],
          "heatmap": [
           {
            "colorbar": {
             "outlinewidth": 0,
             "ticks": ""
            },
            "colorscale": [
             [
              0,
              "#0d0887"
             ],
             [
              0.1111111111111111,
              "#46039f"
             ],
             [
              0.2222222222222222,
              "#7201a8"
             ],
             [
              0.3333333333333333,
              "#9c179e"
             ],
             [
              0.4444444444444444,
              "#bd3786"
             ],
             [
              0.5555555555555556,
              "#d8576b"
             ],
             [
              0.6666666666666666,
              "#ed7953"
             ],
             [
              0.7777777777777778,
              "#fb9f3a"
             ],
             [
              0.8888888888888888,
              "#fdca26"
             ],
             [
              1,
              "#f0f921"
             ]
            ],
            "type": "heatmap"
           }
          ],
          "heatmapgl": [
           {
            "colorbar": {
             "outlinewidth": 0,
             "ticks": ""
            },
            "colorscale": [
             [
              0,
              "#0d0887"
             ],
             [
              0.1111111111111111,
              "#46039f"
             ],
             [
              0.2222222222222222,
              "#7201a8"
             ],
             [
              0.3333333333333333,
              "#9c179e"
             ],
             [
              0.4444444444444444,
              "#bd3786"
             ],
             [
              0.5555555555555556,
              "#d8576b"
             ],
             [
              0.6666666666666666,
              "#ed7953"
             ],
             [
              0.7777777777777778,
              "#fb9f3a"
             ],
             [
              0.8888888888888888,
              "#fdca26"
             ],
             [
              1,
              "#f0f921"
             ]
            ],
            "type": "heatmapgl"
           }
          ],
          "histogram": [
           {
            "marker": {
             "pattern": {
              "fillmode": "overlay",
              "size": 10,
              "solidity": 0.2
             }
            },
            "type": "histogram"
           }
          ],
          "histogram2d": [
           {
            "colorbar": {
             "outlinewidth": 0,
             "ticks": ""
            },
            "colorscale": [
             [
              0,
              "#0d0887"
             ],
             [
              0.1111111111111111,
              "#46039f"
             ],
             [
              0.2222222222222222,
              "#7201a8"
             ],
             [
              0.3333333333333333,
              "#9c179e"
             ],
             [
              0.4444444444444444,
              "#bd3786"
             ],
             [
              0.5555555555555556,
              "#d8576b"
             ],
             [
              0.6666666666666666,
              "#ed7953"
             ],
             [
              0.7777777777777778,
              "#fb9f3a"
             ],
             [
              0.8888888888888888,
              "#fdca26"
             ],
             [
              1,
              "#f0f921"
             ]
            ],
            "type": "histogram2d"
           }
          ],
          "histogram2dcontour": [
           {
            "colorbar": {
             "outlinewidth": 0,
             "ticks": ""
            },
            "colorscale": [
             [
              0,
              "#0d0887"
             ],
             [
              0.1111111111111111,
              "#46039f"
             ],
             [
              0.2222222222222222,
              "#7201a8"
             ],
             [
              0.3333333333333333,
              "#9c179e"
             ],
             [
              0.4444444444444444,
              "#bd3786"
             ],
             [
              0.5555555555555556,
              "#d8576b"
             ],
             [
              0.6666666666666666,
              "#ed7953"
             ],
             [
              0.7777777777777778,
              "#fb9f3a"
             ],
             [
              0.8888888888888888,
              "#fdca26"
             ],
             [
              1,
              "#f0f921"
             ]
            ],
            "type": "histogram2dcontour"
           }
          ],
          "mesh3d": [
           {
            "colorbar": {
             "outlinewidth": 0,
             "ticks": ""
            },
            "type": "mesh3d"
           }
          ],
          "parcoords": [
           {
            "line": {
             "colorbar": {
              "outlinewidth": 0,
              "ticks": ""
             }
            },
            "type": "parcoords"
           }
          ],
          "pie": [
           {
            "automargin": true,
            "type": "pie"
           }
          ],
          "scatter": [
           {
            "marker": {
             "colorbar": {
              "outlinewidth": 0,
              "ticks": ""
             }
            },
            "type": "scatter"
           }
          ],
          "scatter3d": [
           {
            "line": {
             "colorbar": {
              "outlinewidth": 0,
              "ticks": ""
             }
            },
            "marker": {
             "colorbar": {
              "outlinewidth": 0,
              "ticks": ""
             }
            },
            "type": "scatter3d"
           }
          ],
          "scattercarpet": [
           {
            "marker": {
             "colorbar": {
              "outlinewidth": 0,
              "ticks": ""
             }
            },
            "type": "scattercarpet"
           }
          ],
          "scattergeo": [
           {
            "marker": {
             "colorbar": {
              "outlinewidth": 0,
              "ticks": ""
             }
            },
            "type": "scattergeo"
           }
          ],
          "scattergl": [
           {
            "marker": {
             "colorbar": {
              "outlinewidth": 0,
              "ticks": ""
             }
            },
            "type": "scattergl"
           }
          ],
          "scattermapbox": [
           {
            "marker": {
             "colorbar": {
              "outlinewidth": 0,
              "ticks": ""
             }
            },
            "type": "scattermapbox"
           }
          ],
          "scatterpolar": [
           {
            "marker": {
             "colorbar": {
              "outlinewidth": 0,
              "ticks": ""
             }
            },
            "type": "scatterpolar"
           }
          ],
          "scatterpolargl": [
           {
            "marker": {
             "colorbar": {
              "outlinewidth": 0,
              "ticks": ""
             }
            },
            "type": "scatterpolargl"
           }
          ],
          "scatterternary": [
           {
            "marker": {
             "colorbar": {
              "outlinewidth": 0,
              "ticks": ""
             }
            },
            "type": "scatterternary"
           }
          ],
          "surface": [
           {
            "colorbar": {
             "outlinewidth": 0,
             "ticks": ""
            },
            "colorscale": [
             [
              0,
              "#0d0887"
             ],
             [
              0.1111111111111111,
              "#46039f"
             ],
             [
              0.2222222222222222,
              "#7201a8"
             ],
             [
              0.3333333333333333,
              "#9c179e"
             ],
             [
              0.4444444444444444,
              "#bd3786"
             ],
             [
              0.5555555555555556,
              "#d8576b"
             ],
             [
              0.6666666666666666,
              "#ed7953"
             ],
             [
              0.7777777777777778,
              "#fb9f3a"
             ],
             [
              0.8888888888888888,
              "#fdca26"
             ],
             [
              1,
              "#f0f921"
             ]
            ],
            "type": "surface"
           }
          ],
          "table": [
           {
            "cells": {
             "fill": {
              "color": "#EBF0F8"
             },
             "line": {
              "color": "white"
             }
            },
            "header": {
             "fill": {
              "color": "#C8D4E3"
             },
             "line": {
              "color": "white"
             }
            },
            "type": "table"
           }
          ]
         },
         "layout": {
          "annotationdefaults": {
           "arrowcolor": "#2a3f5f",
           "arrowhead": 0,
           "arrowwidth": 1
          },
          "autotypenumbers": "strict",
          "coloraxis": {
           "colorbar": {
            "outlinewidth": 0,
            "ticks": ""
           }
          },
          "colorscale": {
           "diverging": [
            [
             0,
             "#8e0152"
            ],
            [
             0.1,
             "#c51b7d"
            ],
            [
             0.2,
             "#de77ae"
            ],
            [
             0.3,
             "#f1b6da"
            ],
            [
             0.4,
             "#fde0ef"
            ],
            [
             0.5,
             "#f7f7f7"
            ],
            [
             0.6,
             "#e6f5d0"
            ],
            [
             0.7,
             "#b8e186"
            ],
            [
             0.8,
             "#7fbc41"
            ],
            [
             0.9,
             "#4d9221"
            ],
            [
             1,
             "#276419"
            ]
           ],
           "sequential": [
            [
             0,
             "#0d0887"
            ],
            [
             0.1111111111111111,
             "#46039f"
            ],
            [
             0.2222222222222222,
             "#7201a8"
            ],
            [
             0.3333333333333333,
             "#9c179e"
            ],
            [
             0.4444444444444444,
             "#bd3786"
            ],
            [
             0.5555555555555556,
             "#d8576b"
            ],
            [
             0.6666666666666666,
             "#ed7953"
            ],
            [
             0.7777777777777778,
             "#fb9f3a"
            ],
            [
             0.8888888888888888,
             "#fdca26"
            ],
            [
             1,
             "#f0f921"
            ]
           ],
           "sequentialminus": [
            [
             0,
             "#0d0887"
            ],
            [
             0.1111111111111111,
             "#46039f"
            ],
            [
             0.2222222222222222,
             "#7201a8"
            ],
            [
             0.3333333333333333,
             "#9c179e"
            ],
            [
             0.4444444444444444,
             "#bd3786"
            ],
            [
             0.5555555555555556,
             "#d8576b"
            ],
            [
             0.6666666666666666,
             "#ed7953"
            ],
            [
             0.7777777777777778,
             "#fb9f3a"
            ],
            [
             0.8888888888888888,
             "#fdca26"
            ],
            [
             1,
             "#f0f921"
            ]
           ]
          },
          "colorway": [
           "#636efa",
           "#EF553B",
           "#00cc96",
           "#ab63fa",
           "#FFA15A",
           "#19d3f3",
           "#FF6692",
           "#B6E880",
           "#FF97FF",
           "#FECB52"
          ],
          "font": {
           "color": "#2a3f5f"
          },
          "geo": {
           "bgcolor": "white",
           "lakecolor": "white",
           "landcolor": "#E5ECF6",
           "showlakes": true,
           "showland": true,
           "subunitcolor": "white"
          },
          "hoverlabel": {
           "align": "left"
          },
          "hovermode": "closest",
          "mapbox": {
           "style": "light"
          },
          "paper_bgcolor": "white",
          "plot_bgcolor": "#E5ECF6",
          "polar": {
           "angularaxis": {
            "gridcolor": "white",
            "linecolor": "white",
            "ticks": ""
           },
           "bgcolor": "#E5ECF6",
           "radialaxis": {
            "gridcolor": "white",
            "linecolor": "white",
            "ticks": ""
           }
          },
          "scene": {
           "xaxis": {
            "backgroundcolor": "#E5ECF6",
            "gridcolor": "white",
            "gridwidth": 2,
            "linecolor": "white",
            "showbackground": true,
            "ticks": "",
            "zerolinecolor": "white"
           },
           "yaxis": {
            "backgroundcolor": "#E5ECF6",
            "gridcolor": "white",
            "gridwidth": 2,
            "linecolor": "white",
            "showbackground": true,
            "ticks": "",
            "zerolinecolor": "white"
           },
           "zaxis": {
            "backgroundcolor": "#E5ECF6",
            "gridcolor": "white",
            "gridwidth": 2,
            "linecolor": "white",
            "showbackground": true,
            "ticks": "",
            "zerolinecolor": "white"
           }
          },
          "shapedefaults": {
           "line": {
            "color": "#2a3f5f"
           }
          },
          "ternary": {
           "aaxis": {
            "gridcolor": "white",
            "linecolor": "white",
            "ticks": ""
           },
           "baxis": {
            "gridcolor": "white",
            "linecolor": "white",
            "ticks": ""
           },
           "bgcolor": "#E5ECF6",
           "caxis": {
            "gridcolor": "white",
            "linecolor": "white",
            "ticks": ""
           }
          },
          "title": {
           "x": 0.05
          },
          "xaxis": {
           "automargin": true,
           "gridcolor": "white",
           "linecolor": "white",
           "ticks": "",
           "title": {
            "standoff": 15
           },
           "zerolinecolor": "white",
           "zerolinewidth": 2
          },
          "yaxis": {
           "automargin": true,
           "gridcolor": "white",
           "linecolor": "white",
           "ticks": "",
           "title": {
            "standoff": 15
           },
           "zerolinecolor": "white",
           "zerolinewidth": 2
          }
         }
        }
       }
      },
      "image/png": "[encoded data removed]",
      "text/html": [
       "<div>                            <div id=\"69a94f88-57b6-41c0-aba3-e85b5f8f60eb\" class=\"plotly-graph-div\" style=\"height:525px; width:100%;\"></div>            <script type=\"text/javascript\">                require([\"plotly\"], function(Plotly) {                    window.PLOTLYENV=window.PLOTLYENV || {};                                    if (document.getElementById(\"69a94f88-57b6-41c0-aba3-e85b5f8f60eb\")) {                    Plotly.newPlot(                        \"69a94f88-57b6-41c0-aba3-e85b5f8f60eb\",                        [{\"hovertemplate\":\"r=%{r}<br>theta=%{theta}<extra></extra>\",\"legendgroup\":\"\",\"line\":{\"color\":\"green\",\"dash\":\"solid\"},\"marker\":{\"symbol\":\"circle\"},\"mode\":\"lines\",\"name\":\"\",\"r\":[10,4,10,6,9,7,10],\"showlegend\":false,\"subplot\":\"polar\",\"theta\":[\"Wins\",\"Losses\",\"Tackles\",\"Offsides\",\"Fouls\",\"Interceptions\",\"Wins\"],\"type\":\"scatterpolar\",\"fill\":\"toself\"}],                        {\"template\":{\"data\":{\"bar\":[{\"error_x\":{\"color\":\"#2a3f5f\"},\"error_y\":{\"color\":\"#2a3f5f\"},\"marker\":{\"line\":{\"color\":\"#E5ECF6\",\"width\":0.5},\"pattern\":{\"fillmode\":\"overlay\",\"size\":10,\"solidity\":0.2}},\"type\":\"bar\"}],\"barpolar\":[{\"marker\":{\"line\":{\"color\":\"#E5ECF6\",\"width\":0.5},\"pattern\":{\"fillmode\":\"overlay\",\"size\":10,\"solidity\":0.2}},\"type\":\"barpolar\"}],\"carpet\":[{\"aaxis\":{\"endlinecolor\":\"#2a3f5f\",\"gridcolor\":\"white\",\"linecolor\":\"white\",\"minorgridcolor\":\"white\",\"startlinecolor\":\"#2a3f5f\"},\"baxis\":{\"endlinecolor\":\"#2a3f5f\",\"gridcolor\":\"white\",\"linecolor\":\"white\",\"minorgridcolor\":\"white\",\"startlinecolor\":\"#2a3f5f\"},\"type\":\"carpet\"}],\"choropleth\":[{\"colorbar\":{\"outlinewidth\":0,\"ticks\":\"\"},\"type\":\"choropleth\"}],\"contour\":[{\"colorbar\":{\"outlinewidth\":0,\"ticks\":\"\"},\"colorscale\":[[0.0,\"#0d0887\"],[0.1111111111111111,\"#46039f\"],[0.2222222222222222,\"#7201a8\"],[0.3333333333333333,\"#9c179e\"],[0.4444444444444444,\"#bd3786\"],[0.5555555555555556,\"#d8576b\"],[0.6666666666666666,\"#ed7953\"],[0.7777777777777778,\"#fb9f3a\"],[0.8888888888888888,\"#fdca26\"],[1.0,\"#f0f921\"]],\"type\":\"contour\"}],\"contourcarpet\":[{\"colorbar\":{\"outlinewidth\":0,\"ticks\":\"\"},\"type\":\"contourcarpet\"}],\"heatmap\":[{\"colorbar\":{\"outlinewidth\":0,\"ticks\":\"\"},\"colorscale\":[[0.0,\"#0d0887\"],[0.1111111111111111,\"#46039f\"],[0.2222222222222222,\"#7201a8\"],[0.3333333333333333,\"#9c179e\"],[0.4444444444444444,\"#bd3786\"],[0.5555555555555556,\"#d8576b\"],[0.6666666666666666,\"#ed7953\"],[0.7777777777777778,\"#fb9f3a\"],[0.8888888888888888,\"#fdca26\"],[1.0,\"#f0f921\"]],\"type\":\"heatmap\"}],\"heatmapgl\":[{\"colorbar\":{\"outlinewidth\":0,\"ticks\":\"\"},\"colorscale\":[[0.0,\"#0d0887\"],[0.1111111111111111,\"#46039f\"],[0.2222222222222222,\"#7201a8\"],[0.3333333333333333,\"#9c179e\"],[0.4444444444444444,\"#bd3786\"],[0.5555555555555556,\"#d8576b\"],[0.6666666666666666,\"#ed7953\"],[0.7777777777777778,\"#fb9f3a\"],[0.8888888888888888,\"#fdca26\"],[1.0,\"#f0f921\"]],\"type\":\"heatmapgl\"}],\"histogram\":[{\"marker\":{\"pattern\":{\"fillmode\":\"overlay\",\"size\":10,\"solidity\":0.2}},\"type\":\"histogram\"}],\"histogram2d\":[{\"colorbar\":{\"outlinewidth\":0,\"ticks\":\"\"},\"colorscale\":[[0.0,\"#0d0887\"],[0.1111111111111111,\"#46039f\"],[0.2222222222222222,\"#7201a8\"],[0.3333333333333333,\"#9c179e\"],[0.4444444444444444,\"#bd3786\"],[0.5555555555555556,\"#d8576b\"],[0.6666666666666666,\"#ed7953\"],[0.7777777777777778,\"#fb9f3a\"],[0.8888888888888888,\"#fdca26\"],[1.0,\"#f0f921\"]],\"type\":\"histogram2d\"}],\"histogram2dcontour\":[{\"colorbar\":{\"outlinewidth\":0,\"ticks\":\"\"},\"colorscale\":[[0.0,\"#0d0887\"],[0.1111111111111111,\"#46039f\"],[0.2222222222222222,\"#7201a8\"],[0.3333333333333333,\"#9c179e\"],[0.4444444444444444,\"#bd3786\"],[0.5555555555555556,\"#d8576b\"],[0.6666666666666666,\"#ed7953\"],[0.7777777777777778,\"#fb9f3a\"],[0.8888888888888888,\"#fdca26\"],[1.0,\"#f0f921\"]],\"type\":\"histogram2dcontour\"}],\"mesh3d\":[{\"colorbar\":{\"outlinewidth\":0,\"ticks\":\"\"},\"type\":\"mesh3d\"}],\"parcoords\":[{\"line\":{\"colorbar\":{\"outlinewidth\":0,\"ticks\":\"\"}},\"type\":\"parcoords\"}],\"pie\":[{\"automargin\":true,\"type\":\"pie\"}],\"scatter\":[{\"marker\":{\"colorbar\":{\"outlinewidth\":0,\"ticks\":\"\"}},\"type\":\"scatter\"}],\"scatter3d\":[{\"line\":{\"colorbar\":{\"outlinewidth\":0,\"ticks\":\"\"}},\"marker\":{\"colorbar\":{\"outlinewidth\":0,\"ticks\":\"\"}},\"type\":\"scatter3d\"}],\"scattercarpet\":[{\"marker\":{\"colorbar\":{\"outlinewidth\":0,\"ticks\":\"\"}},\"type\":\"scattercarpet\"}],\"scattergeo\":[{\"marker\":{\"colorbar\":{\"outlinewidth\":0,\"ticks\":\"\"}},\"type\":\"scattergeo\"}],\"scattergl\":[{\"marker\":{\"colorbar\":{\"outlinewidth\":0,\"ticks\":\"\"}},\"type\":\"scattergl\"}],\"scattermapbox\":[{\"marker\":{\"colorbar\":{\"outlinewidth\":0,\"ticks\":\"\"}},\"type\":\"scattermapbox\"}],\"scatterpolar\":[{\"marker\":{\"colorbar\":{\"outlinewidth\":0,\"ticks\":\"\"}},\"type\":\"scatterpolar\"}],\"scatterpolargl\":[{\"marker\":{\"colorbar\":{\"outlinewidth\":0,\"ticks\":\"\"}},\"type\":\"scatterpolargl\"}],\"scatterternary\":[{\"marker\":{\"colorbar\":{\"outlinewidth\":0,\"ticks\":\"\"}},\"type\":\"scatterternary\"}],\"surface\":[{\"colorbar\":{\"outlinewidth\":0,\"ticks\":\"\"},\"colorscale\":[[0.0,\"#0d0887\"],[0.1111111111111111,\"#46039f\"],[0.2222222222222222,\"#7201a8\"],[0.3333333333333333,\"#9c179e\"],[0.4444444444444444,\"#bd3786\"],[0.5555555555555556,\"#d8576b\"],[0.6666666666666666,\"#ed7953\"],[0.7777777777777778,\"#fb9f3a\"],[0.8888888888888888,\"#fdca26\"],[1.0,\"#f0f921\"]],\"type\":\"surface\"}],\"table\":[{\"cells\":{\"fill\":{\"color\":\"#EBF0F8\"},\"line\":{\"color\":\"white\"}},\"header\":{\"fill\":{\"color\":\"#C8D4E3\"},\"line\":{\"color\":\"white\"}},\"type\":\"table\"}]},\"layout\":{\"annotationdefaults\":{\"arrowcolor\":\"#2a3f5f\",\"arrowhead\":0,\"arrowwidth\":1},\"autotypenumbers\":\"strict\",\"coloraxis\":{\"colorbar\":{\"outlinewidth\":0,\"ticks\":\"\"}},\"colorscale\":{\"diverging\":[[0,\"#8e0152\"],[0.1,\"#c51b7d\"],[0.2,\"#de77ae\"],[0.3,\"#f1b6da\"],[0.4,\"#fde0ef\"],[0.5,\"#f7f7f7\"],[0.6,\"#e6f5d0\"],[0.7,\"#b8e186\"],[0.8,\"#7fbc41\"],[0.9,\"#4d9221\"],[1,\"#276419\"]],\"sequential\":[[0.0,\"#0d0887\"],[0.1111111111111111,\"#46039f\"],[0.2222222222222222,\"#7201a8\"],[0.3333333333333333,\"#9c179e\"],[0.4444444444444444,\"#bd3786\"],[0.5555555555555556,\"#d8576b\"],[0.6666666666666666,\"#ed7953\"],[0.7777777777777778,\"#fb9f3a\"],[0.8888888888888888,\"#fdca26\"],[1.0,\"#f0f921\"]],\"sequentialminus\":[[0.0,\"#0d0887\"],[0.1111111111111111,\"#46039f\"],[0.2222222222222222,\"#7201a8\"],[0.3333333333333333,\"#9c179e\"],[0.4444444444444444,\"#bd3786\"],[0.5555555555555556,\"#d8576b\"],[0.6666666666666666,\"#ed7953\"],[0.7777777777777778,\"#fb9f3a\"],[0.8888888888888888,\"#fdca26\"],[1.0,\"#f0f921\"]]},\"colorway\":[\"#636efa\",\"#EF553B\",\"#00cc96\",\"#ab63fa\",\"#FFA15A\",\"#19d3f3\",\"#FF6692\",\"#B6E880\",\"#FF97FF\",\"#FECB52\"],\"font\":{\"color\":\"#2a3f5f\"},\"geo\":{\"bgcolor\":\"white\",\"lakecolor\":\"white\",\"landcolor\":\"#E5ECF6\",\"showlakes\":true,\"showland\":true,\"subunitcolor\":\"white\"},\"hoverlabel\":{\"align\":\"left\"},\"hovermode\":\"closest\",\"mapbox\":{\"style\":\"light\"},\"paper_bgcolor\":\"white\",\"plot_bgcolor\":\"#E5ECF6\",\"polar\":{\"angularaxis\":{\"gridcolor\":\"white\",\"linecolor\":\"white\",\"ticks\":\"\"},\"bgcolor\":\"#E5ECF6\",\"radialaxis\":{\"gridcolor\":\"white\",\"linecolor\":\"white\",\"ticks\":\"\"}},\"scene\":{\"xaxis\":{\"backgroundcolor\":\"#E5ECF6\",\"gridcolor\":\"white\",\"gridwidth\":2,\"linecolor\":\"white\",\"showbackground\":true,\"ticks\":\"\",\"zerolinecolor\":\"white\"},\"yaxis\":{\"backgroundcolor\":\"#E5ECF6\",\"gridcolor\":\"white\",\"gridwidth\":2,\"linecolor\":\"white\",\"showbackground\":true,\"ticks\":\"\",\"zerolinecolor\":\"white\"},\"zaxis\":{\"backgroundcolor\":\"#E5ECF6\",\"gridcolor\":\"white\",\"gridwidth\":2,\"linecolor\":\"white\",\"showbackground\":true,\"ticks\":\"\",\"zerolinecolor\":\"white\"}},\"shapedefaults\":{\"line\":{\"color\":\"#2a3f5f\"}},\"ternary\":{\"aaxis\":{\"gridcolor\":\"white\",\"linecolor\":\"white\",\"ticks\":\"\"},\"baxis\":{\"gridcolor\":\"white\",\"linecolor\":\"white\",\"ticks\":\"\"},\"bgcolor\":\"#E5ECF6\",\"caxis\":{\"gridcolor\":\"white\",\"linecolor\":\"white\",\"ticks\":\"\"}},\"title\":{\"x\":0.05},\"xaxis\":{\"automargin\":true,\"gridcolor\":\"white\",\"linecolor\":\"white\",\"ticks\":\"\",\"title\":{\"standoff\":15},\"zerolinecolor\":\"white\",\"zerolinewidth\":2},\"yaxis\":{\"automargin\":true,\"gridcolor\":\"white\",\"linecolor\":\"white\",\"ticks\":\"\",\"title\":{\"standoff\":15},\"zerolinecolor\":\"white\",\"zerolinewidth\":2}}},\"polar\":{\"domain\":{\"x\":[0.0,1.0],\"y\":[0.0,1.0]},\"angularaxis\":{\"direction\":\"clockwise\",\"rotation\":90}},\"legend\":{\"tracegroupgap\":0},\"margin\":{\"t\":60}},                        {\"responsive\": true}                    ).then(function(){\n",
       "                            \n",
       "var gd = document.getElementById('69a94f88-57b6-41c0-aba3-e85b5f8f60eb');\n",
       "var x = new MutationObserver(function (mutations, observer) {{\n",
       "        var display = window.getComputedStyle(gd).display;\n",
       "        if (!display || display === 'none') {{\n",
       "            console.log([gd, 'removed!']);\n",
       "            Plotly.purge(gd);\n",
       "            observer.disconnect();\n",
       "        }}\n",
       "}});\n",
       "\n",
       "// Listen for the removal of the full notebook cells\n",
       "var notebookContainer = gd.closest('#notebook-container');\n",
       "if (notebookContainer) {{\n",
       "    x.observe(notebookContainer, {childList: true});\n",
       "}}\n",
       "\n",
       "// Listen for the clearing of the current output cell\n",
       "var outputEl = gd.closest('.output');\n",
       "if (outputEl) {{\n",
       "    x.observe(outputEl, {childList: true});\n",
       "}}\n",
       "\n",
       "                        })                };                });            </script>        </div>"
      ]
     },
     "metadata": {},
     "output_type": "display_data"
    }
   ],
   "source": [
    "df=data[data['full_name'] == 'Mohamed Salah']\n",
    "names=['Wins', 'Losses', 'Tackles', 'Offsides', 'Fouls', 'Interceptions']\n",
    "values=[int(list(df['Wins'])[0]),\n",
    "        int(list(df['Losses'])[0]), \n",
    "        int(list(df['Tackles'])[0]),\n",
    "        int(list(df['Offsides'])[0]),\n",
    "        int(list(df['Fouls'])[0]),\n",
    "        int(list(df['Interceptions'])[0])]\n",
    "fig = px.line_polar(r=values, theta=names, line_close=True, color_discrete_sequence=['#303F1C'])\n",
    "fig.update_traces(fill='toself')\n",
    "fig.show()"
   ]
  },
  {
   "cell_type": "code",
   "execution_count": 171,
   "id": "ab46a3de-eaee-4712-b8c1-197befb97c70",
   "metadata": {},
   "outputs": [],
   "source": [
    "df=data[data['full_name'] == 'Mohamed Salah']\n",
    "names=['Wins', 'Losses', 'Tackles', 'Offsides', 'Fouls', 'Interceptions']\n",
    "values=[int(list(df['Wins'])[0]),\n",
    "        int(list(df['Losses'])[0]), \n",
    "        int(list(df['Tackles'])[0]),\n",
    "        int(list(df['Offsides'])[0]),\n",
    "        int(list(df['Fouls'])[0]),\n",
    "        int(list(df['Interceptions'])[0])]\n",
    "fig = px.treemap(\n",
    "    names = names,\n",
    "    parents = [\"\"]*len(names),\n",
    "    values=values,\n",
    "    color_discrete_sequence=['#1D5B2C', '#5A9B1A', 'green']\n",
    ")\n",
    "fig.update_layout(margin = dict(t=0, l=0, r=0, b=0))"
   ]
  },
  {
   "cell_type": "code",
   "execution_count": 169,
   "id": "4ffcc0f8-b002-48dc-ac16-5492a1b24f71",
   "metadata": {},
   "outputs": [
    {
     "data": {
      "text/plain": [
       "[10, 4, 10, 6, 9, 7]"
      ]
     },
     "execution_count": 169,
     "metadata": {},
     "output_type": "execute_result"
    }
   ],
   "source": [
    "values"
   ]
  },
  {
   "cell_type": "code",
   "execution_count": 194,
   "id": "a4afea63-84dd-473d-b223-61d2f6ca3503",
   "metadata": {},
   "outputs": [
    {
     "data": {
      "application/vnd.plotly.v1+json": {
       "config": {
        "plotlyServerURL": "https://plot.ly"
       },
       "data": [
        {
         "domain": {
          "x": [
           0,
           1
          ],
          "y": [
           0,
           1
          ]
         },
         "hovertemplate": "label=%{label}<br>value=%{value}<br>parent=%{parent}<extra></extra>",
         "labels": [
          "Wins",
          "Losses",
          "Tackles",
          "Offsides",
          "Fouls",
          "Interceptions"
         ],
         "name": "",
         "parents": [
          "",
          "",
          "",
          "",
          "",
          ""
         ],
         "type": "treemap",
         "values": [
          10,
          4,
          10,
          6,
          9,
          7
         ]
        }
       ],
       "layout": {
        "autosize": true,
        "legend": {
         "tracegroupgap": 0
        },
        "margin": {
         "b": 0,
         "l": 0,
         "r": 0,
         "t": 0
        },
        "template": {
         "data": {
          "bar": [
           {
            "error_x": {
             "color": "#2a3f5f"
            },
            "error_y": {
             "color": "#2a3f5f"
            },
            "marker": {
             "line": {
              "color": "#E5ECF6",
              "width": 0.5
             },
             "pattern": {
              "fillmode": "overlay",
              "size": 10,
              "solidity": 0.2
             }
            },
            "type": "bar"
           }
          ],
          "barpolar": [
           {
            "marker": {
             "line": {
              "color": "#E5ECF6",
              "width": 0.5
             },
             "pattern": {
              "fillmode": "overlay",
              "size": 10,
              "solidity": 0.2
             }
            },
            "type": "barpolar"
           }
          ],
          "carpet": [
           {
            "aaxis": {
             "endlinecolor": "#2a3f5f",
             "gridcolor": "white",
             "linecolor": "white",
             "minorgridcolor": "white",
             "startlinecolor": "#2a3f5f"
            },
            "baxis": {
             "endlinecolor": "#2a3f5f",
             "gridcolor": "white",
             "linecolor": "white",
             "minorgridcolor": "white",
             "startlinecolor": "#2a3f5f"
            },
            "type": "carpet"
           }
          ],
          "choropleth": [
           {
            "colorbar": {
             "outlinewidth": 0,
             "ticks": ""
            },
            "type": "choropleth"
           }
          ],
          "contour": [
           {
            "colorbar": {
             "outlinewidth": 0,
             "ticks": ""
            },
            "colorscale": [
             [
              0,
              "#0d0887"
             ],
             [
              0.1111111111111111,
              "#46039f"
             ],
             [
              0.2222222222222222,
              "#7201a8"
             ],
             [
              0.3333333333333333,
              "#9c179e"
             ],
             [
              0.4444444444444444,
              "#bd3786"
             ],
             [
              0.5555555555555556,
              "#d8576b"
             ],
             [
              0.6666666666666666,
              "#ed7953"
             ],
             [
              0.7777777777777778,
              "#fb9f3a"
             ],
             [
              0.8888888888888888,
              "#fdca26"
             ],
             [
              1,
              "#f0f921"
             ]
            ],
            "type": "contour"
           }
          ],
          "contourcarpet": [
           {
            "colorbar": {
             "outlinewidth": 0,
             "ticks": ""
            },
            "type": "contourcarpet"
           }
          ],
          "heatmap": [
           {
            "colorbar": {
             "outlinewidth": 0,
             "ticks": ""
            },
            "colorscale": [
             [
              0,
              "#0d0887"
             ],
             [
              0.1111111111111111,
              "#46039f"
             ],
             [
              0.2222222222222222,
              "#7201a8"
             ],
             [
              0.3333333333333333,
              "#9c179e"
             ],
             [
              0.4444444444444444,
              "#bd3786"
             ],
             [
              0.5555555555555556,
              "#d8576b"
             ],
             [
              0.6666666666666666,
              "#ed7953"
             ],
             [
              0.7777777777777778,
              "#fb9f3a"
             ],
             [
              0.8888888888888888,
              "#fdca26"
             ],
             [
              1,
              "#f0f921"
             ]
            ],
            "type": "heatmap"
           }
          ],
          "heatmapgl": [
           {
            "colorbar": {
             "outlinewidth": 0,
             "ticks": ""
            },
            "colorscale": [
             [
              0,
              "#0d0887"
             ],
             [
              0.1111111111111111,
              "#46039f"
             ],
             [
              0.2222222222222222,
              "#7201a8"
             ],
             [
              0.3333333333333333,
              "#9c179e"
             ],
             [
              0.4444444444444444,
              "#bd3786"
             ],
             [
              0.5555555555555556,
              "#d8576b"
             ],
             [
              0.6666666666666666,
              "#ed7953"
             ],
             [
              0.7777777777777778,
              "#fb9f3a"
             ],
             [
              0.8888888888888888,
              "#fdca26"
             ],
             [
              1,
              "#f0f921"
             ]
            ],
            "type": "heatmapgl"
           }
          ],
          "histogram": [
           {
            "marker": {
             "pattern": {
              "fillmode": "overlay",
              "size": 10,
              "solidity": 0.2
             }
            },
            "type": "histogram"
           }
          ],
          "histogram2d": [
           {
            "colorbar": {
             "outlinewidth": 0,
             "ticks": ""
            },
            "colorscale": [
             [
              0,
              "#0d0887"
             ],
             [
              0.1111111111111111,
              "#46039f"
             ],
             [
              0.2222222222222222,
              "#7201a8"
             ],
             [
              0.3333333333333333,
              "#9c179e"
             ],
             [
              0.4444444444444444,
              "#bd3786"
             ],
             [
              0.5555555555555556,
              "#d8576b"
             ],
             [
              0.6666666666666666,
              "#ed7953"
             ],
             [
              0.7777777777777778,
              "#fb9f3a"
             ],
             [
              0.8888888888888888,
              "#fdca26"
             ],
             [
              1,
              "#f0f921"
             ]
            ],
            "type": "histogram2d"
           }
          ],
          "histogram2dcontour": [
           {
            "colorbar": {
             "outlinewidth": 0,
             "ticks": ""
            },
            "colorscale": [
             [
              0,
              "#0d0887"
             ],
             [
              0.1111111111111111,
              "#46039f"
             ],
             [
              0.2222222222222222,
              "#7201a8"
             ],
             [
              0.3333333333333333,
              "#9c179e"
             ],
             [
              0.4444444444444444,
              "#bd3786"
             ],
             [
              0.5555555555555556,
              "#d8576b"
             ],
             [
              0.6666666666666666,
              "#ed7953"
             ],
             [
              0.7777777777777778,
              "#fb9f3a"
             ],
             [
              0.8888888888888888,
              "#fdca26"
             ],
             [
              1,
              "#f0f921"
             ]
            ],
            "type": "histogram2dcontour"
           }
          ],
          "mesh3d": [
           {
            "colorbar": {
             "outlinewidth": 0,
             "ticks": ""
            },
            "type": "mesh3d"
           }
          ],
          "parcoords": [
           {
            "line": {
             "colorbar": {
              "outlinewidth": 0,
              "ticks": ""
             }
            },
            "type": "parcoords"
           }
          ],
          "pie": [
           {
            "automargin": true,
            "type": "pie"
           }
          ],
          "scatter": [
           {
            "marker": {
             "colorbar": {
              "outlinewidth": 0,
              "ticks": ""
             }
            },
            "type": "scatter"
           }
          ],
          "scatter3d": [
           {
            "line": {
             "colorbar": {
              "outlinewidth": 0,
              "ticks": ""
             }
            },
            "marker": {
             "colorbar": {
              "outlinewidth": 0,
              "ticks": ""
             }
            },
            "type": "scatter3d"
           }
          ],
          "scattercarpet": [
           {
            "marker": {
             "colorbar": {
              "outlinewidth": 0,
              "ticks": ""
             }
            },
            "type": "scattercarpet"
           }
          ],
          "scattergeo": [
           {
            "marker": {
             "colorbar": {
              "outlinewidth": 0,
              "ticks": ""
             }
            },
            "type": "scattergeo"
           }
          ],
          "scattergl": [
           {
            "marker": {
             "colorbar": {
              "outlinewidth": 0,
              "ticks": ""
             }
            },
            "type": "scattergl"
           }
          ],
          "scattermapbox": [
           {
            "marker": {
             "colorbar": {
              "outlinewidth": 0,
              "ticks": ""
             }
            },
            "type": "scattermapbox"
           }
          ],
          "scatterpolar": [
           {
            "marker": {
             "colorbar": {
              "outlinewidth": 0,
              "ticks": ""
             }
            },
            "type": "scatterpolar"
           }
          ],
          "scatterpolargl": [
           {
            "marker": {
             "colorbar": {
              "outlinewidth": 0,
              "ticks": ""
             }
            },
            "type": "scatterpolargl"
           }
          ],
          "scatterternary": [
           {
            "marker": {
             "colorbar": {
              "outlinewidth": 0,
              "ticks": ""
             }
            },
            "type": "scatterternary"
           }
          ],
          "surface": [
           {
            "colorbar": {
             "outlinewidth": 0,
             "ticks": ""
            },
            "colorscale": [
             [
              0,
              "#0d0887"
             ],
             [
              0.1111111111111111,
              "#46039f"
             ],
             [
              0.2222222222222222,
              "#7201a8"
             ],
             [
              0.3333333333333333,
              "#9c179e"
             ],
             [
              0.4444444444444444,
              "#bd3786"
             ],
             [
              0.5555555555555556,
              "#d8576b"
             ],
             [
              0.6666666666666666,
              "#ed7953"
             ],
             [
              0.7777777777777778,
              "#fb9f3a"
             ],
             [
              0.8888888888888888,
              "#fdca26"
             ],
             [
              1,
              "#f0f921"
             ]
            ],
            "type": "surface"
           }
          ],
          "table": [
           {
            "cells": {
             "fill": {
              "color": "#EBF0F8"
             },
             "line": {
              "color": "white"
             }
            },
            "header": {
             "fill": {
              "color": "#C8D4E3"
             },
             "line": {
              "color": "white"
             }
            },
            "type": "table"
           }
          ]
         },
         "layout": {
          "annotationdefaults": {
           "arrowcolor": "#2a3f5f",
           "arrowhead": 0,
           "arrowwidth": 1
          },
          "autotypenumbers": "strict",
          "coloraxis": {
           "colorbar": {
            "outlinewidth": 0,
            "ticks": ""
           }
          },
          "colorscale": {
           "diverging": [
            [
             0,
             "#8e0152"
            ],
            [
             0.1,
             "#c51b7d"
            ],
            [
             0.2,
             "#de77ae"
            ],
            [
             0.3,
             "#f1b6da"
            ],
            [
             0.4,
             "#fde0ef"
            ],
            [
             0.5,
             "#f7f7f7"
            ],
            [
             0.6,
             "#e6f5d0"
            ],
            [
             0.7,
             "#b8e186"
            ],
            [
             0.8,
             "#7fbc41"
            ],
            [
             0.9,
             "#4d9221"
            ],
            [
             1,
             "#276419"
            ]
           ],
           "sequential": [
            [
             0,
             "#0d0887"
            ],
            [
             0.1111111111111111,
             "#46039f"
            ],
            [
             0.2222222222222222,
             "#7201a8"
            ],
            [
             0.3333333333333333,
             "#9c179e"
            ],
            [
             0.4444444444444444,
             "#bd3786"
            ],
            [
             0.5555555555555556,
             "#d8576b"
            ],
            [
             0.6666666666666666,
             "#ed7953"
            ],
            [
             0.7777777777777778,
             "#fb9f3a"
            ],
            [
             0.8888888888888888,
             "#fdca26"
            ],
            [
             1,
             "#f0f921"
            ]
           ],
           "sequentialminus": [
            [
             0,
             "#0d0887"
            ],
            [
             0.1111111111111111,
             "#46039f"
            ],
            [
             0.2222222222222222,
             "#7201a8"
            ],
            [
             0.3333333333333333,
             "#9c179e"
            ],
            [
             0.4444444444444444,
             "#bd3786"
            ],
            [
             0.5555555555555556,
             "#d8576b"
            ],
            [
             0.6666666666666666,
             "#ed7953"
            ],
            [
             0.7777777777777778,
             "#fb9f3a"
            ],
            [
             0.8888888888888888,
             "#fdca26"
            ],
            [
             1,
             "#f0f921"
            ]
           ]
          },
          "colorway": [
           "#636efa",
           "#EF553B",
           "#00cc96",
           "#ab63fa",
           "#FFA15A",
           "#19d3f3",
           "#FF6692",
           "#B6E880",
           "#FF97FF",
           "#FECB52"
          ],
          "font": {
           "color": "#2a3f5f"
          },
          "geo": {
           "bgcolor": "white",
           "lakecolor": "white",
           "landcolor": "#E5ECF6",
           "showlakes": true,
           "showland": true,
           "subunitcolor": "white"
          },
          "hoverlabel": {
           "align": "left"
          },
          "hovermode": "closest",
          "mapbox": {
           "style": "light"
          },
          "paper_bgcolor": "white",
          "plot_bgcolor": "#E5ECF6",
          "polar": {
           "angularaxis": {
            "gridcolor": "white",
            "linecolor": "white",
            "ticks": ""
           },
           "bgcolor": "#E5ECF6",
           "radialaxis": {
            "gridcolor": "white",
            "linecolor": "white",
            "ticks": ""
           }
          },
          "scene": {
           "xaxis": {
            "backgroundcolor": "#E5ECF6",
            "gridcolor": "white",
            "gridwidth": 2,
            "linecolor": "white",
            "showbackground": true,
            "ticks": "",
            "zerolinecolor": "white"
           },
           "yaxis": {
            "backgroundcolor": "#E5ECF6",
            "gridcolor": "white",
            "gridwidth": 2,
            "linecolor": "white",
            "showbackground": true,
            "ticks": "",
            "zerolinecolor": "white"
           },
           "zaxis": {
            "backgroundcolor": "#E5ECF6",
            "gridcolor": "white",
            "gridwidth": 2,
            "linecolor": "white",
            "showbackground": true,
            "ticks": "",
            "zerolinecolor": "white"
           }
          },
          "shapedefaults": {
           "line": {
            "color": "#2a3f5f"
           }
          },
          "ternary": {
           "aaxis": {
            "gridcolor": "white",
            "linecolor": "white",
            "ticks": ""
           },
           "baxis": {
            "gridcolor": "white",
            "linecolor": "white",
            "ticks": ""
           },
           "bgcolor": "#E5ECF6",
           "caxis": {
            "gridcolor": "white",
            "linecolor": "white",
            "ticks": ""
           }
          },
          "title": {
           "x": 0.05
          },
          "xaxis": {
           "automargin": true,
           "gridcolor": "white",
           "linecolor": "white",
           "ticks": "",
           "title": {
            "standoff": 15
           },
           "zerolinecolor": "white",
           "zerolinewidth": 2
          },
          "yaxis": {
           "automargin": true,
           "gridcolor": "white",
           "linecolor": "white",
           "ticks": "",
           "title": {
            "standoff": 15
           },
           "zerolinecolor": "white",
           "zerolinewidth": 2
          }
         }
        },
        "treemapcolorway": [
         "#1D5B2C",
         "#5A9B1A",
         "green"
        ]
       }
      },
      "image/png": "[encoded data removed]",
      "text/html": [
       "<div>                            <div id=\"08adedf0-3a00-47dd-af82-f2cba494c746\" class=\"plotly-graph-div\" style=\"height:525px; width:100%;\"></div>            <script type=\"text/javascript\">                require([\"plotly\"], function(Plotly) {                    window.PLOTLYENV=window.PLOTLYENV || {};                                    if (document.getElementById(\"08adedf0-3a00-47dd-af82-f2cba494c746\")) {                    Plotly.newPlot(                        \"08adedf0-3a00-47dd-af82-f2cba494c746\",                        [{\"domain\":{\"x\":[0.0,1.0],\"y\":[0.0,1.0]},\"hovertemplate\":\"label=%{label}<br>value=%{value}<br>parent=%{parent}<extra></extra>\",\"labels\":[\"Wins\",\"Losses\",\"Tackles\",\"Offsides\",\"Fouls\",\"Interceptions\"],\"name\":\"\",\"parents\":[\"\",\"\",\"\",\"\",\"\",\"\"],\"values\":[10,4,10,6,9,7],\"type\":\"treemap\"}],                        {\"template\":{\"data\":{\"bar\":[{\"error_x\":{\"color\":\"#2a3f5f\"},\"error_y\":{\"color\":\"#2a3f5f\"},\"marker\":{\"line\":{\"color\":\"#E5ECF6\",\"width\":0.5},\"pattern\":{\"fillmode\":\"overlay\",\"size\":10,\"solidity\":0.2}},\"type\":\"bar\"}],\"barpolar\":[{\"marker\":{\"line\":{\"color\":\"#E5ECF6\",\"width\":0.5},\"pattern\":{\"fillmode\":\"overlay\",\"size\":10,\"solidity\":0.2}},\"type\":\"barpolar\"}],\"carpet\":[{\"aaxis\":{\"endlinecolor\":\"#2a3f5f\",\"gridcolor\":\"white\",\"linecolor\":\"white\",\"minorgridcolor\":\"white\",\"startlinecolor\":\"#2a3f5f\"},\"baxis\":{\"endlinecolor\":\"#2a3f5f\",\"gridcolor\":\"white\",\"linecolor\":\"white\",\"minorgridcolor\":\"white\",\"startlinecolor\":\"#2a3f5f\"},\"type\":\"carpet\"}],\"choropleth\":[{\"colorbar\":{\"outlinewidth\":0,\"ticks\":\"\"},\"type\":\"choropleth\"}],\"contour\":[{\"colorbar\":{\"outlinewidth\":0,\"ticks\":\"\"},\"colorscale\":[[0.0,\"#0d0887\"],[0.1111111111111111,\"#46039f\"],[0.2222222222222222,\"#7201a8\"],[0.3333333333333333,\"#9c179e\"],[0.4444444444444444,\"#bd3786\"],[0.5555555555555556,\"#d8576b\"],[0.6666666666666666,\"#ed7953\"],[0.7777777777777778,\"#fb9f3a\"],[0.8888888888888888,\"#fdca26\"],[1.0,\"#f0f921\"]],\"type\":\"contour\"}],\"contourcarpet\":[{\"colorbar\":{\"outlinewidth\":0,\"ticks\":\"\"},\"type\":\"contourcarpet\"}],\"heatmap\":[{\"colorbar\":{\"outlinewidth\":0,\"ticks\":\"\"},\"colorscale\":[[0.0,\"#0d0887\"],[0.1111111111111111,\"#46039f\"],[0.2222222222222222,\"#7201a8\"],[0.3333333333333333,\"#9c179e\"],[0.4444444444444444,\"#bd3786\"],[0.5555555555555556,\"#d8576b\"],[0.6666666666666666,\"#ed7953\"],[0.7777777777777778,\"#fb9f3a\"],[0.8888888888888888,\"#fdca26\"],[1.0,\"#f0f921\"]],\"type\":\"heatmap\"}],\"heatmapgl\":[{\"colorbar\":{\"outlinewidth\":0,\"ticks\":\"\"},\"colorscale\":[[0.0,\"#0d0887\"],[0.1111111111111111,\"#46039f\"],[0.2222222222222222,\"#7201a8\"],[0.3333333333333333,\"#9c179e\"],[0.4444444444444444,\"#bd3786\"],[0.5555555555555556,\"#d8576b\"],[0.6666666666666666,\"#ed7953\"],[0.7777777777777778,\"#fb9f3a\"],[0.8888888888888888,\"#fdca26\"],[1.0,\"#f0f921\"]],\"type\":\"heatmapgl\"}],\"histogram\":[{\"marker\":{\"pattern\":{\"fillmode\":\"overlay\",\"size\":10,\"solidity\":0.2}},\"type\":\"histogram\"}],\"histogram2d\":[{\"colorbar\":{\"outlinewidth\":0,\"ticks\":\"\"},\"colorscale\":[[0.0,\"#0d0887\"],[0.1111111111111111,\"#46039f\"],[0.2222222222222222,\"#7201a8\"],[0.3333333333333333,\"#9c179e\"],[0.4444444444444444,\"#bd3786\"],[0.5555555555555556,\"#d8576b\"],[0.6666666666666666,\"#ed7953\"],[0.7777777777777778,\"#fb9f3a\"],[0.8888888888888888,\"#fdca26\"],[1.0,\"#f0f921\"]],\"type\":\"histogram2d\"}],\"histogram2dcontour\":[{\"colorbar\":{\"outlinewidth\":0,\"ticks\":\"\"},\"colorscale\":[[0.0,\"#0d0887\"],[0.1111111111111111,\"#46039f\"],[0.2222222222222222,\"#7201a8\"],[0.3333333333333333,\"#9c179e\"],[0.4444444444444444,\"#bd3786\"],[0.5555555555555556,\"#d8576b\"],[0.6666666666666666,\"#ed7953\"],[0.7777777777777778,\"#fb9f3a\"],[0.8888888888888888,\"#fdca26\"],[1.0,\"#f0f921\"]],\"type\":\"histogram2dcontour\"}],\"mesh3d\":[{\"colorbar\":{\"outlinewidth\":0,\"ticks\":\"\"},\"type\":\"mesh3d\"}],\"parcoords\":[{\"line\":{\"colorbar\":{\"outlinewidth\":0,\"ticks\":\"\"}},\"type\":\"parcoords\"}],\"pie\":[{\"automargin\":true,\"type\":\"pie\"}],\"scatter\":[{\"marker\":{\"colorbar\":{\"outlinewidth\":0,\"ticks\":\"\"}},\"type\":\"scatter\"}],\"scatter3d\":[{\"line\":{\"colorbar\":{\"outlinewidth\":0,\"ticks\":\"\"}},\"marker\":{\"colorbar\":{\"outlinewidth\":0,\"ticks\":\"\"}},\"type\":\"scatter3d\"}],\"scattercarpet\":[{\"marker\":{\"colorbar\":{\"outlinewidth\":0,\"ticks\":\"\"}},\"type\":\"scattercarpet\"}],\"scattergeo\":[{\"marker\":{\"colorbar\":{\"outlinewidth\":0,\"ticks\":\"\"}},\"type\":\"scattergeo\"}],\"scattergl\":[{\"marker\":{\"colorbar\":{\"outlinewidth\":0,\"ticks\":\"\"}},\"type\":\"scattergl\"}],\"scattermapbox\":[{\"marker\":{\"colorbar\":{\"outlinewidth\":0,\"ticks\":\"\"}},\"type\":\"scattermapbox\"}],\"scatterpolar\":[{\"marker\":{\"colorbar\":{\"outlinewidth\":0,\"ticks\":\"\"}},\"type\":\"scatterpolar\"}],\"scatterpolargl\":[{\"marker\":{\"colorbar\":{\"outlinewidth\":0,\"ticks\":\"\"}},\"type\":\"scatterpolargl\"}],\"scatterternary\":[{\"marker\":{\"colorbar\":{\"outlinewidth\":0,\"ticks\":\"\"}},\"type\":\"scatterternary\"}],\"surface\":[{\"colorbar\":{\"outlinewidth\":0,\"ticks\":\"\"},\"colorscale\":[[0.0,\"#0d0887\"],[0.1111111111111111,\"#46039f\"],[0.2222222222222222,\"#7201a8\"],[0.3333333333333333,\"#9c179e\"],[0.4444444444444444,\"#bd3786\"],[0.5555555555555556,\"#d8576b\"],[0.6666666666666666,\"#ed7953\"],[0.7777777777777778,\"#fb9f3a\"],[0.8888888888888888,\"#fdca26\"],[1.0,\"#f0f921\"]],\"type\":\"surface\"}],\"table\":[{\"cells\":{\"fill\":{\"color\":\"#EBF0F8\"},\"line\":{\"color\":\"white\"}},\"header\":{\"fill\":{\"color\":\"#C8D4E3\"},\"line\":{\"color\":\"white\"}},\"type\":\"table\"}]},\"layout\":{\"annotationdefaults\":{\"arrowcolor\":\"#2a3f5f\",\"arrowhead\":0,\"arrowwidth\":1},\"autotypenumbers\":\"strict\",\"coloraxis\":{\"colorbar\":{\"outlinewidth\":0,\"ticks\":\"\"}},\"colorscale\":{\"diverging\":[[0,\"#8e0152\"],[0.1,\"#c51b7d\"],[0.2,\"#de77ae\"],[0.3,\"#f1b6da\"],[0.4,\"#fde0ef\"],[0.5,\"#f7f7f7\"],[0.6,\"#e6f5d0\"],[0.7,\"#b8e186\"],[0.8,\"#7fbc41\"],[0.9,\"#4d9221\"],[1,\"#276419\"]],\"sequential\":[[0.0,\"#0d0887\"],[0.1111111111111111,\"#46039f\"],[0.2222222222222222,\"#7201a8\"],[0.3333333333333333,\"#9c179e\"],[0.4444444444444444,\"#bd3786\"],[0.5555555555555556,\"#d8576b\"],[0.6666666666666666,\"#ed7953\"],[0.7777777777777778,\"#fb9f3a\"],[0.8888888888888888,\"#fdca26\"],[1.0,\"#f0f921\"]],\"sequentialminus\":[[0.0,\"#0d0887\"],[0.1111111111111111,\"#46039f\"],[0.2222222222222222,\"#7201a8\"],[0.3333333333333333,\"#9c179e\"],[0.4444444444444444,\"#bd3786\"],[0.5555555555555556,\"#d8576b\"],[0.6666666666666666,\"#ed7953\"],[0.7777777777777778,\"#fb9f3a\"],[0.8888888888888888,\"#fdca26\"],[1.0,\"#f0f921\"]]},\"colorway\":[\"#636efa\",\"#EF553B\",\"#00cc96\",\"#ab63fa\",\"#FFA15A\",\"#19d3f3\",\"#FF6692\",\"#B6E880\",\"#FF97FF\",\"#FECB52\"],\"font\":{\"color\":\"#2a3f5f\"},\"geo\":{\"bgcolor\":\"white\",\"lakecolor\":\"white\",\"landcolor\":\"#E5ECF6\",\"showlakes\":true,\"showland\":true,\"subunitcolor\":\"white\"},\"hoverlabel\":{\"align\":\"left\"},\"hovermode\":\"closest\",\"mapbox\":{\"style\":\"light\"},\"paper_bgcolor\":\"white\",\"plot_bgcolor\":\"#E5ECF6\",\"polar\":{\"angularaxis\":{\"gridcolor\":\"white\",\"linecolor\":\"white\",\"ticks\":\"\"},\"bgcolor\":\"#E5ECF6\",\"radialaxis\":{\"gridcolor\":\"white\",\"linecolor\":\"white\",\"ticks\":\"\"}},\"scene\":{\"xaxis\":{\"backgroundcolor\":\"#E5ECF6\",\"gridcolor\":\"white\",\"gridwidth\":2,\"linecolor\":\"white\",\"showbackground\":true,\"ticks\":\"\",\"zerolinecolor\":\"white\"},\"yaxis\":{\"backgroundcolor\":\"#E5ECF6\",\"gridcolor\":\"white\",\"gridwidth\":2,\"linecolor\":\"white\",\"showbackground\":true,\"ticks\":\"\",\"zerolinecolor\":\"white\"},\"zaxis\":{\"backgroundcolor\":\"#E5ECF6\",\"gridcolor\":\"white\",\"gridwidth\":2,\"linecolor\":\"white\",\"showbackground\":true,\"ticks\":\"\",\"zerolinecolor\":\"white\"}},\"shapedefaults\":{\"line\":{\"color\":\"#2a3f5f\"}},\"ternary\":{\"aaxis\":{\"gridcolor\":\"white\",\"linecolor\":\"white\",\"ticks\":\"\"},\"baxis\":{\"gridcolor\":\"white\",\"linecolor\":\"white\",\"ticks\":\"\"},\"bgcolor\":\"#E5ECF6\",\"caxis\":{\"gridcolor\":\"white\",\"linecolor\":\"white\",\"ticks\":\"\"}},\"title\":{\"x\":0.05},\"xaxis\":{\"automargin\":true,\"gridcolor\":\"white\",\"linecolor\":\"white\",\"ticks\":\"\",\"title\":{\"standoff\":15},\"zerolinecolor\":\"white\",\"zerolinewidth\":2},\"yaxis\":{\"automargin\":true,\"gridcolor\":\"white\",\"linecolor\":\"white\",\"ticks\":\"\",\"title\":{\"standoff\":15},\"zerolinecolor\":\"white\",\"zerolinewidth\":2}}},\"legend\":{\"tracegroupgap\":0},\"margin\":{\"t\":0,\"l\":0,\"r\":0,\"b\":0},\"treemapcolorway\":[\"#1D5B2C\",\"#5A9B1A\",\"green\"]},                        {\"responsive\": true}                    ).then(function(){\n",
       "                            \n",
       "var gd = document.getElementById('08adedf0-3a00-47dd-af82-f2cba494c746');\n",
       "var x = new MutationObserver(function (mutations, observer) {{\n",
       "        var display = window.getComputedStyle(gd).display;\n",
       "        if (!display || display === 'none') {{\n",
       "            console.log([gd, 'removed!']);\n",
       "            Plotly.purge(gd);\n",
       "            observer.disconnect();\n",
       "        }}\n",
       "}});\n",
       "\n",
       "// Listen for the removal of the full notebook cells\n",
       "var notebookContainer = gd.closest('#notebook-container');\n",
       "if (notebookContainer) {{\n",
       "    x.observe(notebookContainer, {childList: true});\n",
       "}}\n",
       "\n",
       "// Listen for the clearing of the current output cell\n",
       "var outputEl = gd.closest('.output');\n",
       "if (outputEl) {{\n",
       "    x.observe(outputEl, {childList: true});\n",
       "}}\n",
       "\n",
       "                        })                };                });            </script>        </div>"
      ]
     },
     "metadata": {},
     "output_type": "display_data"
    }
   ],
   "source": [
    "fig = px.treemap(\n",
    "    names = names,\n",
    "    parents = [\"\"]*len(names),\n",
    "    values=values,\n",
    "    color_discrete_sequence=['#1D5B2C', '#5A9B1A', 'green']\n",
    ")\n",
    "fig.update_layout(margin = dict(t=0, l=0, r=0, b=0))\n",
    "fig.show()"
   ]
  }
 ],
 "metadata": {
  "kernelspec": {
   "display_name": "Python 3 (ipykernel)",
   "language": "python",
   "name": "python3"
  },
  "language_info": {
   "codemirror_mode": {
    "name": "ipython",
    "version": 3
   },
   "file_extension": ".py",
   "mimetype": "text/x-python",
   "name": "python",
   "nbconvert_exporter": "python",
   "pygments_lexer": "ipython3",
   "version": "3.9.6"
  }
 },
 "nbformat": 4,
 "nbformat_minor": 5
}
